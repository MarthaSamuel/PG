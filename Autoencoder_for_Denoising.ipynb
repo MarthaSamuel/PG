{
  "nbformat": 4,
  "nbformat_minor": 0,
  "metadata": {
    "kernelspec": {
      "display_name": "Python 3",
      "language": "python",
      "name": "python3"
    },
    "language_info": {
      "codemirror_mode": {
        "name": "ipython",
        "version": 3
      },
      "file_extension": ".py",
      "mimetype": "text/x-python",
      "name": "python",
      "nbconvert_exporter": "python",
      "pygments_lexer": "ipython3",
      "version": "3.8.3"
    },
    "toc": {
      "base_numbering": 1,
      "nav_menu": {},
      "number_sections": true,
      "sideBar": true,
      "skip_h1_title": false,
      "title_cell": "Table of Contents",
      "title_sidebar": "Contents",
      "toc_cell": false,
      "toc_position": {},
      "toc_section_display": true,
      "toc_window_display": false
    },
    "colab": {
      "name": "Autoencoder for Denoising.ipynb",
      "provenance": [],
      "collapsed_sections": []
    }
  },
  "cells": [
    {
      "cell_type": "code",
      "metadata": {
        "id": "PPuiWhENH-5V"
      },
      "source": [
        "import tensorflow as tf\n",
        "import matplotlib.pyplot as plt\n",
        "from tensorflow.keras.datasets import fashion_mnist"
      ],
      "execution_count": null,
      "outputs": []
    },
    {
      "cell_type": "code",
      "metadata": {
        "id": "-Snui3TGH-5e"
      },
      "source": [
        "(xtrain, _), (xtest, _) = fashion_mnist.load_data() #_used for a name which doesnt matter and isnt needed"
      ],
      "execution_count": null,
      "outputs": []
    },
    {
      "cell_type": "code",
      "metadata": {
        "id": "I4yla4tOH-5g",
        "outputId": "4a14deca-4dc8-4443-d7f1-05f3f1e00bad"
      },
      "source": [
        "xtrain = xtrain.astype('float32') / 255.\n",
        "xtest = xtest.astype('float32') / 255.\n",
        "\n",
        "print (xtrain.shape)\n",
        "print (xtest.shape)"
      ],
      "execution_count": null,
      "outputs": [
        {
          "name": "stdout",
          "output_type": "stream",
          "text": [
            "(60000, 28, 28)\n",
            "(10000, 28, 28)\n"
          ]
        }
      ]
    },
    {
      "cell_type": "code",
      "metadata": {
        "id": "uwqF7Ir0H-5i"
      },
      "source": [
        "xtrain = xtrain[..., tf.newaxis] # adds new axis\n",
        "xtest = xtest[..., tf.newaxis]\n"
      ],
      "execution_count": null,
      "outputs": []
    },
    {
      "cell_type": "code",
      "metadata": {
        "id": "l2EGEbO7H-5j",
        "outputId": "78621519-2017-40be-8b97-66fe78f8b154"
      },
      "source": [
        "plt.figure(figsize=(2,2))\n",
        "plt.imshow(tf.squeeze(xtrain[0]))  #tf.squeeze to visualize after adding new axis"
      ],
      "execution_count": null,
      "outputs": [
        {
          "data": {
            "text/plain": [
              "<matplotlib.image.AxesImage at 0x1af4746e0d0>"
            ]
          },
          "execution_count": 16,
          "metadata": {},
          "output_type": "execute_result"
        },
        {
          "data": {
            "image/png": "[encoded data removed]",
            "text/plain": [
              "<Figure size 144x144 with 1 Axes>"
            ]
          },
          "metadata": {
            "needs_background": "light"
          },
          "output_type": "display_data"
        }
      ]
    },
    {
      "cell_type": "code",
      "metadata": {
        "id": "_PZfRo1KH-5k"
      },
      "source": [
        "noise_factor=0.2\n",
        "xtrain_noisy = xtrain + noise_factor * tf.random.normal(shape=xtrain.shape)\n",
        "xtest_noisy = xtest + noise_factor * tf.random.normal(shape=xtest.shape)\n",
        "\n",
        "xtrain_noisy = tf.clip_by_value(xtrain_noisy, clip_value_min=0.0, clip_value_max=1.0) #clips values around specified values\n",
        "xtest_noisy = tf.clip_by_value(xtest_noisy, clip_value_min=0.0, clip_value_max=1.0)\n"
      ],
      "execution_count": null,
      "outputs": []
    },
    {
      "cell_type": "code",
      "metadata": {
        "id": "blk70lmPH-5m",
        "outputId": "fa7149c5-3c84-4274-b403-33180f686d34"
      },
      "source": [
        "plt.figure(figsize=(2,2))\n",
        "plt.imshow(tf.squeeze(xtrain_noisy[0]))"
      ],
      "execution_count": null,
      "outputs": [
        {
          "data": {
            "text/plain": [
              "<matplotlib.image.AxesImage at 0x1af474051f0>"
            ]
          },
          "execution_count": 21,
          "metadata": {},
          "output_type": "execute_result"
        },
        {
          "data": {
            "image/png": "[encoded data removed]",
            "text/plain": [
              "<Figure size 144x144 with 1 Axes>"
            ]
          },
          "metadata": {
            "needs_background": "light"
          },
          "output_type": "display_data"
        }
      ]
    },
    {
      "cell_type": "code",
      "metadata": {
        "id": "v_AP6f-UH-5n"
      },
      "source": [
        "from tensorflow.keras.models import Model, Sequential\n",
        "from tensorflow.keras.layers import Dense, Conv2D, Conv2DTranspose, Input\n",
        "\n",
        "\n",
        "class Autoencoder(Model):\n",
        "    def __init__(self):\n",
        "        super(Autoencoder, self).__init__()\n",
        "        self.encoder = Sequential([\n",
        "            Input(shape=(28,28,1)),\n",
        "            Conv2D(16, (3,3), activation='relu', padding='same', strides=2),  #16 is number of filters, 3,3 is size of filters\n",
        "            Conv2D(8, (3,3), activation='relu', padding='same', strides=2),\n",
        "\n",
        "        ]) \n",
        "        \n",
        "        self.decoder = Sequential([\n",
        "            Conv2DTranspose(8, kernel_size=3, strides=2, activation='relu', padding='same'), \n",
        "            Conv2DTranspose(16, kernel_size=3, strides=2, activation='relu', padding='same'),\n",
        "            Conv2D(1, kernel_size= (3,3), activation='sigmoid', padding='same')\n",
        "        ])\n",
        "        \n",
        "    def call(self, x):\n",
        "        encoded = self.encoder(x)\n",
        "        decoded = self.decoder(encoded)\n",
        "        return decoded\n",
        "        "
      ],
      "execution_count": null,
      "outputs": []
    },
    {
      "cell_type": "code",
      "metadata": {
        "id": "t8WVWEY_H-5p"
      },
      "source": [
        "model = Autoencoder()"
      ],
      "execution_count": null,
      "outputs": []
    },
    {
      "cell_type": "code",
      "metadata": {
        "id": "GkTvAK0hH-5x"
      },
      "source": [
        "model.compile(loss=tf.keras.losses.MeanSquaredError(), optimizer='adam')"
      ],
      "execution_count": null,
      "outputs": []
    },
    {
      "cell_type": "code",
      "metadata": {
        "id": "runlVJ6MH-5y",
        "outputId": "4da51b8a-499a-4e54-c0d1-8486a9f01723"
      },
      "source": [
        "model.fit(xtrain_noisy, xtrain,\n",
        "         epochs=7,\n",
        "         validation_data=(xtest_noisy, xtest))"
      ],
      "execution_count": null,
      "outputs": [
        {
          "name": "stdout",
          "output_type": "stream",
          "text": [
            "Epoch 1/7\n",
            "1875/1875 [==============================] - 71s 38ms/step - loss: 0.0167 - val_loss: 0.0098\n",
            "Epoch 2/7\n",
            "1875/1875 [==============================] - 72s 38ms/step - loss: 0.0093 - val_loss: 0.0089\n",
            "Epoch 3/7\n",
            "1875/1875 [==============================] - 71s 38ms/step - loss: 0.0085 - val_loss: 0.0083\n",
            "Epoch 4/7\n",
            "1875/1875 [==============================] - 70s 37ms/step - loss: 0.0080 - val_loss: 0.0080\n",
            "Epoch 5/7\n",
            "1875/1875 [==============================] - 69s 37ms/step - loss: 0.0077 - val_loss: 0.0076\n",
            "Epoch 6/7\n",
            "1875/1875 [==============================] - 71s 38ms/step - loss: 0.0075 - val_loss: 0.0075\n",
            "Epoch 7/7\n",
            "1875/1875 [==============================] - 71s 38ms/step - loss: 0.0074 - val_loss: 0.0074\n"
          ]
        },
        {
          "data": {
            "text/plain": [
              "<tensorflow.python.keras.callbacks.History at 0x1af01dca7f0>"
            ]
          },
          "execution_count": 31,
          "metadata": {},
          "output_type": "execute_result"
        }
      ]
    },
    {
      "cell_type": "code",
      "metadata": {
        "id": "Qs6-OVklH-5z"
      },
      "source": [
        "enoded_result = model.encoder(xtest_noisy).numpy()\n",
        "decoded_result = model.decoder(enoded_result).numpy()\n",
        "\n"
      ],
      "execution_count": null,
      "outputs": []
    },
    {
      "cell_type": "code",
      "metadata": {
        "id": "Zm9hnwLfH-50",
        "outputId": "c469aa28-7bf7-4914-85de-b6f919ef1c0c"
      },
      "source": [
        "# use Matplotlib (don't ask)\n",
        "import matplotlib.pyplot as plt\n",
        "\n",
        "n = 10  # how many digits we will display\n",
        "plt.figure(figsize=(20, 4))\n",
        "\n",
        "for i in range(n):\n",
        "    # display original\n",
        "    ax = plt.subplot(2, n, i + 1)\n",
        "    plt.imshow(tf.squeeze(xtest_noisy[i]))\n",
        "    plt.gray()\n",
        "    ax.get_xaxis().set_visible(False)\n",
        "    ax.get_yaxis().set_visible(False)\n",
        "\n",
        "    # display reconstruction\n",
        "    ax = plt.subplot(2, n, i + 1 + n)\n",
        "    plt.imshow(tf.squeeze(decoded_result[i]))\n",
        "    plt.gray()\n",
        "    ax.get_xaxis().set_visible(False)\n",
        "    ax.get_yaxis().set_visible(False)\n",
        "plt.show()"
      ],
      "execution_count": null,
      "outputs": [
        {
          "data": {
            "image/png": "[encoded data removed]",
            "text/plain": [
              "<Figure size 1440x288 with 20 Axes>"
            ]
          },
          "metadata": {
            "needs_background": "light"
          },
          "output_type": "display_data"
        }
      ]
    },
    {
      "cell_type": "code",
      "metadata": {
        "id": "ebiBd2U6H-51"
      },
      "source": [
        "tf.squeeze"
      ],
      "execution_count": null,
      "outputs": []
    },
    {
      "cell_type": "code",
      "metadata": {
        "id": "OjWdQcT1JOUJ"
      },
      "source": [
        ""
      ],
      "execution_count": null,
      "outputs": []
    },
    {
      "cell_type": "markdown",
      "metadata": {
        "id": "4Ia5GJZ6JPE7"
      },
      "source": [
        "omdena.com/blog/applying-cnns/"
      ]
    }
  ]
}