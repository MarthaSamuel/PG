{
 "cells": [
  {
   "cell_type": "code",
   "execution_count": 1,
   "metadata": {},
   "outputs": [],
   "source": [
    "import pandas as pd\n",
    "import numpy as np"
   ]
  },
  {
   "cell_type": "code",
   "execution_count": null,
   "metadata": {},
   "outputs": [],
   "source": [
    "#its unsupervised so no need to divide into train and test\n",
    "# step 1 - to find the distance b.w. obs\n",
    "\n",
    "# step 2 - find the linkage b.w. the groups\n",
    "\n",
    "\n",
    "# min distance b.w. the points - single linkage\n",
    "\n",
    "# max distance b.w. the points - complete linkage\n",
    "\n",
    "\n",
    "# CM of the points - centrod linkage\n",
    "\n",
    "\n",
    "# SS of the points - Ward method "
   ]
  },
  {
   "cell_type": "code",
   "execution_count": 4,
   "metadata": {},
   "outputs": [
    {
     "data": {
      "text/html": [
       "<div>\n",
       "<style scoped>\n",
       "    .dataframe tbody tr th:only-of-type {\n",
       "        vertical-align: middle;\n",
       "    }\n",
       "\n",
       "    .dataframe tbody tr th {\n",
       "        vertical-align: top;\n",
       "    }\n",
       "\n",
       "    .dataframe thead th {\n",
       "        text-align: right;\n",
       "    }\n",
       "</style>\n",
       "<table border=\"1\" class=\"dataframe\">\n",
       "  <thead>\n",
       "    <tr style=\"text-align: right;\">\n",
       "      <th></th>\n",
       "      <th>Univ</th>\n",
       "      <th>SAT</th>\n",
       "      <th>Top10</th>\n",
       "      <th>Accept</th>\n",
       "      <th>SFRatio</th>\n",
       "      <th>Expenses</th>\n",
       "      <th>GradRate</th>\n",
       "    </tr>\n",
       "  </thead>\n",
       "  <tbody>\n",
       "    <tr>\n",
       "      <th>0</th>\n",
       "      <td>Brown</td>\n",
       "      <td>1310</td>\n",
       "      <td>89</td>\n",
       "      <td>22</td>\n",
       "      <td>13</td>\n",
       "      <td>22704</td>\n",
       "      <td>94</td>\n",
       "    </tr>\n",
       "    <tr>\n",
       "      <th>1</th>\n",
       "      <td>CalTech</td>\n",
       "      <td>1415</td>\n",
       "      <td>100</td>\n",
       "      <td>25</td>\n",
       "      <td>6</td>\n",
       "      <td>63575</td>\n",
       "      <td>81</td>\n",
       "    </tr>\n",
       "    <tr>\n",
       "      <th>2</th>\n",
       "      <td>CMU</td>\n",
       "      <td>1260</td>\n",
       "      <td>62</td>\n",
       "      <td>59</td>\n",
       "      <td>9</td>\n",
       "      <td>25026</td>\n",
       "      <td>72</td>\n",
       "    </tr>\n",
       "    <tr>\n",
       "      <th>3</th>\n",
       "      <td>Columbia</td>\n",
       "      <td>1310</td>\n",
       "      <td>76</td>\n",
       "      <td>24</td>\n",
       "      <td>12</td>\n",
       "      <td>31510</td>\n",
       "      <td>88</td>\n",
       "    </tr>\n",
       "    <tr>\n",
       "      <th>4</th>\n",
       "      <td>Cornell</td>\n",
       "      <td>1280</td>\n",
       "      <td>83</td>\n",
       "      <td>33</td>\n",
       "      <td>13</td>\n",
       "      <td>21864</td>\n",
       "      <td>90</td>\n",
       "    </tr>\n",
       "  </tbody>\n",
       "</table>\n",
       "</div>"
      ],
      "text/plain": [
       "       Univ   SAT  Top10  Accept  SFRatio  Expenses  GradRate\n",
       "0     Brown  1310     89      22       13     22704        94\n",
       "1   CalTech  1415    100      25        6     63575        81\n",
       "2       CMU  1260     62      59        9     25026        72\n",
       "3  Columbia  1310     76      24       12     31510        88\n",
       "4   Cornell  1280     83      33       13     21864        90"
      ]
     },
     "execution_count": 4,
     "metadata": {},
     "output_type": "execute_result"
    }
   ],
   "source": [
    "clus=pd.read_csv('../course3/dataset/cluster_example.csv')\n",
    "clus.head()"
   ]
  },
  {
   "cell_type": "code",
   "execution_count": 5,
   "metadata": {},
   "outputs": [
    {
     "name": "stdout",
     "output_type": "stream",
     "text": [
      "<class 'pandas.core.frame.DataFrame'>\n",
      "RangeIndex: 25 entries, 0 to 24\n",
      "Data columns (total 7 columns):\n",
      " #   Column    Non-Null Count  Dtype \n",
      "---  ------    --------------  ----- \n",
      " 0   Univ      25 non-null     object\n",
      " 1   SAT       25 non-null     int64 \n",
      " 2   Top10     25 non-null     int64 \n",
      " 3   Accept    25 non-null     int64 \n",
      " 4   SFRatio   25 non-null     int64 \n",
      " 5   Expenses  25 non-null     int64 \n",
      " 6   GradRate  25 non-null     int64 \n",
      "dtypes: int64(6), object(1)\n",
      "memory usage: 1.5+ KB\n"
     ]
    }
   ],
   "source": [
    "clus.info()"
   ]
  },
  {
   "cell_type": "code",
   "execution_count": 6,
   "metadata": {},
   "outputs": [
    {
     "data": {
      "text/plain": [
       "Univ        0\n",
       "SAT         0\n",
       "Top10       0\n",
       "Accept      0\n",
       "SFRatio     0\n",
       "Expenses    0\n",
       "GradRate    0\n",
       "dtype: int64"
      ]
     },
     "execution_count": 6,
     "metadata": {},
     "output_type": "execute_result"
    }
   ],
   "source": [
    "clus.isnull().sum()"
   ]
  },
  {
   "cell_type": "code",
   "execution_count": 7,
   "metadata": {},
   "outputs": [],
   "source": [
    "from sklearn.preprocessing import StandardScaler"
   ]
  },
  {
   "cell_type": "code",
   "execution_count": 8,
   "metadata": {},
   "outputs": [],
   "source": [
    "scaler=StandardScaler()"
   ]
  },
  {
   "cell_type": "code",
   "execution_count": 9,
   "metadata": {},
   "outputs": [],
   "source": [
    "# scale only the numeric columns\n",
    "Uni=clus.iloc[:,1:]"
   ]
  },
  {
   "cell_type": "code",
   "execution_count": 10,
   "metadata": {},
   "outputs": [],
   "source": [
    "Uni_s=scaler.fit_transform(Uni)"
   ]
  },
  {
   "cell_type": "code",
   "execution_count": 11,
   "metadata": {},
   "outputs": [
    {
     "data": {
      "text/plain": [
       "array([-5.15143483e-16, -2.08721929e-16, -1.33226763e-16, -1.90958360e-16,\n",
       "       -8.88178420e-18,  1.42108547e-16])"
      ]
     },
     "execution_count": 11,
     "metadata": {},
     "output_type": "execute_result"
    }
   ],
   "source": [
    "Uni_s.mean(axis=0)"
   ]
  },
  {
   "cell_type": "code",
   "execution_count": 12,
   "metadata": {},
   "outputs": [
    {
     "data": {
      "text/plain": [
       "array([1., 1., 1., 1., 1., 1.])"
      ]
     },
     "execution_count": 12,
     "metadata": {},
     "output_type": "execute_result"
    }
   ],
   "source": [
    "Uni_s.std(axis=0)"
   ]
  },
  {
   "cell_type": "code",
   "execution_count": 13,
   "metadata": {},
   "outputs": [],
   "source": [
    "# find the distances b.w. these points\n",
    "from scipy.cluster.hierarchy import dendrogram,linkage,fcluster\n",
    "\n",
    "#linkage function to determine which 2 clusters should be combined together\n",
    "# single - min dist\n",
    "# complete - max dist\n",
    "# ward method - the max incremental inc in the  Within SS ( l0 - (l1+l2))\n",
    "\n",
    "#centroid - center of mass"
   ]
  },
  {
   "cell_type": "code",
   "execution_count": 14,
   "metadata": {},
   "outputs": [],
   "source": [
    "# linkage( data, method =)\n",
    "\n",
    "link=linkage(Uni_s,method='ward')"
   ]
  },
  {
   "cell_type": "code",
   "execution_count": 17,
   "metadata": {},
   "outputs": [
    {
     "data": {
      "text/plain": [
       "array([[11.        , 21.        ,  0.40302804,  2.        ],\n",
       "       [ 8.        , 24.        ,  0.5087704 ,  2.        ],\n",
       "       [12.        , 22.        ,  0.51397265,  2.        ],\n",
       "       [ 5.        ,  6.        ,  0.66550071,  2.        ],\n",
       "       [16.        , 28.        ,  0.75373329,  3.        ],\n",
       "       [ 4.        ,  7.        ,  0.79027529,  2.        ],\n",
       "       [10.        , 29.        ,  0.91291034,  4.        ],\n",
       "       [ 0.        , 30.        ,  0.98118295,  3.        ],\n",
       "       [ 3.        , 25.        ,  1.08900583,  3.        ],\n",
       "       [14.        , 26.        ,  1.30438388,  3.        ],\n",
       "       [32.        , 33.        ,  1.37852121,  6.        ],\n",
       "       [31.        , 34.        ,  1.44265322,  7.        ],\n",
       "       [13.        , 23.        ,  1.49124404,  2.        ],\n",
       "       [19.        , 35.        ,  1.98145569,  7.        ],\n",
       "       [ 1.        ,  9.        ,  2.09832721,  2.        ],\n",
       "       [27.        , 38.        ,  2.18701731,  9.        ],\n",
       "       [15.        , 37.        ,  2.30844305,  3.        ],\n",
       "       [18.        , 20.        ,  2.36342876,  2.        ],\n",
       "       [17.        , 41.        ,  2.68631943,  4.        ],\n",
       "       [ 2.        , 42.        ,  2.90817044,  3.        ],\n",
       "       [40.        , 44.        ,  4.08404205, 12.        ],\n",
       "       [36.        , 39.        ,  4.41289274,  9.        ],\n",
       "       [45.        , 46.        ,  6.83466621, 21.        ],\n",
       "       [43.        , 47.        , 12.81498398, 25.        ]])"
      ]
     },
     "execution_count": 17,
     "metadata": {},
     "output_type": "execute_result"
    }
   ],
   "source": [
    "link"
   ]
  },
  {
   "cell_type": "code",
   "execution_count": 18,
   "metadata": {},
   "outputs": [
    {
     "data": {
      "text/plain": [
       "(24, 4)"
      ]
     },
     "execution_count": 18,
     "metadata": {},
     "output_type": "execute_result"
    }
   ],
   "source": [
    "link.shape"
   ]
  },
  {
   "cell_type": "code",
   "execution_count": 19,
   "metadata": {},
   "outputs": [
    {
     "data": {
      "image/png": "[encoded data removed]",
      "text/plain": [
       "<Figure size 576x576 with 1 Axes>"
      ]
     },
     "metadata": {
      "needs_background": "light"
     },
     "output_type": "display_data"
    }
   ],
   "source": [
    "# dendrogram\n",
    "import matplotlib.pyplot as plt\n",
    "%matplotlib inline\n",
    "\n",
    "import numpy as np\n",
    "\n",
    "plt.figure(figsize=(8,8))\n",
    "plt.xlabel('uni names')\n",
    "plt.ylabel('distance')\n",
    "plt.title('dendrogram')\n",
    "lab=np.array(clus[['Univ']])\n",
    "dendrogram(link,labels=lab,leaf_rotation=90,leaf_font_size=9);\n",
    "\n"
   ]
  },
  {
   "cell_type": "code",
   "execution_count": null,
   "metadata": {},
   "outputs": [],
   "source": [
    "# for finding the optimum no of cluster-\n",
    "\n",
    "# i want to have 4 clusters\n",
    "\n",
    "# then divide these colleges into 4 groups\n",
    "\n",
    "# fcluster - flat clusters\n",
    "\n",
    "# this assigns the obs into different clusters\n",
    "\n",
    "# t = n , then the fcluster will not create more than n clusters (here determine by Kmeans - the optimum no of clusters)\n",
    "\n",
    "# criterion -maxclust "
   ]
  },
  {
   "cell_type": "code",
   "execution_count": 20,
   "metadata": {},
   "outputs": [],
   "source": [
    "clus_label=fcluster(link,t=4,criterion='maxclust')"
   ]
  },
  {
   "cell_type": "code",
   "execution_count": 21,
   "metadata": {},
   "outputs": [
    {
     "data": {
      "text/plain": [
       "array([2, 4, 2, 2, 2, 3, 3, 2, 3, 4, 3, 2, 2, 1, 3, 1, 3, 1, 2, 2, 2, 2,\n",
       "       2, 1, 3], dtype=int32)"
      ]
     },
     "execution_count": 21,
     "metadata": {},
     "output_type": "execute_result"
    }
   ],
   "source": [
    "clus_label"
   ]
  },
  {
   "cell_type": "code",
   "execution_count": 22,
   "metadata": {},
   "outputs": [
    {
     "data": {
      "text/html": [
       "<div>\n",
       "<style scoped>\n",
       "    .dataframe tbody tr th:only-of-type {\n",
       "        vertical-align: middle;\n",
       "    }\n",
       "\n",
       "    .dataframe tbody tr th {\n",
       "        vertical-align: top;\n",
       "    }\n",
       "\n",
       "    .dataframe thead th {\n",
       "        text-align: right;\n",
       "    }\n",
       "</style>\n",
       "<table border=\"1\" class=\"dataframe\">\n",
       "  <thead>\n",
       "    <tr style=\"text-align: right;\">\n",
       "      <th></th>\n",
       "      <th>Univ</th>\n",
       "      <th>SAT</th>\n",
       "      <th>Top10</th>\n",
       "      <th>Accept</th>\n",
       "      <th>SFRatio</th>\n",
       "      <th>Expenses</th>\n",
       "      <th>GradRate</th>\n",
       "      <th>Cluster</th>\n",
       "    </tr>\n",
       "  </thead>\n",
       "  <tbody>\n",
       "    <tr>\n",
       "      <th>0</th>\n",
       "      <td>Brown</td>\n",
       "      <td>1310</td>\n",
       "      <td>89</td>\n",
       "      <td>22</td>\n",
       "      <td>13</td>\n",
       "      <td>22704</td>\n",
       "      <td>94</td>\n",
       "      <td>2</td>\n",
       "    </tr>\n",
       "    <tr>\n",
       "      <th>1</th>\n",
       "      <td>CalTech</td>\n",
       "      <td>1415</td>\n",
       "      <td>100</td>\n",
       "      <td>25</td>\n",
       "      <td>6</td>\n",
       "      <td>63575</td>\n",
       "      <td>81</td>\n",
       "      <td>4</td>\n",
       "    </tr>\n",
       "    <tr>\n",
       "      <th>2</th>\n",
       "      <td>CMU</td>\n",
       "      <td>1260</td>\n",
       "      <td>62</td>\n",
       "      <td>59</td>\n",
       "      <td>9</td>\n",
       "      <td>25026</td>\n",
       "      <td>72</td>\n",
       "      <td>2</td>\n",
       "    </tr>\n",
       "    <tr>\n",
       "      <th>3</th>\n",
       "      <td>Columbia</td>\n",
       "      <td>1310</td>\n",
       "      <td>76</td>\n",
       "      <td>24</td>\n",
       "      <td>12</td>\n",
       "      <td>31510</td>\n",
       "      <td>88</td>\n",
       "      <td>2</td>\n",
       "    </tr>\n",
       "    <tr>\n",
       "      <th>4</th>\n",
       "      <td>Cornell</td>\n",
       "      <td>1280</td>\n",
       "      <td>83</td>\n",
       "      <td>33</td>\n",
       "      <td>13</td>\n",
       "      <td>21864</td>\n",
       "      <td>90</td>\n",
       "      <td>2</td>\n",
       "    </tr>\n",
       "    <tr>\n",
       "      <th>5</th>\n",
       "      <td>Dartmouth</td>\n",
       "      <td>1340</td>\n",
       "      <td>89</td>\n",
       "      <td>23</td>\n",
       "      <td>10</td>\n",
       "      <td>32162</td>\n",
       "      <td>95</td>\n",
       "      <td>3</td>\n",
       "    </tr>\n",
       "    <tr>\n",
       "      <th>6</th>\n",
       "      <td>Duke</td>\n",
       "      <td>1315</td>\n",
       "      <td>90</td>\n",
       "      <td>30</td>\n",
       "      <td>12</td>\n",
       "      <td>31585</td>\n",
       "      <td>95</td>\n",
       "      <td>3</td>\n",
       "    </tr>\n",
       "    <tr>\n",
       "      <th>7</th>\n",
       "      <td>Georgetown</td>\n",
       "      <td>1255</td>\n",
       "      <td>74</td>\n",
       "      <td>24</td>\n",
       "      <td>12</td>\n",
       "      <td>20126</td>\n",
       "      <td>92</td>\n",
       "      <td>2</td>\n",
       "    </tr>\n",
       "    <tr>\n",
       "      <th>8</th>\n",
       "      <td>Harvard</td>\n",
       "      <td>1400</td>\n",
       "      <td>91</td>\n",
       "      <td>14</td>\n",
       "      <td>11</td>\n",
       "      <td>39525</td>\n",
       "      <td>97</td>\n",
       "      <td>3</td>\n",
       "    </tr>\n",
       "    <tr>\n",
       "      <th>9</th>\n",
       "      <td>JohnsHopkins</td>\n",
       "      <td>1305</td>\n",
       "      <td>75</td>\n",
       "      <td>44</td>\n",
       "      <td>7</td>\n",
       "      <td>58691</td>\n",
       "      <td>87</td>\n",
       "      <td>4</td>\n",
       "    </tr>\n",
       "    <tr>\n",
       "      <th>10</th>\n",
       "      <td>MIT</td>\n",
       "      <td>1380</td>\n",
       "      <td>94</td>\n",
       "      <td>30</td>\n",
       "      <td>10</td>\n",
       "      <td>34870</td>\n",
       "      <td>91</td>\n",
       "      <td>3</td>\n",
       "    </tr>\n",
       "    <tr>\n",
       "      <th>11</th>\n",
       "      <td>Northwestern</td>\n",
       "      <td>1260</td>\n",
       "      <td>85</td>\n",
       "      <td>39</td>\n",
       "      <td>11</td>\n",
       "      <td>28052</td>\n",
       "      <td>89</td>\n",
       "      <td>2</td>\n",
       "    </tr>\n",
       "    <tr>\n",
       "      <th>12</th>\n",
       "      <td>NotreDame</td>\n",
       "      <td>1255</td>\n",
       "      <td>81</td>\n",
       "      <td>42</td>\n",
       "      <td>13</td>\n",
       "      <td>15122</td>\n",
       "      <td>94</td>\n",
       "      <td>2</td>\n",
       "    </tr>\n",
       "    <tr>\n",
       "      <th>13</th>\n",
       "      <td>PennState</td>\n",
       "      <td>1081</td>\n",
       "      <td>38</td>\n",
       "      <td>54</td>\n",
       "      <td>18</td>\n",
       "      <td>10185</td>\n",
       "      <td>80</td>\n",
       "      <td>1</td>\n",
       "    </tr>\n",
       "    <tr>\n",
       "      <th>14</th>\n",
       "      <td>Princeton</td>\n",
       "      <td>1375</td>\n",
       "      <td>91</td>\n",
       "      <td>14</td>\n",
       "      <td>8</td>\n",
       "      <td>30220</td>\n",
       "      <td>95</td>\n",
       "      <td>3</td>\n",
       "    </tr>\n",
       "    <tr>\n",
       "      <th>15</th>\n",
       "      <td>Purdue</td>\n",
       "      <td>1005</td>\n",
       "      <td>28</td>\n",
       "      <td>90</td>\n",
       "      <td>19</td>\n",
       "      <td>9066</td>\n",
       "      <td>69</td>\n",
       "      <td>1</td>\n",
       "    </tr>\n",
       "    <tr>\n",
       "      <th>16</th>\n",
       "      <td>Stanford</td>\n",
       "      <td>1360</td>\n",
       "      <td>90</td>\n",
       "      <td>20</td>\n",
       "      <td>12</td>\n",
       "      <td>36450</td>\n",
       "      <td>93</td>\n",
       "      <td>3</td>\n",
       "    </tr>\n",
       "    <tr>\n",
       "      <th>17</th>\n",
       "      <td>TexasA&amp;M</td>\n",
       "      <td>1075</td>\n",
       "      <td>49</td>\n",
       "      <td>67</td>\n",
       "      <td>25</td>\n",
       "      <td>8704</td>\n",
       "      <td>67</td>\n",
       "      <td>1</td>\n",
       "    </tr>\n",
       "    <tr>\n",
       "      <th>18</th>\n",
       "      <td>UCBerkeley</td>\n",
       "      <td>1240</td>\n",
       "      <td>95</td>\n",
       "      <td>40</td>\n",
       "      <td>17</td>\n",
       "      <td>15140</td>\n",
       "      <td>78</td>\n",
       "      <td>2</td>\n",
       "    </tr>\n",
       "    <tr>\n",
       "      <th>19</th>\n",
       "      <td>UChicago</td>\n",
       "      <td>1290</td>\n",
       "      <td>75</td>\n",
       "      <td>50</td>\n",
       "      <td>13</td>\n",
       "      <td>38380</td>\n",
       "      <td>87</td>\n",
       "      <td>2</td>\n",
       "    </tr>\n",
       "    <tr>\n",
       "      <th>20</th>\n",
       "      <td>UMichigan</td>\n",
       "      <td>1180</td>\n",
       "      <td>65</td>\n",
       "      <td>68</td>\n",
       "      <td>16</td>\n",
       "      <td>15470</td>\n",
       "      <td>85</td>\n",
       "      <td>2</td>\n",
       "    </tr>\n",
       "    <tr>\n",
       "      <th>21</th>\n",
       "      <td>UPenn</td>\n",
       "      <td>1285</td>\n",
       "      <td>80</td>\n",
       "      <td>36</td>\n",
       "      <td>11</td>\n",
       "      <td>27553</td>\n",
       "      <td>90</td>\n",
       "      <td>2</td>\n",
       "    </tr>\n",
       "    <tr>\n",
       "      <th>22</th>\n",
       "      <td>UVA</td>\n",
       "      <td>1225</td>\n",
       "      <td>77</td>\n",
       "      <td>44</td>\n",
       "      <td>14</td>\n",
       "      <td>13349</td>\n",
       "      <td>92</td>\n",
       "      <td>2</td>\n",
       "    </tr>\n",
       "    <tr>\n",
       "      <th>23</th>\n",
       "      <td>UWisconsin</td>\n",
       "      <td>1085</td>\n",
       "      <td>40</td>\n",
       "      <td>69</td>\n",
       "      <td>15</td>\n",
       "      <td>11857</td>\n",
       "      <td>71</td>\n",
       "      <td>1</td>\n",
       "    </tr>\n",
       "    <tr>\n",
       "      <th>24</th>\n",
       "      <td>Yale</td>\n",
       "      <td>1375</td>\n",
       "      <td>95</td>\n",
       "      <td>19</td>\n",
       "      <td>11</td>\n",
       "      <td>43514</td>\n",
       "      <td>96</td>\n",
       "      <td>3</td>\n",
       "    </tr>\n",
       "  </tbody>\n",
       "</table>\n",
       "</div>"
      ],
      "text/plain": [
       "            Univ   SAT  Top10  Accept  SFRatio  Expenses  GradRate  Cluster\n",
       "0          Brown  1310     89      22       13     22704        94        2\n",
       "1        CalTech  1415    100      25        6     63575        81        4\n",
       "2            CMU  1260     62      59        9     25026        72        2\n",
       "3       Columbia  1310     76      24       12     31510        88        2\n",
       "4        Cornell  1280     83      33       13     21864        90        2\n",
       "5      Dartmouth  1340     89      23       10     32162        95        3\n",
       "6           Duke  1315     90      30       12     31585        95        3\n",
       "7     Georgetown  1255     74      24       12     20126        92        2\n",
       "8        Harvard  1400     91      14       11     39525        97        3\n",
       "9   JohnsHopkins  1305     75      44        7     58691        87        4\n",
       "10           MIT  1380     94      30       10     34870        91        3\n",
       "11  Northwestern  1260     85      39       11     28052        89        2\n",
       "12     NotreDame  1255     81      42       13     15122        94        2\n",
       "13     PennState  1081     38      54       18     10185        80        1\n",
       "14     Princeton  1375     91      14        8     30220        95        3\n",
       "15        Purdue  1005     28      90       19      9066        69        1\n",
       "16      Stanford  1360     90      20       12     36450        93        3\n",
       "17      TexasA&M  1075     49      67       25      8704        67        1\n",
       "18    UCBerkeley  1240     95      40       17     15140        78        2\n",
       "19      UChicago  1290     75      50       13     38380        87        2\n",
       "20     UMichigan  1180     65      68       16     15470        85        2\n",
       "21         UPenn  1285     80      36       11     27553        90        2\n",
       "22           UVA  1225     77      44       14     13349        92        2\n",
       "23    UWisconsin  1085     40      69       15     11857        71        1\n",
       "24          Yale  1375     95      19       11     43514        96        3"
      ]
     },
     "execution_count": 22,
     "metadata": {},
     "output_type": "execute_result"
    }
   ],
   "source": [
    "# we need to assign the cluster label to the obs\n",
    "\n",
    "univ_clus=clus.assign(Cluster=clus_label)\n",
    "univ_clus"
   ]
  },
  {
   "cell_type": "markdown",
   "metadata": {},
   "source": [
    "### partitive clustering\n",
    "\n",
    "\n",
    "#### KMeans"
   ]
  },
  {
   "cell_type": "code",
   "execution_count": 23,
   "metadata": {},
   "outputs": [],
   "source": [
    "from sklearn.cluster import KMeans"
   ]
  },
  {
   "cell_type": "markdown",
   "metadata": {},
   "source": [
    "n_clusters=no of clusters beforehand\n",
    "\n",
    "init= how to set the initial seeds (random, kmeans++) \n",
    "\n",
    "max_iter - max no of times the algorithm will run for a specific iteration\n",
    "\n",
    "n_init = no of times the algorithm will run with different centers of clusters tolerance"
   ]
  },
  {
   "cell_type": "code",
   "execution_count": 29,
   "metadata": {},
   "outputs": [],
   "source": [
    "kmeans_clus=KMeans(n_clusters=4,init='k-means++',n_init=10)"
   ]
  },
  {
   "cell_type": "code",
   "execution_count": 30,
   "metadata": {},
   "outputs": [
    {
     "data": {
      "text/plain": [
       "KMeans(algorithm='auto', copy_x=True, init='k-means++', max_iter=300,\n",
       "       n_clusters=4, n_init=10, n_jobs=None, precompute_distances='auto',\n",
       "       random_state=None, tol=0.0001, verbose=0)"
      ]
     },
     "execution_count": 30,
     "metadata": {},
     "output_type": "execute_result"
    }
   ],
   "source": [
    "kmeans_clus.fit(Uni_s)"
   ]
  },
  {
   "cell_type": "code",
   "execution_count": 31,
   "metadata": {},
   "outputs": [
    {
     "data": {
      "text/plain": [
       "array([[ 0.80273428,  0.68086062, -0.90136381, -0.43159988,  0.44062556,\n",
       "         0.79526289],\n",
       "       [-1.93029211, -1.98148647,  1.59348244,  1.63857398, -1.23359906,\n",
       "        -1.68680366],\n",
       "       [-0.12658888,  0.06407139,  0.2224667 ,  0.04516743, -0.38064332,\n",
       "         0.02028221],\n",
       "       [ 0.88122441,  0.5787432 , -0.24316128, -1.56078563,  2.38759968,\n",
       "        -0.3064867 ]])"
      ]
     },
     "execution_count": 31,
     "metadata": {},
     "output_type": "execute_result"
    }
   ],
   "source": [
    "kmeans_clus.cluster_centers_"
   ]
  },
  {
   "cell_type": "code",
   "execution_count": 32,
   "metadata": {},
   "outputs": [
    {
     "data": {
      "text/plain": [
       "array([0, 3, 2, 0, 2, 0, 0, 2, 0, 3, 0, 2, 2, 1, 0, 1, 0, 1, 2, 2, 2, 2,\n",
       "       2, 1, 0], dtype=int32)"
      ]
     },
     "execution_count": 32,
     "metadata": {},
     "output_type": "execute_result"
    }
   ],
   "source": [
    "# which obs to go to which cluster\n",
    "kmeans_clus.labels_"
   ]
  },
  {
   "cell_type": "code",
   "execution_count": 33,
   "metadata": {},
   "outputs": [
    {
     "data": {
      "text/plain": [
       "300"
      ]
     },
     "execution_count": 33,
     "metadata": {},
     "output_type": "execute_result"
    }
   ],
   "source": [
    "kmeans_clus.max_iter"
   ]
  },
  {
   "cell_type": "code",
   "execution_count": 37,
   "metadata": {},
   "outputs": [
    {
     "data": {
      "text/plain": [
       "33.654341806512235"
      ]
     },
     "execution_count": 37,
     "metadata": {},
     "output_type": "execute_result"
    }
   ],
   "source": [
    "## inertia - total within SS of the points inside the clusters\n",
    "#( ssw1+ssw2+ssw3+ssw4)\n",
    "\n",
    "#what does this number imply for the cluster?\n",
    "kmeans_clus.inertia_"
   ]
  },
  {
   "cell_type": "code",
   "execution_count": 38,
   "metadata": {},
   "outputs": [],
   "source": [
    "# elbow curve\n",
    "# clusters from 1-15\n",
    "cluster_range=range(1,16)"
   ]
  },
  {
   "cell_type": "code",
   "execution_count": 39,
   "metadata": {},
   "outputs": [],
   "source": [
    "SSWithin=[]\n"
   ]
  },
  {
   "cell_type": "code",
   "execution_count": 40,
   "metadata": {},
   "outputs": [],
   "source": [
    "for i in cluster_range:\n",
    "    kmeans_clus=KMeans(n_clusters=i,init='k-means++',n_init=10,max_iter=30)\n",
    "    kmeans_clus.fit(Uni_s)\n",
    "    SSWithin.append(kmeans_clus.inertia_)\n",
    "    "
   ]
  },
  {
   "cell_type": "code",
   "execution_count": 41,
   "metadata": {},
   "outputs": [
    {
     "data": {
      "text/plain": [
       "[150.0,\n",
       " 64.14528395010268,\n",
       " 44.531761731450956,\n",
       " 33.654341806512235,\n",
       " 26.785713479514527,\n",
       " 22.87523336788685,\n",
       " 18.618367158890123,\n",
       " 16.048447747151442,\n",
       " 13.267235048457902,\n",
       " 10.491071479134543,\n",
       " 8.289582932057126,\n",
       " 6.7078479930939094,\n",
       " 5.493016111483617,\n",
       " 4.587366059946727,\n",
       " 3.687668698423151]"
      ]
     },
     "execution_count": 41,
     "metadata": {},
     "output_type": "execute_result"
    }
   ],
   "source": [
    "# total SS within for clusters from 1-15\n",
    "SSWithin"
   ]
  },
  {
   "cell_type": "code",
   "execution_count": 42,
   "metadata": {},
   "outputs": [],
   "source": [
    "df=pd.DataFrame({'no_of_clus':cluster_range,'inertia':SSWithin})"
   ]
  },
  {
   "cell_type": "code",
   "execution_count": 43,
   "metadata": {},
   "outputs": [
    {
     "data": {
      "text/html": [
       "<div>\n",
       "<style scoped>\n",
       "    .dataframe tbody tr th:only-of-type {\n",
       "        vertical-align: middle;\n",
       "    }\n",
       "\n",
       "    .dataframe tbody tr th {\n",
       "        vertical-align: top;\n",
       "    }\n",
       "\n",
       "    .dataframe thead th {\n",
       "        text-align: right;\n",
       "    }\n",
       "</style>\n",
       "<table border=\"1\" class=\"dataframe\">\n",
       "  <thead>\n",
       "    <tr style=\"text-align: right;\">\n",
       "      <th></th>\n",
       "      <th>no_of_clus</th>\n",
       "      <th>inertia</th>\n",
       "    </tr>\n",
       "  </thead>\n",
       "  <tbody>\n",
       "    <tr>\n",
       "      <th>0</th>\n",
       "      <td>1</td>\n",
       "      <td>150.000000</td>\n",
       "    </tr>\n",
       "    <tr>\n",
       "      <th>1</th>\n",
       "      <td>2</td>\n",
       "      <td>64.145284</td>\n",
       "    </tr>\n",
       "    <tr>\n",
       "      <th>2</th>\n",
       "      <td>3</td>\n",
       "      <td>44.531762</td>\n",
       "    </tr>\n",
       "    <tr>\n",
       "      <th>3</th>\n",
       "      <td>4</td>\n",
       "      <td>33.654342</td>\n",
       "    </tr>\n",
       "    <tr>\n",
       "      <th>4</th>\n",
       "      <td>5</td>\n",
       "      <td>26.785713</td>\n",
       "    </tr>\n",
       "    <tr>\n",
       "      <th>5</th>\n",
       "      <td>6</td>\n",
       "      <td>22.875233</td>\n",
       "    </tr>\n",
       "    <tr>\n",
       "      <th>6</th>\n",
       "      <td>7</td>\n",
       "      <td>18.618367</td>\n",
       "    </tr>\n",
       "    <tr>\n",
       "      <th>7</th>\n",
       "      <td>8</td>\n",
       "      <td>16.048448</td>\n",
       "    </tr>\n",
       "    <tr>\n",
       "      <th>8</th>\n",
       "      <td>9</td>\n",
       "      <td>13.267235</td>\n",
       "    </tr>\n",
       "    <tr>\n",
       "      <th>9</th>\n",
       "      <td>10</td>\n",
       "      <td>10.491071</td>\n",
       "    </tr>\n",
       "    <tr>\n",
       "      <th>10</th>\n",
       "      <td>11</td>\n",
       "      <td>8.289583</td>\n",
       "    </tr>\n",
       "    <tr>\n",
       "      <th>11</th>\n",
       "      <td>12</td>\n",
       "      <td>6.707848</td>\n",
       "    </tr>\n",
       "    <tr>\n",
       "      <th>12</th>\n",
       "      <td>13</td>\n",
       "      <td>5.493016</td>\n",
       "    </tr>\n",
       "    <tr>\n",
       "      <th>13</th>\n",
       "      <td>14</td>\n",
       "      <td>4.587366</td>\n",
       "    </tr>\n",
       "    <tr>\n",
       "      <th>14</th>\n",
       "      <td>15</td>\n",
       "      <td>3.687669</td>\n",
       "    </tr>\n",
       "  </tbody>\n",
       "</table>\n",
       "</div>"
      ],
      "text/plain": [
       "    no_of_clus     inertia\n",
       "0            1  150.000000\n",
       "1            2   64.145284\n",
       "2            3   44.531762\n",
       "3            4   33.654342\n",
       "4            5   26.785713\n",
       "5            6   22.875233\n",
       "6            7   18.618367\n",
       "7            8   16.048448\n",
       "8            9   13.267235\n",
       "9           10   10.491071\n",
       "10          11    8.289583\n",
       "11          12    6.707848\n",
       "12          13    5.493016\n",
       "13          14    4.587366\n",
       "14          15    3.687669"
      ]
     },
     "execution_count": 43,
     "metadata": {},
     "output_type": "execute_result"
    }
   ],
   "source": [
    "df"
   ]
  },
  {
   "cell_type": "code",
   "execution_count": 44,
   "metadata": {},
   "outputs": [
    {
     "data": {
      "text/plain": [
       "[<matplotlib.lines.Line2D at 0x7feba1fc5990>]"
      ]
     },
     "execution_count": 44,
     "metadata": {},
     "output_type": "execute_result"
    },
    {
     "data": {
      "image/png": "[encoded data removed]",
      "text/plain": [
       "<Figure size 864x864 with 1 Axes>"
      ]
     },
     "metadata": {
      "needs_background": "light"
     },
     "output_type": "display_data"
    }
   ],
   "source": [
    "# plot\n",
    "\n",
    "plt.figure(figsize=(12,12))\n",
    "plt.xlabel('no of clusters')\n",
    "plt.ylabel('inertia')\n",
    "plt.plot(df['no_of_clus'],df['inertia'])"
   ]
  },
  {
   "cell_type": "code",
   "execution_count": null,
   "metadata": {},
   "outputs": [],
   "source": []
  }
 ],
 "metadata": {
  "kernelspec": {
   "display_name": "Python 3",
   "language": "python",
   "name": "python3"
  },
  "language_info": {
   "codemirror_mode": {
    "name": "ipython",
    "version": 3
   },
   "file_extension": ".py",
   "mimetype": "text/x-python",
   "name": "python",
   "nbconvert_exporter": "python",
   "pygments_lexer": "ipython3",
   "version": "3.7.6"
  }
 },
 "nbformat": 4,
 "nbformat_minor": 4
}
