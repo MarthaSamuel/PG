{
  "nbformat": 4,
  "nbformat_minor": 0,
  "metadata": {
    "kernelspec": {
      "display_name": "Python 3",
      "language": "python",
      "name": "python3"
    },
    "language_info": {
      "codemirror_mode": {
        "name": "ipython",
        "version": 3
      },
      "file_extension": ".py",
      "mimetype": "text/x-python",
      "name": "python",
      "nbconvert_exporter": "python",
      "pygments_lexer": "ipython3",
      "version": "3.8.3"
    },
    "toc": {
      "base_numbering": 1,
      "nav_menu": {},
      "number_sections": true,
      "sideBar": true,
      "skip_h1_title": false,
      "title_cell": "Table of Contents",
      "title_sidebar": "Contents",
      "toc_cell": false,
      "toc_position": {},
      "toc_section_display": true,
      "toc_window_display": false
    },
    "colab": {
      "name": "Autoencoder for reconstruction.ipynb",
      "provenance": [],
      "collapsed_sections": []
    }
  },
  "cells": [
    {
      "cell_type": "code",
      "metadata": {
        "id": "tB2uqWT6l_Yw"
      },
      "source": [
        "import tensorflow as tf"
      ],
      "execution_count": null,
      "outputs": []
    },
    {
      "cell_type": "code",
      "metadata": {
        "id": "y0mvM89zl_Y4",
        "outputId": "1e0e8180-6e37-4d18-bb69-f1ebb808b115"
      },
      "source": [
        "tf.__version__"
      ],
      "execution_count": null,
      "outputs": [
        {
          "data": {
            "text/plain": [
              "'2.3.1'"
            ]
          },
          "execution_count": 2,
          "metadata": {},
          "output_type": "execute_result"
        }
      ]
    },
    {
      "cell_type": "code",
      "metadata": {
        "id": "bCv6_dLYHhbC"
      },
      "source": [
        ""
      ],
      "execution_count": null,
      "outputs": []
    },
    {
      "cell_type": "code",
      "metadata": {
        "id": "9FMGkPM7l_Y6"
      },
      "source": [
        "from tensorflow.keras.layers import Input, Dense\n",
        "from tensorflow.keras.models import Model\n",
        "\n",
        "# this is the size of our encoded representations\n",
        "encoding_dim = 32  # 32 floats -> compression factor of 24.5, assuming the input is 784 floats ie 28x28\n",
        "\n",
        "# this is our input placeholder\n",
        "\n",
        "input_img = Input(shape=(784,)) #784/24.5\n",
        "\n",
        "# \"encoded\" is the encoded representation of the input. This will output 32 neurons as image is compressed by 24.5\n",
        "\n",
        "encoded = Dense(encoding_dim, activation='relu')(input_img)\n",
        "\n",
        "# \"decoded\" is the lossy reconstruction of the input\n",
        "\n",
        "decoded = Dense(784, activation='sigmoid')(encoded)\n",
        "\n",
        "# this model maps an input to its reconstruction\n",
        "autoencoder = Model(input_img, decoded)"
      ],
      "execution_count": null,
      "outputs": []
    },
    {
      "cell_type": "code",
      "metadata": {
        "id": "YZ6x0kLYl_Y8"
      },
      "source": [
        "# this model maps an input to its encoded representation\n",
        "encoder = Model(input_img, encoded)"
      ],
      "execution_count": null,
      "outputs": []
    },
    {
      "cell_type": "code",
      "metadata": {
        "id": "Dwzd5g3_l_Y9"
      },
      "source": [
        "# create a placeholder for an encoded (32-dimensional) input\n",
        "encoded_input = Input(shape=(encoding_dim,))\n",
        "# retrieve the last layer of the autoencoder model\n",
        "decoder_layer = autoencoder.layers[-1]\n",
        "# create the decoder model\n",
        "\n",
        "decoder = Model(encoded_input, decoder_layer(encoded_input))\n"
      ],
      "execution_count": null,
      "outputs": []
    },
    {
      "cell_type": "code",
      "metadata": {
        "id": "pE57bCgTl_Y-"
      },
      "source": [
        "autoencoder.compile(optimizer='adam', loss='binary_crossentropy')  #optimizers with momentum will do better at removing noise. expt with this"
      ],
      "execution_count": null,
      "outputs": []
    },
    {
      "cell_type": "code",
      "metadata": {
        "id": "Nvo2qYxdl_ZA"
      },
      "source": [
        "from tensorflow.keras.datasets import mnist\n",
        "import numpy as np\n",
        "\n",
        "(x_train, y_train), (x_test, y_test) = mnist.load_data()"
      ],
      "execution_count": null,
      "outputs": []
    },
    {
      "cell_type": "code",
      "metadata": {
        "id": "Sj-LMAsSl_ZB",
        "outputId": "7bbac934-8b02-4dd6-d076-063c8e53717c"
      },
      "source": [
        "print (x_train.shape)\n"
      ],
      "execution_count": null,
      "outputs": [
        {
          "name": "stdout",
          "output_type": "stream",
          "text": [
            "(60000, 28, 28)\n"
          ]
        }
      ]
    },
    {
      "cell_type": "code",
      "metadata": {
        "id": "02ak79Zjl_ZD",
        "outputId": "2b19f107-22af-492d-d2f2-96d30a708b91"
      },
      "source": [
        "x_train = x_train.astype('float32') / 255. #normalizing\n",
        "x_test = x_test.astype('float32') / 255.\n",
        "\n",
        "x_train = x_train.reshape((len(x_train), np.prod(x_train.shape[1:])))\n",
        "x_test = x_test.reshape((len(x_test), np.prod(x_test.shape[1:])))\n",
        "\n",
        "print (x_train.shape)\n",
        "print (x_test.shape)"
      ],
      "execution_count": null,
      "outputs": [
        {
          "name": "stdout",
          "output_type": "stream",
          "text": [
            "(60000, 784)\n",
            "(10000, 784)\n"
          ]
        }
      ]
    },
    {
      "cell_type": "code",
      "metadata": {
        "id": "wH6aHPTYl_ZF",
        "outputId": "8c006b1c-21b2-45b1-9499-62a72512089e"
      },
      "source": [
        "autoencoder.fit(x_train, x_train,\n",
        "                epochs=50,\n",
        "                batch_size=256,\n",
        "                shuffle=True,\n",
        "                validation_data=(x_test, x_test))"
      ],
      "execution_count": null,
      "outputs": [
        {
          "name": "stdout",
          "output_type": "stream",
          "text": [
            "Epoch 1/50\n",
            "235/235 [==============================] - 2s 9ms/step - loss: 0.2750 - val_loss: 0.1909\n",
            "Epoch 2/50\n",
            "235/235 [==============================] - 2s 7ms/step - loss: 0.1710 - val_loss: 0.1530\n",
            "Epoch 3/50\n",
            "235/235 [==============================] - 2s 8ms/step - loss: 0.1438 - val_loss: 0.1333\n",
            "Epoch 4/50\n",
            "235/235 [==============================] - 2s 8ms/step - loss: 0.1284 - val_loss: 0.1211\n",
            "Epoch 5/50\n",
            "235/235 [==============================] - 2s 8ms/step - loss: 0.1181 - val_loss: 0.1128\n",
            "Epoch 6/50\n",
            "235/235 [==============================] - 2s 7ms/step - loss: 0.1111 - val_loss: 0.1071\n",
            "Epoch 7/50\n",
            "235/235 [==============================] - 2s 7ms/step - loss: 0.1062 - val_loss: 0.1029\n",
            "Epoch 8/50\n",
            "235/235 [==============================] - 2s 7ms/step - loss: 0.1025 - val_loss: 0.0998\n",
            "Epoch 9/50\n",
            "235/235 [==============================] - 2s 7ms/step - loss: 0.0998 - val_loss: 0.0975\n",
            "Epoch 10/50\n",
            "235/235 [==============================] - 2s 7ms/step - loss: 0.0979 - val_loss: 0.0958\n",
            "Epoch 11/50\n",
            "235/235 [==============================] - 2s 7ms/step - loss: 0.0965 - val_loss: 0.0948\n",
            "Epoch 12/50\n",
            "235/235 [==============================] - 2s 8ms/step - loss: 0.0956 - val_loss: 0.0940\n",
            "Epoch 13/50\n",
            "235/235 [==============================] - 2s 8ms/step - loss: 0.0950 - val_loss: 0.0935\n",
            "Epoch 14/50\n",
            "235/235 [==============================] - 2s 7ms/step - loss: 0.0946 - val_loss: 0.0932\n",
            "Epoch 15/50\n",
            "235/235 [==============================] - 2s 7ms/step - loss: 0.0943 - val_loss: 0.0929\n",
            "Epoch 16/50\n",
            "235/235 [==============================] - 2s 7ms/step - loss: 0.0941 - val_loss: 0.0927\n",
            "Epoch 17/50\n",
            "235/235 [==============================] - 2s 7ms/step - loss: 0.0939 - val_loss: 0.0925\n",
            "Epoch 18/50\n",
            "235/235 [==============================] - 2s 7ms/step - loss: 0.0938 - val_loss: 0.0925\n",
            "Epoch 19/50\n",
            "235/235 [==============================] - 2s 7ms/step - loss: 0.0937 - val_loss: 0.0924\n",
            "Epoch 20/50\n",
            "235/235 [==============================] - 2s 8ms/step - loss: 0.0935 - val_loss: 0.0922\n",
            "Epoch 21/50\n",
            "235/235 [==============================] - 2s 8ms/step - loss: 0.0935 - val_loss: 0.0921\n",
            "Epoch 22/50\n",
            "235/235 [==============================] - 2s 8ms/step - loss: 0.0934 - val_loss: 0.0921\n",
            "Epoch 23/50\n",
            "235/235 [==============================] - 2s 7ms/step - loss: 0.0933 - val_loss: 0.0920\n",
            "Epoch 24/50\n",
            "235/235 [==============================] - 2s 7ms/step - loss: 0.0932 - val_loss: 0.0921\n",
            "Epoch 25/50\n",
            "235/235 [==============================] - 2s 7ms/step - loss: 0.0932 - val_loss: 0.0919\n",
            "Epoch 26/50\n",
            "235/235 [==============================] - 2s 7ms/step - loss: 0.0931 - val_loss: 0.0920\n",
            "Epoch 27/50\n",
            "235/235 [==============================] - 2s 8ms/step - loss: 0.0931 - val_loss: 0.0918\n",
            "Epoch 28/50\n",
            "235/235 [==============================] - 2s 7ms/step - loss: 0.0931 - val_loss: 0.0918\n",
            "Epoch 29/50\n",
            "235/235 [==============================] - 2s 7ms/step - loss: 0.0930 - val_loss: 0.0918\n",
            "Epoch 30/50\n",
            "235/235 [==============================] - 2s 8ms/step - loss: 0.0930 - val_loss: 0.0918\n",
            "Epoch 31/50\n",
            "235/235 [==============================] - 2s 7ms/step - loss: 0.0930 - val_loss: 0.0918\n",
            "Epoch 32/50\n",
            "235/235 [==============================] - 2s 8ms/step - loss: 0.0929 - val_loss: 0.0918\n",
            "Epoch 33/50\n",
            "235/235 [==============================] - 2s 7ms/step - loss: 0.0929 - val_loss: 0.0916\n",
            "Epoch 34/50\n",
            "235/235 [==============================] - 2s 7ms/step - loss: 0.0929 - val_loss: 0.0917\n",
            "Epoch 35/50\n",
            "235/235 [==============================] - 2s 7ms/step - loss: 0.0929 - val_loss: 0.0917\n",
            "Epoch 36/50\n",
            "235/235 [==============================] - 2s 7ms/step - loss: 0.0928 - val_loss: 0.0917\n",
            "Epoch 37/50\n",
            "235/235 [==============================] - 2s 7ms/step - loss: 0.0928 - val_loss: 0.0916\n",
            "Epoch 38/50\n",
            "235/235 [==============================] - 2s 7ms/step - loss: 0.0928 - val_loss: 0.0917\n",
            "Epoch 39/50\n",
            "235/235 [==============================] - 2s 8ms/step - loss: 0.0928 - val_loss: 0.0916\n",
            "Epoch 40/50\n",
            "235/235 [==============================] - 2s 8ms/step - loss: 0.0927 - val_loss: 0.0917\n",
            "Epoch 41/50\n",
            "235/235 [==============================] - 2s 7ms/step - loss: 0.0927 - val_loss: 0.0916\n",
            "Epoch 42/50\n",
            "235/235 [==============================] - 2s 7ms/step - loss: 0.0927 - val_loss: 0.0916\n",
            "Epoch 43/50\n",
            "235/235 [==============================] - 2s 7ms/step - loss: 0.0927 - val_loss: 0.0916\n",
            "Epoch 44/50\n",
            "235/235 [==============================] - 2s 7ms/step - loss: 0.0927 - val_loss: 0.0916\n",
            "Epoch 45/50\n",
            "235/235 [==============================] - 2s 7ms/step - loss: 0.0927 - val_loss: 0.0916\n",
            "Epoch 46/50\n",
            "235/235 [==============================] - 2s 7ms/step - loss: 0.0927 - val_loss: 0.0915\n",
            "Epoch 47/50\n",
            "235/235 [==============================] - 2s 7ms/step - loss: 0.0927 - val_loss: 0.0915\n",
            "Epoch 48/50\n",
            "235/235 [==============================] - 2s 7ms/step - loss: 0.0926 - val_loss: 0.0915\n",
            "Epoch 49/50\n",
            "235/235 [==============================] - 2s 8ms/step - loss: 0.0926 - val_loss: 0.0915\n",
            "Epoch 50/50\n",
            "235/235 [==============================] - 2s 8ms/step - loss: 0.0926 - val_loss: 0.0915\n"
          ]
        },
        {
          "data": {
            "text/plain": [
              "<tensorflow.python.keras.callbacks.History at 0x2b03d904850>"
            ]
          },
          "execution_count": 18,
          "metadata": {},
          "output_type": "execute_result"
        }
      ]
    },
    {
      "cell_type": "code",
      "metadata": {
        "id": "Ti1PONL4l_ZH"
      },
      "source": [
        "# encode and decode some digits\n",
        "# note that we take them from the *test* set\n",
        "encoded_imgs = encoder.predict(x_test)\n",
        "decoded_imgs = decoder.predict(encoded_imgs)"
      ],
      "execution_count": null,
      "outputs": []
    },
    {
      "cell_type": "code",
      "metadata": {
        "id": "bD70W-zml_ZH",
        "outputId": "ab293783-217a-46a3-9463-4384aea9b570"
      },
      "source": [
        "# use Matplotlib (don't ask)\n",
        "import matplotlib.pyplot as plt\n",
        "\n",
        "n = 10  # how many digits we will display\n",
        "plt.figure(figsize=(20, 4))\n",
        "\n",
        "for i in range(n):\n",
        "    # display original\n",
        "    ax = plt.subplot(2, n, i + 1)\n",
        "    plt.imshow(x_test[i].reshape(28, 28))\n",
        "    plt.gray()\n",
        "    ax.get_xaxis().set_visible(False)\n",
        "    ax.get_yaxis().set_visible(False)\n",
        "\n",
        "    # display reconstruction\n",
        "    ax = plt.subplot(2, n, i + 1 + n)\n",
        "    plt.imshow(decoded_imgs[i].reshape(28, 28))\n",
        "    plt.gray()\n",
        "    ax.get_xaxis().set_visible(False)\n",
        "    ax.get_yaxis().set_visible(False)\n",
        "plt.show()"
      ],
      "execution_count": null,
      "outputs": [
        {
          "data": {
            "image/png": "[encoded data removed]",
            "text/plain": [
              "<Figure size 1440x288 with 20 Axes>"
            ]
          },
          "metadata": {
            "needs_background": "light"
          },
          "output_type": "display_data"
        }
      ]
    },
    {
      "cell_type": "code",
      "metadata": {
        "id": "LLfP0Gjil_ZJ"
      },
      "source": [
        ""
      ],
      "execution_count": null,
      "outputs": []
    },
    {
      "cell_type": "code",
      "metadata": {
        "id": "aRh3zmGcl_ZJ"
      },
      "source": [
        ""
      ],
      "execution_count": null,
      "outputs": []
    },
    {
      "cell_type": "code",
      "metadata": {
        "id": "-CMlh7yOl_ZK"
      },
      "source": [
        ""
      ],
      "execution_count": null,
      "outputs": []
    },
    {
      "cell_type": "code",
      "metadata": {
        "id": "6DVQIrrPl_ZK"
      },
      "source": [
        ""
      ],
      "execution_count": null,
      "outputs": []
    },
    {
      "cell_type": "code",
      "metadata": {
        "id": "b7ulpfs8l_ZK"
      },
      "source": [
        ""
      ],
      "execution_count": null,
      "outputs": []
    },
    {
      "cell_type": "code",
      "metadata": {
        "id": "5XIgcKYhl_ZL"
      },
      "source": [
        ""
      ],
      "execution_count": null,
      "outputs": []
    },
    {
      "cell_type": "code",
      "metadata": {
        "id": "UDh4FrZal_ZL"
      },
      "source": [
        ""
      ],
      "execution_count": null,
      "outputs": []
    },
    {
      "cell_type": "code",
      "metadata": {
        "id": "cw8ljkVul_ZL"
      },
      "source": [
        ""
      ],
      "execution_count": null,
      "outputs": []
    },
    {
      "cell_type": "code",
      "metadata": {
        "id": "dkW3_-Qzl_ZM"
      },
      "source": [
        ""
      ],
      "execution_count": null,
      "outputs": []
    },
    {
      "cell_type": "code",
      "metadata": {
        "id": "FVr_i0Hnl_ZM"
      },
      "source": [
        ""
      ],
      "execution_count": null,
      "outputs": []
    },
    {
      "cell_type": "code",
      "metadata": {
        "id": "YanCtkr6l_ZN"
      },
      "source": [
        ""
      ],
      "execution_count": null,
      "outputs": []
    }
  ]
}