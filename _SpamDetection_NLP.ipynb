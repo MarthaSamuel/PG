{
 "cells": [
  {
   "cell_type": "code",
   "execution_count": 1,
   "metadata": {},
   "outputs": [],
   "source": [
    "import string\n",
    "import pandas as pd\n",
    "from nltk.corpus import stopwords\n",
    "import numpy as np"
   ]
  },
  {
   "cell_type": "code",
   "execution_count": 2,
   "metadata": {},
   "outputs": [
    {
     "data": {
      "text/html": [
       "<div>\n",
       "<style scoped>\n",
       "    .dataframe tbody tr th:only-of-type {\n",
       "        vertical-align: middle;\n",
       "    }\n",
       "\n",
       "    .dataframe tbody tr th {\n",
       "        vertical-align: top;\n",
       "    }\n",
       "\n",
       "    .dataframe thead th {\n",
       "        text-align: right;\n",
       "    }\n",
       "</style>\n",
       "<table border=\"1\" class=\"dataframe\">\n",
       "  <thead>\n",
       "    <tr style=\"text-align: right;\">\n",
       "      <th></th>\n",
       "      <th>response</th>\n",
       "      <th>message</th>\n",
       "    </tr>\n",
       "  </thead>\n",
       "  <tbody>\n",
       "    <tr>\n",
       "      <th>0</th>\n",
       "      <td>ham</td>\n",
       "      <td>Go until jurong point, crazy.. Available only ...</td>\n",
       "    </tr>\n",
       "    <tr>\n",
       "      <th>1</th>\n",
       "      <td>ham</td>\n",
       "      <td>Ok lar... Joking wif u oni...</td>\n",
       "    </tr>\n",
       "    <tr>\n",
       "      <th>2</th>\n",
       "      <td>spam</td>\n",
       "      <td>Free entry in 2 a wkly comp to win FA Cup fina...</td>\n",
       "    </tr>\n",
       "    <tr>\n",
       "      <th>3</th>\n",
       "      <td>ham</td>\n",
       "      <td>U dun say so early hor... U c already then say...</td>\n",
       "    </tr>\n",
       "    <tr>\n",
       "      <th>4</th>\n",
       "      <td>ham</td>\n",
       "      <td>Nah I don't think he goes to usf, he lives aro...</td>\n",
       "    </tr>\n",
       "  </tbody>\n",
       "</table>\n",
       "</div>"
      ],
      "text/plain": [
       "  response                                            message\n",
       "0      ham  Go until jurong point, crazy.. Available only ...\n",
       "1      ham                      Ok lar... Joking wif u oni...\n",
       "2     spam  Free entry in 2 a wkly comp to win FA Cup fina...\n",
       "3      ham  U dun say so early hor... U c already then say...\n",
       "4      ham  Nah I don't think he goes to usf, he lives aro..."
      ]
     },
     "execution_count": 2,
     "metadata": {},
     "output_type": "execute_result"
    }
   ],
   "source": [
    "df_Spam=pd.read_csv('../SpamCollection/SpamCollection',sep='\\t',names=['response','message'])\n",
    "df_Spam.head()"
   ]
  },
  {
   "cell_type": "code",
   "execution_count": 3,
   "metadata": {},
   "outputs": [
    {
     "data": {
      "text/plain": [
       "(5572, 2)"
      ]
     },
     "execution_count": 3,
     "metadata": {},
     "output_type": "execute_result"
    }
   ],
   "source": [
    "df_Spam.shape"
   ]
  },
  {
   "cell_type": "code",
   "execution_count": 4,
   "metadata": {},
   "outputs": [
    {
     "data": {
      "text/html": [
       "<div>\n",
       "<style scoped>\n",
       "    .dataframe tbody tr th:only-of-type {\n",
       "        vertical-align: middle;\n",
       "    }\n",
       "\n",
       "    .dataframe tbody tr th {\n",
       "        vertical-align: top;\n",
       "    }\n",
       "\n",
       "    .dataframe thead th {\n",
       "        text-align: right;\n",
       "    }\n",
       "</style>\n",
       "<table border=\"1\" class=\"dataframe\">\n",
       "  <thead>\n",
       "    <tr style=\"text-align: right;\">\n",
       "      <th></th>\n",
       "      <th>response</th>\n",
       "      <th>message</th>\n",
       "    </tr>\n",
       "  </thead>\n",
       "  <tbody>\n",
       "    <tr>\n",
       "      <th>count</th>\n",
       "      <td>5572</td>\n",
       "      <td>5572</td>\n",
       "    </tr>\n",
       "    <tr>\n",
       "      <th>unique</th>\n",
       "      <td>2</td>\n",
       "      <td>5169</td>\n",
       "    </tr>\n",
       "    <tr>\n",
       "      <th>top</th>\n",
       "      <td>ham</td>\n",
       "      <td>Sorry, I'll call later</td>\n",
       "    </tr>\n",
       "    <tr>\n",
       "      <th>freq</th>\n",
       "      <td>4825</td>\n",
       "      <td>30</td>\n",
       "    </tr>\n",
       "  </tbody>\n",
       "</table>\n",
       "</div>"
      ],
      "text/plain": [
       "       response                 message\n",
       "count      5572                    5572\n",
       "unique        2                    5169\n",
       "top         ham  Sorry, I'll call later\n",
       "freq       4825                      30"
      ]
     },
     "execution_count": 4,
     "metadata": {},
     "output_type": "execute_result"
    }
   ],
   "source": [
    "df_Spam.describe()"
   ]
  },
  {
   "cell_type": "code",
   "execution_count": 5,
   "metadata": {},
   "outputs": [
    {
     "name": "stdout",
     "output_type": "stream",
     "text": [
      "<class 'pandas.core.frame.DataFrame'>\n",
      "RangeIndex: 5572 entries, 0 to 5571\n",
      "Data columns (total 2 columns):\n",
      " #   Column    Non-Null Count  Dtype \n",
      "---  ------    --------------  ----- \n",
      " 0   response  5572 non-null   object\n",
      " 1   message   5572 non-null   object\n",
      "dtypes: object(2)\n",
      "memory usage: 87.2+ KB\n"
     ]
    }
   ],
   "source": [
    "df_Spam.info()"
   ]
  },
  {
   "cell_type": "code",
   "execution_count": 6,
   "metadata": {},
   "outputs": [
    {
     "data": {
      "text/html": [
       "<div>\n",
       "<style scoped>\n",
       "    .dataframe tbody tr th:only-of-type {\n",
       "        vertical-align: middle;\n",
       "    }\n",
       "\n",
       "    .dataframe tbody tr th {\n",
       "        vertical-align: top;\n",
       "    }\n",
       "\n",
       "    .dataframe thead tr th {\n",
       "        text-align: left;\n",
       "    }\n",
       "\n",
       "    .dataframe thead tr:last-of-type th {\n",
       "        text-align: right;\n",
       "    }\n",
       "</style>\n",
       "<table border=\"1\" class=\"dataframe\">\n",
       "  <thead>\n",
       "    <tr>\n",
       "      <th></th>\n",
       "      <th colspan=\"4\" halign=\"left\">message</th>\n",
       "    </tr>\n",
       "    <tr>\n",
       "      <th></th>\n",
       "      <th>count</th>\n",
       "      <th>unique</th>\n",
       "      <th>top</th>\n",
       "      <th>freq</th>\n",
       "    </tr>\n",
       "    <tr>\n",
       "      <th>response</th>\n",
       "      <th></th>\n",
       "      <th></th>\n",
       "      <th></th>\n",
       "      <th></th>\n",
       "    </tr>\n",
       "  </thead>\n",
       "  <tbody>\n",
       "    <tr>\n",
       "      <th>ham</th>\n",
       "      <td>4825</td>\n",
       "      <td>4516</td>\n",
       "      <td>Sorry, I'll call later</td>\n",
       "      <td>30</td>\n",
       "    </tr>\n",
       "    <tr>\n",
       "      <th>spam</th>\n",
       "      <td>747</td>\n",
       "      <td>653</td>\n",
       "      <td>Please call our customer service representativ...</td>\n",
       "      <td>4</td>\n",
       "    </tr>\n",
       "  </tbody>\n",
       "</table>\n",
       "</div>"
      ],
      "text/plain": [
       "         message                                                            \\\n",
       "           count unique                                                top   \n",
       "response                                                                     \n",
       "ham         4825   4516                             Sorry, I'll call later   \n",
       "spam         747    653  Please call our customer service representativ...   \n",
       "\n",
       "               \n",
       "         freq  \n",
       "response       \n",
       "ham        30  \n",
       "spam        4  "
      ]
     },
     "execution_count": 6,
     "metadata": {},
     "output_type": "execute_result"
    }
   ],
   "source": [
    "df_Spam.groupby('response').describe() "
   ]
  },
  {
   "cell_type": "code",
   "execution_count": 7,
   "metadata": {},
   "outputs": [
    {
     "data": {
      "text/html": [
       "<div>\n",
       "<style scoped>\n",
       "    .dataframe tbody tr th:only-of-type {\n",
       "        vertical-align: middle;\n",
       "    }\n",
       "\n",
       "    .dataframe tbody tr th {\n",
       "        vertical-align: top;\n",
       "    }\n",
       "\n",
       "    .dataframe thead th {\n",
       "        text-align: right;\n",
       "    }\n",
       "</style>\n",
       "<table border=\"1\" class=\"dataframe\">\n",
       "  <thead>\n",
       "    <tr style=\"text-align: right;\">\n",
       "      <th></th>\n",
       "      <th>response</th>\n",
       "      <th>message</th>\n",
       "      <th>length</th>\n",
       "    </tr>\n",
       "  </thead>\n",
       "  <tbody>\n",
       "    <tr>\n",
       "      <th>0</th>\n",
       "      <td>ham</td>\n",
       "      <td>Go until jurong point, crazy.. Available only ...</td>\n",
       "      <td>111</td>\n",
       "    </tr>\n",
       "    <tr>\n",
       "      <th>1</th>\n",
       "      <td>ham</td>\n",
       "      <td>Ok lar... Joking wif u oni...</td>\n",
       "      <td>29</td>\n",
       "    </tr>\n",
       "    <tr>\n",
       "      <th>2</th>\n",
       "      <td>spam</td>\n",
       "      <td>Free entry in 2 a wkly comp to win FA Cup fina...</td>\n",
       "      <td>155</td>\n",
       "    </tr>\n",
       "    <tr>\n",
       "      <th>3</th>\n",
       "      <td>ham</td>\n",
       "      <td>U dun say so early hor... U c already then say...</td>\n",
       "      <td>49</td>\n",
       "    </tr>\n",
       "    <tr>\n",
       "      <th>4</th>\n",
       "      <td>ham</td>\n",
       "      <td>Nah I don't think he goes to usf, he lives aro...</td>\n",
       "      <td>61</td>\n",
       "    </tr>\n",
       "  </tbody>\n",
       "</table>\n",
       "</div>"
      ],
      "text/plain": [
       "  response                                            message  length\n",
       "0      ham  Go until jurong point, crazy.. Available only ...     111\n",
       "1      ham                      Ok lar... Joking wif u oni...      29\n",
       "2     spam  Free entry in 2 a wkly comp to win FA Cup fina...     155\n",
       "3      ham  U dun say so early hor... U c already then say...      49\n",
       "4      ham  Nah I don't think he goes to usf, he lives aro...      61"
      ]
     },
     "execution_count": 7,
     "metadata": {},
     "output_type": "execute_result"
    }
   ],
   "source": [
    "#Verify length of the messages and also add it as a new column \n",
    "df_Spam['length']=df_Spam['message'].apply(len)\n",
    "df_Spam.head()"
   ]
  },
  {
   "cell_type": "code",
   "execution_count": 9,
   "metadata": {},
   "outputs": [
    {
     "data": {
      "text/plain": [
       "155"
      ]
     },
     "execution_count": 9,
     "metadata": {},
     "output_type": "execute_result"
    }
   ],
   "source": [
    "len(df_Spam['message'].iloc[2])"
   ]
  },
  {
   "cell_type": "code",
   "execution_count": 10,
   "metadata": {},
   "outputs": [
    {
     "data": {
      "text/plain": [
       "<matplotlib.axes._subplots.AxesSubplot at 0x7fe8040664d0>"
      ]
     },
     "execution_count": 10,
     "metadata": {},
     "output_type": "execute_result"
    },
    {
     "data": {
      "image/png": "[encoded data removed]",
      "text/plain": [
       "<Figure size 576x576 with 1 Axes>"
      ]
     },
     "metadata": {
      "needs_background": "light"
     },
     "output_type": "display_data"
    }
   ],
   "source": [
    "# histogram for the lengths of the message\n",
    "import matplotlib.pyplot as plt\n",
    "%matplotlib inline\n",
    "\n",
    "plt.figure(figsize=(8,8))\n",
    "df_Spam['length'].hist(bins=40)"
   ]
  },
  {
   "cell_type": "code",
   "execution_count": 12,
   "metadata": {},
   "outputs": [
    {
     "data": {
      "text/plain": [
       "array([<matplotlib.axes._subplots.AxesSubplot object at 0x7fe802f3e650>,\n",
       "       <matplotlib.axes._subplots.AxesSubplot object at 0x7fe802eed690>],\n",
       "      dtype=object)"
      ]
     },
     "execution_count": 12,
     "metadata": {},
     "output_type": "execute_result"
    },
    {
     "data": {
      "text/plain": [
       "<Figure size 1296x648 with 0 Axes>"
      ]
     },
     "metadata": {},
     "output_type": "display_data"
    },
    {
     "data": {
      "image/png": "[encoded data removed]",
      "text/plain": [
       "<Figure size 432x288 with 2 Axes>"
      ]
     },
     "metadata": {
      "needs_background": "light"
     },
     "output_type": "display_data"
    }
   ],
   "source": [
    "# histogram for the lengths of the mail by label\n",
    "\n",
    "plt.figure(figsize=(18,9))\n",
    "\n",
    "df_Spam.hist(bins=40,by='response',column='length')"
   ]
  },
  {
   "cell_type": "code",
   "execution_count": 13,
   "metadata": {},
   "outputs": [
    {
     "data": {
      "text/plain": [
       "count    5572.000000\n",
       "mean       80.489950\n",
       "std        59.942907\n",
       "min         2.000000\n",
       "25%        36.000000\n",
       "50%        62.000000\n",
       "75%       122.000000\n",
       "max       910.000000\n",
       "Name: length, dtype: float64"
      ]
     },
     "execution_count": 13,
     "metadata": {},
     "output_type": "execute_result"
    }
   ],
   "source": [
    "df_Spam['length'].describe()"
   ]
  },
  {
   "cell_type": "code",
   "execution_count": 15,
   "metadata": {},
   "outputs": [
    {
     "data": {
      "text/plain": [
       "\"For me the love should start with attraction.i should feel that I need her every time around me.she should be the first thing which comes in my thoughts.I would start the day and end it with her.she should be there every time I dream.love will be then when my every breath has her name.my life should happen around her.my life will be named to her.I would cry for her.will give all my happiness and take all her sorrows.I will be ready to fight with anyone for her.I will be in love when I will be doing the craziest things for her.love will be when I don't have to proove anyone that my girl is the most beautiful lady on the whole planet.I will always be singing praises for her.love will be when I start up making chicken curry and end up makiing sambar.life will be the most beautiful then.will get every morning and thank god for the day because she is with me.I would like to say a lot..will tell later..\""
      ]
     },
     "execution_count": 15,
     "metadata": {},
     "output_type": "execute_result"
    }
   ],
   "source": [
    "# what is the body for mail for max chars\n",
    "\n",
    "df_Spam[df_Spam['length']==910].iloc[0,1]"
   ]
  },
  {
   "cell_type": "code",
   "execution_count": 16,
   "metadata": {},
   "outputs": [
    {
     "data": {
      "text/plain": [
       "'!\"#$%&\\'()*+,-./:;<=>?@[\\\\]^_`{|}~'"
      ]
     },
     "execution_count": 16,
     "metadata": {},
     "output_type": "execute_result"
    }
   ],
   "source": [
    "string.punctuation"
   ]
  },
  {
   "cell_type": "code",
   "execution_count": 17,
   "metadata": {},
   "outputs": [],
   "source": [
    "#define a function to get rid of stopwords present in the messages\n",
    "#now eliminate stop words\n",
    "def clean(df):\n",
    "    no_punct=[char for char in df if char not in string.punctuation]\n",
    "    no_punct=''.join(no_punct)\n",
    "    return [word for word in no_punct.split() if word not in stopwords.words('english')]\n",
    "    \n"
   ]
  },
  {
   "cell_type": "code",
   "execution_count": 18,
   "metadata": {},
   "outputs": [
    {
     "name": "stdout",
     "output_type": "stream",
     "text": [
      "['Go', 'jurong', 'point,', 'crazy..', 'Available', 'bugis', 'n', 'great', 'world', 'la', 'e', 'buffet...', 'Cine', 'got', 'amore', 'wat...Ok', 'lar...', 'Joking', 'wif', 'u', 'oni...Free', 'entry', '2', 'wkly', 'comp', 'win', 'FA', 'Cup', 'final', 'tkts', '21st', 'May', '2005.', 'Text', 'FA', '87121', 'receive', 'entry', 'question(std', 'txt', \"rate)T&C's\", 'apply', \"08452810075over18'sU\", 'dun', 'say', 'early', 'hor...', 'U', 'c', 'already', 'say...Nah', 'I', 'think', 'goes', 'usf,', 'lives', 'around', 'though']\n"
     ]
    },
    {
     "data": {
      "text/plain": [
       "\"df_Spam['message'].head().apply(clean)\""
      ]
     },
     "execution_count": 18,
     "metadata": {},
     "output_type": "execute_result"
    }
   ],
   "source": [
    "no_spam=print(clean(df_Spam['message'].head()))\n",
    "no_spam\n",
    "\n",
    "# alt, say\n",
    "'''df_Spam['message'].head().apply(clean)'''"
   ]
  },
  {
   "cell_type": "code",
   "execution_count": 19,
   "metadata": {},
   "outputs": [],
   "source": [
    "#start text processing with vectorizer \n",
    "from sklearn.feature_extraction.text import CountVectorizer"
   ]
  },
  {
   "cell_type": "code",
   "execution_count": 20,
   "metadata": {},
   "outputs": [],
   "source": [
    "#use bag of words by applying the function and fit the data into it\n",
    "bag_of_words=CountVectorizer(analyzer=clean).fit(df_Spam['message'])"
   ]
  },
  {
   "cell_type": "code",
   "execution_count": 21,
   "metadata": {},
   "outputs": [
    {
     "data": {
      "text/plain": [
       "11617"
      ]
     },
     "execution_count": 21,
     "metadata": {},
     "output_type": "execute_result"
    }
   ],
   "source": [
    "#print length of bag of words stored in the vocabulary_ attribute\n",
    "len(bag_of_words.vocabulary_)"
   ]
  },
  {
   "cell_type": "code",
   "execution_count": 78,
   "metadata": {},
   "outputs": [
    {
     "data": {
      "text/plain": [
       "{'Go': 2113,\n",
       " 'jurong': 7747,\n",
       " 'point': 9109,\n",
       " 'crazy': 5961,\n",
       " 'Available': 1133,\n",
       " 'bugis': 5410,\n",
       " 'n': 8528,\n",
       " 'great': 7129,\n",
       " 'world': 11355,\n",
       " 'la': 7860,\n",
       " 'e': 6409,\n",
       " 'buffet': 5409,\n",
       " 'Cine': 1521,\n",
       " 'got': 7098,\n",
       " 'amore': 4845,\n",
       " 'wat': 11157,\n",
       " 'Ok': 3177,\n",
       " 'lar': 7893,\n",
       " 'Joking': 2535,\n",
       " 'wif': 11264,\n",
       " 'u': 10890,\n",
       " 'oni': 8782,\n",
       " 'Free': 1993,\n",
       " 'entry': 6523,\n",
       " '2': 423,\n",
       " 'wkly': 11315,\n",
       " 'comp': 5811,\n",
       " 'win': 11276,\n",
       " 'FA': 1882,\n",
       " 'Cup': 1589,\n",
       " 'final': 6749,\n",
       " 'tkts': 10704,\n",
       " '21st': 443,\n",
       " 'May': 2896,\n",
       " '2005': 430,\n",
       " 'Text': 4095,\n",
       " '87121': 871,\n",
       " 'receive': 9444,\n",
       " 'questionstd': 9351,\n",
       " 'txt': 10878,\n",
       " 'rateTCs': 9392,\n",
       " 'apply': 4923,\n",
       " '08452810075over18s': 73,\n",
       " 'U': 4221,\n",
       " 'dun': 6396,\n",
       " 'say': 9746,\n",
       " 'early': 6414,\n",
       " 'hor': 7378,\n",
       " 'c': 5453,\n",
       " 'already': 4821,\n",
       " 'Nah': 3047,\n",
       " 'I': 2362,\n",
       " 'dont': 6315,\n",
       " 'think': 10625,\n",
       " 'goes': 7069,\n",
       " 'usf': 10991,\n",
       " 'lives': 8034,\n",
       " 'around': 4969,\n",
       " 'though': 10642,\n",
       " 'FreeMsg': 1995,\n",
       " 'Hey': 2290,\n",
       " 'darling': 6056,\n",
       " '3': 543,\n",
       " 'weeks': 11203,\n",
       " 'word': 11342,\n",
       " 'back': 5085,\n",
       " 'Id': 2424,\n",
       " 'like': 7992,\n",
       " 'fun': 6947,\n",
       " 'still': 10285,\n",
       " 'Tb': 4072,\n",
       " 'ok': 8759,\n",
       " 'XxX': 4564,\n",
       " 'std': 10265,\n",
       " 'chgs': 5659,\n",
       " 'send': 9833,\n",
       " '£150': 11563,\n",
       " 'rcv': 9401,\n",
       " 'Even': 1851,\n",
       " 'brother': 5385,\n",
       " 'speak': 10163,\n",
       " 'They': 4123,\n",
       " 'treat': 10821,\n",
       " 'aids': 4782,\n",
       " 'patent': 8953,\n",
       " 'As': 1115,\n",
       " 'per': 8988,\n",
       " 'request': 9548,\n",
       " 'Melle': 2907,\n",
       " 'Oru': 3215,\n",
       " 'Minnaminunginte': 2926,\n",
       " 'Nurungu': 3125,\n",
       " 'Vettam': 4329,\n",
       " 'set': 9856,\n",
       " 'callertune': 5484,\n",
       " 'Callers': 1458,\n",
       " 'Press': 3399,\n",
       " '9': 909,\n",
       " 'copy': 5908,\n",
       " 'friends': 6911,\n",
       " 'Callertune': 1459,\n",
       " 'WINNER': 4391,\n",
       " 'valued': 11020,\n",
       " 'network': 8598,\n",
       " 'customer': 6012,\n",
       " 'selected': 9820,\n",
       " 'receivea': 9445,\n",
       " '£900': 11604,\n",
       " 'prize': 9250,\n",
       " 'reward': 9605,\n",
       " 'To': 4161,\n",
       " 'claim': 5711,\n",
       " 'call': 5467,\n",
       " '09061701461': 219,\n",
       " 'Claim': 1523,\n",
       " 'code': 5766,\n",
       " 'KL341': 2562,\n",
       " 'Valid': 4319,\n",
       " '12': 326,\n",
       " 'hours': 7393,\n",
       " 'Had': 2232,\n",
       " 'mobile': 8408,\n",
       " '11': 315,\n",
       " 'months': 8443,\n",
       " 'R': 3442,\n",
       " 'entitled': 6520,\n",
       " 'Update': 4285,\n",
       " 'latest': 7908,\n",
       " 'colour': 5786,\n",
       " 'mobiles': 8409,\n",
       " 'camera': 5496,\n",
       " 'Call': 1454,\n",
       " 'The': 4109,\n",
       " 'Mobile': 2945,\n",
       " 'Co': 1530,\n",
       " 'FREE': 1915,\n",
       " '08002986030': 58,\n",
       " 'Im': 2431,\n",
       " 'gonna': 7082,\n",
       " 'home': 7351,\n",
       " 'soon': 10123,\n",
       " 'want': 11137,\n",
       " 'talk': 10495,\n",
       " 'stuff': 10345,\n",
       " 'anymore': 4893,\n",
       " 'tonight': 10749,\n",
       " 'k': 7753,\n",
       " 'Ive': 2477,\n",
       " 'cried': 5975,\n",
       " 'enough': 6511,\n",
       " 'today': 10716,\n",
       " 'SIX': 3621,\n",
       " 'chances': 5603,\n",
       " 'CASH': 1390,\n",
       " 'From': 2009,\n",
       " '100': 294,\n",
       " '20000': 427,\n",
       " 'pounds': 9167,\n",
       " 'CSH11': 1442,\n",
       " '87575': 875,\n",
       " 'Cost': 1562,\n",
       " '150pday': 364,\n",
       " '6days': 763,\n",
       " '16': 382,\n",
       " 'TsandCs': 4201,\n",
       " 'Reply': 3536,\n",
       " 'HL': 2199,\n",
       " '4': 605,\n",
       " 'info': 7546,\n",
       " 'URGENT': 4244,\n",
       " 'You': 4628,\n",
       " '1': 292,\n",
       " 'week': 11198,\n",
       " 'membership': 8302,\n",
       " '£100000': 11557,\n",
       " 'Prize': 3404,\n",
       " 'Jackpot': 2505,\n",
       " 'Txt': 4215,\n",
       " 'CLAIM': 1415,\n",
       " 'No': 3087,\n",
       " '81010': 821,\n",
       " 'TC': 3981,\n",
       " 'wwwdbuknet': 11423,\n",
       " 'LCCLTD': 2636,\n",
       " 'POBOX': 3259,\n",
       " '4403LDNW1A7RW18': 626,\n",
       " 'searching': 9789,\n",
       " 'right': 9614,\n",
       " 'words': 11346,\n",
       " 'thank': 10584,\n",
       " 'breather': 5358,\n",
       " 'promise': 9284,\n",
       " 'wont': 11337,\n",
       " 'take': 10487,\n",
       " 'help': 7281,\n",
       " 'granted': 7121,\n",
       " 'fulfil': 6943,\n",
       " 'wonderful': 11334,\n",
       " 'blessing': 5267,\n",
       " 'times': 10683,\n",
       " 'HAVE': 2175,\n",
       " 'A': 933,\n",
       " 'DATE': 1607,\n",
       " 'ON': 3146,\n",
       " 'SUNDAY': 3694,\n",
       " 'WITH': 4394,\n",
       " 'WILL': 4389,\n",
       " 'XXXMobileMovieClub': 4555,\n",
       " 'use': 10985,\n",
       " 'credit': 5966,\n",
       " 'click': 5732,\n",
       " 'WAP': 4359,\n",
       " 'link': 8010,\n",
       " 'next': 8612,\n",
       " 'message': 8325,\n",
       " 'httpwap': 7416,\n",
       " 'xxxmobilemovieclubcomnQJKGIGHJJGCBL': 11465,\n",
       " 'Oh': 3172,\n",
       " 'kim': 7810,\n",
       " 'watching': 11162,\n",
       " 'Eh': 1818,\n",
       " 'remember': 9511,\n",
       " 'spell': 10177,\n",
       " 'name': 8540,\n",
       " 'Yes': 4613,\n",
       " 'He': 2261,\n",
       " 'v': 11008,\n",
       " 'naughty': 8560,\n",
       " 'make': 8192,\n",
       " 'wet': 11232,\n",
       " 'Fine': 1965,\n",
       " 'that\\x92s': 10597,\n",
       " 'way': 11171,\n",
       " 'feel': 6709,\n",
       " 'That\\x92s': 4107,\n",
       " 'gota': 7099,\n",
       " 'b': 5072,\n",
       " 'England': 1833,\n",
       " 'Macedonia': 2864,\n",
       " 'miss': 8383,\n",
       " 'goalsteam': 7062,\n",
       " 'news': 8607,\n",
       " 'ur': 10969,\n",
       " 'national': 8554,\n",
       " 'team': 10530,\n",
       " '87077': 870,\n",
       " 'eg': 6450,\n",
       " 'ENGLAND': 1776,\n",
       " 'TryWALES': 4195,\n",
       " 'SCOTLAND': 3584,\n",
       " '4txtú120': 677,\n",
       " 'POBOXox36504W45WQ': 3262,\n",
       " 'Is': 2464,\n",
       " 'seriously': 9850,\n",
       " 'I‘m': 2484,\n",
       " 'going': 7074,\n",
       " 'try': 10847,\n",
       " 'ha': 7184,\n",
       " 'joking': 7726,\n",
       " 'So': 3851,\n",
       " 'ü': 11610,\n",
       " 'pay': 8961,\n",
       " 'first': 6776,\n",
       " 'Then': 4115,\n",
       " 'da': 6024,\n",
       " 'stock': 10289,\n",
       " 'comin': 5801,\n",
       " 'Aft': 1032,\n",
       " 'finish': 6762,\n",
       " 'lunch': 8139,\n",
       " 'go': 7056,\n",
       " 'str': 10309,\n",
       " 'lor': 8080,\n",
       " 'Ard': 1104,\n",
       " 'smth': 10073,\n",
       " 'Ffffffffff': 1956,\n",
       " 'Alright': 1069,\n",
       " 'meet': 8284,\n",
       " 'sooner': 10124,\n",
       " 'Just': 2551,\n",
       " 'forced': 6847,\n",
       " 'eat': 6426,\n",
       " 'slice': 10028,\n",
       " 'really': 9426,\n",
       " 'hungry': 7441,\n",
       " 'tho': 10638,\n",
       " 'This': 4132,\n",
       " 'sucks': 10378,\n",
       " 'Mark': 2886,\n",
       " 'getting': 7024,\n",
       " 'worried': 11361,\n",
       " 'knows': 7835,\n",
       " 'sick': 9956,\n",
       " 'turn': 10864,\n",
       " 'pizza': 9061,\n",
       " 'Lol': 2733,\n",
       " 'always': 4833,\n",
       " 'convincing': 5895,\n",
       " 'Did': 1706,\n",
       " 'catch': 5566,\n",
       " 'bus': 5429,\n",
       " 'Are': 1105,\n",
       " 'frying': 6933,\n",
       " 'egg': 6452,\n",
       " 'tea': 10524,\n",
       " 'eating': 6429,\n",
       " 'moms': 8427,\n",
       " 'left': 7940,\n",
       " 'dinner': 6237,\n",
       " 'Do': 1729,\n",
       " 'Love': 2746,\n",
       " 'amp': 4847,\n",
       " 'packing': 8885,\n",
       " 'car': 5523,\n",
       " 'Ill': 2429,\n",
       " 'let': 7961,\n",
       " 'know': 7831,\n",
       " 'theres': 10613,\n",
       " 'room': 9652,\n",
       " 'Ahhh': 1043,\n",
       " 'Work': 4530,\n",
       " 'vaguely': 11011,\n",
       " 'What': 4478,\n",
       " 'Wait': 4428,\n",
       " 'thats': 10596,\n",
       " 'clear': 5726,\n",
       " 'sure': 10429,\n",
       " 'sarcastic': 9728,\n",
       " 'x': 11452,\n",
       " 'doesnt': 6291,\n",
       " 'live': 8031,\n",
       " 'us': 10979,\n",
       " 'Yeah': 4604,\n",
       " 'apologetic': 4911,\n",
       " 'fallen': 6660,\n",
       " 'actin': 4701,\n",
       " 'spoilt': 10197,\n",
       " 'child': 5675,\n",
       " 'caught': 5570,\n",
       " 'Till': 4148,\n",
       " 'But': 1365,\n",
       " 'Not': 3113,\n",
       " 'badly': 5090,\n",
       " 'cheers': 5642,\n",
       " 'K': 2553,\n",
       " 'tell': 10546,\n",
       " 'anything': 4899,\n",
       " 'For': 1981,\n",
       " 'fear': 6701,\n",
       " 'fainting': 6651,\n",
       " 'housework': 7397,\n",
       " 'Quick': 3437,\n",
       " 'cuppa': 6002,\n",
       " 'Thanks': 4100,\n",
       " 'subscription': 10368,\n",
       " 'Ringtone': 3546,\n",
       " 'UK': 4227,\n",
       " 'charged': 5615,\n",
       " '£5month': 11596,\n",
       " 'Please': 3356,\n",
       " 'confirm': 5853,\n",
       " 'replying': 9543,\n",
       " 'YES': 4574,\n",
       " 'NO': 3022,\n",
       " 'If': 2428,\n",
       " 'reply': 9541,\n",
       " 'Yup': 4642,\n",
       " 'look': 8072,\n",
       " 'timings': 10689,\n",
       " 'msg': 8475,\n",
       " 'Xuhui': 4562,\n",
       " 'learn': 7929,\n",
       " '2nd': 526,\n",
       " 'may': 8257,\n",
       " 'lesson': 7959,\n",
       " '8am': 903,\n",
       " 'Oops': 3201,\n",
       " 'roommates': 9655,\n",
       " 'done': 6312,\n",
       " 'see': 9805,\n",
       " 'letter': 7963,\n",
       " 'B': 1143,\n",
       " 'Anything': 1090,\n",
       " 'decide': 6107,\n",
       " 'Hello': 2275,\n",
       " 'Hows': 2350,\n",
       " 'saturday': 9738,\n",
       " 'texting': 10575,\n",
       " 'youd': 11510,\n",
       " 'decided': 6108,\n",
       " 'tomo': 10738,\n",
       " 'im': 7499,\n",
       " 'trying': 10849,\n",
       " 'invite': 7602,\n",
       " 'Pls': 3358,\n",
       " 'ahead': 4774,\n",
       " 'watts': 11169,\n",
       " 'wanted': 11139,\n",
       " 'weekend': 11200,\n",
       " 'Abiola': 1011,\n",
       " 'forget': 6853,\n",
       " 'need': 8578,\n",
       " 'crave': 5958,\n",
       " 'love': 8105,\n",
       " 'sweet': 10453,\n",
       " 'Arabian': 1102,\n",
       " 'steed': 10271,\n",
       " 'Mmmmmm': 2939,\n",
       " 'Yummy': 4639,\n",
       " '07732584351': 29,\n",
       " 'Rodger': 3552,\n",
       " 'Burns': 1363,\n",
       " 'MSG': 2846,\n",
       " 'We': 4456,\n",
       " 'tried': 10830,\n",
       " 'sms': 10068,\n",
       " 'free': 6891,\n",
       " 'nokia': 8647,\n",
       " 'camcorder': 5494,\n",
       " '08000930705': 54,\n",
       " 'delivery': 6142,\n",
       " 'tomorrow': 10741,\n",
       " 'WHO': 4383,\n",
       " 'ARE': 983,\n",
       " 'YOU': 4587,\n",
       " 'SEEING': 3588,\n",
       " 'Great': 2141,\n",
       " 'hope': 7369,\n",
       " 'man': 8201,\n",
       " 'well': 11215,\n",
       " 'endowed': 6495,\n",
       " 'ltgt': 8131,\n",
       " 'inches': 7525,\n",
       " 'callsmessagesmissed': 5490,\n",
       " 'calls': 5489,\n",
       " 'Didnt': 1707,\n",
       " 'get': 7016,\n",
       " 'hep': 7290,\n",
       " 'immunisation': 7507,\n",
       " 'nigeria': 8619,\n",
       " 'Fair': 1944,\n",
       " 'hopefully': 7374,\n",
       " 'tyler': 10884,\n",
       " 'cant': 5512,\n",
       " 'could': 5930,\n",
       " 'maybe': 8259,\n",
       " 'ask': 4991,\n",
       " 'bit': 5245,\n",
       " 'stubborn': 10335,\n",
       " 'didnt': 6206,\n",
       " 'even': 6561,\n",
       " 'hospital': 7384,\n",
       " 'kept': 7786,\n",
       " 'telling': 10547,\n",
       " 'weak': 11175,\n",
       " 'sucker': 10376,\n",
       " 'Hospitals': 2341,\n",
       " 'suckers': 10377,\n",
       " 'thinked': 10627,\n",
       " 'First': 1969,\n",
       " 'time': 10679,\n",
       " 'saw': 9745,\n",
       " 'class': 5719,\n",
       " 'gram': 7115,\n",
       " 'usually': 10997,\n",
       " 'runs': 9687,\n",
       " 'half': 7196,\n",
       " 'eighth': 6459,\n",
       " 'smarter': 10050,\n",
       " 'gets': 7020,\n",
       " 'almost': 4817,\n",
       " 'whole': 11255,\n",
       " 'second': 9793,\n",
       " 'fyi': 6960,\n",
       " 'ride': 9613,\n",
       " 'morning': 8448,\n",
       " 'hes': 7301,\n",
       " 'crashing': 5957,\n",
       " 'place': 9062,\n",
       " 'Wow': 4537,\n",
       " 'never': 8602,\n",
       " 'realized': 9424,\n",
       " 'embarassed': 6479,\n",
       " 'accomodations': 4684,\n",
       " 'thought': 10643,\n",
       " 'liked': 7993,\n",
       " 'since': 9980,\n",
       " 'best': 5206,\n",
       " 'seemed': 9811,\n",
       " 'happy': 7227,\n",
       " 'cave': 5574,\n",
       " 'sorry': 10133,\n",
       " 'give': 7042,\n",
       " 'offered': 8739,\n",
       " 'embarassing': 6480,\n",
       " 'SMS': 3632,\n",
       " 'ac': 4670,\n",
       " 'Sptv': 3894,\n",
       " 'New': 3067,\n",
       " 'Jersey': 2525,\n",
       " 'Devils': 1700,\n",
       " 'Detroit': 1699,\n",
       " 'Red': 3516,\n",
       " 'Wings': 4505,\n",
       " 'play': 9076,\n",
       " 'Ice': 2422,\n",
       " 'Hockey': 2319,\n",
       " 'Correct': 1560,\n",
       " 'Incorrect': 2440,\n",
       " 'End': 1831,\n",
       " 'END': 1774,\n",
       " 'SPTV': 3665,\n",
       " 'Mallika': 2876,\n",
       " 'Sherawat': 3782,\n",
       " 'yesterday': 11491,\n",
       " 'Find': 1964,\n",
       " 'ltURLgt': 8130,\n",
       " 'Congrats': 1551,\n",
       " 'year': 11482,\n",
       " 'special': 10165,\n",
       " 'cinema': 5707,\n",
       " 'pass': 8942,\n",
       " '09061209465': 214,\n",
       " 'C': 1373,\n",
       " 'Suprman': 3954,\n",
       " 'V': 4302,\n",
       " 'Matrix3': 2893,\n",
       " 'StarWars3': 3903,\n",
       " 'etc': 6551,\n",
       " 'bx420ip45we': 5448,\n",
       " '150pm': 365,\n",
       " 'Dont': 1742,\n",
       " 'Sorry': 3867,\n",
       " 'later': 7906,\n",
       " 'meeting': 8286,\n",
       " 'Tell': 4084,\n",
       " 'reached': 9408,\n",
       " 'Yesgauti': 4616,\n",
       " 'sehwag': 9817,\n",
       " 'odi': 8733,\n",
       " 'series': 9848,\n",
       " 'Your': 4632,\n",
       " 'pick': 9036,\n",
       " 'burger': 5421,\n",
       " 'move': 8462,\n",
       " 'Pain': 3301,\n",
       " 'killing': 7807,\n",
       " 'Ha': 2229,\n",
       " 'good': 7084,\n",
       " 'joke': 7721,\n",
       " 'Girls': 2108,\n",
       " 'situation': 10000,\n",
       " 'seekers': 9808,\n",
       " 'Its': 2472,\n",
       " 'part': 8931,\n",
       " 'checking': 5639,\n",
       " 'IQ': 2404,\n",
       " 'took': 10758,\n",
       " 'forever': 6850,\n",
       " 'come': 5793,\n",
       " 'double': 6326,\n",
       " 'check': 5636,\n",
       " 'hair': 7193,\n",
       " 'dresser': 6354,\n",
       " 'said': 9704,\n",
       " 'wun': 11400,\n",
       " 'cut': 6015,\n",
       " 'short': 9922,\n",
       " 'nice': 8615,\n",
       " 'pleased': 9087,\n",
       " 'advise': 4739,\n",
       " 'following': 6831,\n",
       " 'recent': 9448,\n",
       " 'review': 9603,\n",
       " 'Mob': 2942,\n",
       " 'awarded': 5065,\n",
       " '£1500': 11564,\n",
       " 'Bonus': 1315,\n",
       " '09066364589': 263,\n",
       " 'Today': 4163,\n",
       " 'song': 10119,\n",
       " 'dedicated': 6117,\n",
       " 'day': 6073,\n",
       " 'Which': 4492,\n",
       " 'dedicate': 6116,\n",
       " 'Send': 3751,\n",
       " 'valuable': 11017,\n",
       " 'frnds': 6920,\n",
       " 'rply': 9668,\n",
       " 'Urgent': 4292,\n",
       " 'UR': 4241,\n",
       " 'complimentary': 5828,\n",
       " 'trip': 10831,\n",
       " 'EuroDisinc': 1848,\n",
       " 'Trav': 4185,\n",
       " 'AcoEntry41': 1021,\n",
       " 'Or': 3207,\n",
       " '£1000': 11555,\n",
       " 'DIS': 1627,\n",
       " '186£150moreFrmMob': 391,\n",
       " 'ShrAcomOrSglSuplt10': 3803,\n",
       " 'LS1': 2674,\n",
       " '3AJ': 576,\n",
       " 'hear': 7258,\n",
       " 'new': 8605,\n",
       " 'Divorce': 1723,\n",
       " 'Barbie': 1253,\n",
       " 'It': 2468,\n",
       " 'comes': 5797,\n",
       " 'Kens': 2582,\n",
       " 'plane': 9069,\n",
       " 'month': 8440,\n",
       " 'end': 6490,\n",
       " 'Wah': 4426,\n",
       " 'lucky': 8136,\n",
       " 'save': 9741,\n",
       " 'money': 8433,\n",
       " 'Hee': 2269,\n",
       " 'Finished': 1968,\n",
       " 'HI': 2193,\n",
       " 'BABE': 1147,\n",
       " 'IM': 2381,\n",
       " 'AT': 994,\n",
       " 'HOME': 2205,\n",
       " 'NOW': 3035,\n",
       " 'WANNA': 4356,\n",
       " 'DO': 1630,\n",
       " 'SOMETHING': 3642,\n",
       " 'XX': 4552,\n",
       " 'Kkwhere': 2612,\n",
       " 'youhow': 11513,\n",
       " 'performed': 8995,\n",
       " 'waiting': 11116,\n",
       " 'machan': 8161,\n",
       " 'Thats': 4106,\n",
       " 'cool': 5901,\n",
       " 'gentleman': 7010,\n",
       " 'dignity': 6228,\n",
       " 'respect': 9569,\n",
       " 'peoples': 8987,\n",
       " 'much': 8491,\n",
       " 'shy': 9952,\n",
       " 'pa': 8880,\n",
       " 'Does': 1732,\n",
       " 'operate': 8798,\n",
       " 'Still': 3915,\n",
       " 'looking': 8075,\n",
       " 'job': 7708,\n",
       " 'How': 2347,\n",
       " 'Tas': 4069,\n",
       " 'earn': 6415,\n",
       " 'ah': 4772,\n",
       " 'hi': 7308,\n",
       " 'stop': 10298,\n",
       " 'urgnt': 10974,\n",
       " 'real': 9418,\n",
       " 'yo': 11500,\n",
       " 'tickets': 10670,\n",
       " 'one': 8778,\n",
       " 'jacket': 7669,\n",
       " 'used': 10986,\n",
       " 'multis': 8499,\n",
       " 'started': 10246,\n",
       " 'requests': 9549,\n",
       " 'pain': 8892,\n",
       " 'came': 5495,\n",
       " 'bed': 5165,\n",
       " 'Double': 1748,\n",
       " 'coins': 5772,\n",
       " 'factory': 6643,\n",
       " 'gotta': 7102,\n",
       " 'cash': 5555,\n",
       " 'nitros': 8637,\n",
       " 'babe': 5077,\n",
       " 'Ela': 1821,\n",
       " 'kanoil': 7769,\n",
       " 'download': 6332,\n",
       " 'wen': 11220,\n",
       " 'Don‘t': 1745,\n",
       " 'stand': 10235,\n",
       " 'close': 5738,\n",
       " 'you‘ll': 11530,\n",
       " 'something': 10107,\n",
       " 'another': 4878,\n",
       " 'night': 8620,\n",
       " 'spent': 10182,\n",
       " 'late': 7901,\n",
       " 'afternoon': 4755,\n",
       " 'casualty': 5564,\n",
       " 'means': 8275,\n",
       " 'havent': 7243,\n",
       " 'stuff42moro': 10346,\n",
       " 'includes': 7528,\n",
       " 'sheets': 9891,\n",
       " 'Smile': 3843,\n",
       " 'Pleasure': 3357,\n",
       " 'trouble': 10836,\n",
       " 'pours': 9169,\n",
       " 'Rain': 3489,\n",
       " 'sum1': 10396,\n",
       " 'Hurts': 2360,\n",
       " 'becoz': 5163,\n",
       " 'SOMEONE': 3640,\n",
       " 'Loves': 2752,\n",
       " 'Smiling': 3845,\n",
       " 'service': 9853,\n",
       " 'representative': 9546,\n",
       " '0800': 50,\n",
       " '169': 384,\n",
       " '6031': 726,\n",
       " '10am9pm': 309,\n",
       " 'WON': 4403,\n",
       " 'guaranteed': 7161,\n",
       " '£5000': 11591,\n",
       " 'Havent': 2258,\n",
       " 'planning': 9073,\n",
       " 'buy': 5440,\n",
       " 'lido': 7975,\n",
       " '530': 697,\n",
       " 'show': 9936,\n",
       " 'work': 11347,\n",
       " 'ringtone': 9621,\n",
       " 'collected': 5779,\n",
       " 'Simply': 3813,\n",
       " 'text': 10570,\n",
       " 'password': 8950,\n",
       " 'MIX': 2819,\n",
       " '85069': 856,\n",
       " 'verify': 11038,\n",
       " 'Get': 2100,\n",
       " 'Usher': 4297,\n",
       " 'Britney': 1349,\n",
       " 'FML': 1906,\n",
       " 'PO': 3257,\n",
       " 'Box': 1326,\n",
       " '5249': 694,\n",
       " 'MK17': 2820,\n",
       " '92H': 914,\n",
       " '450Ppw': 636,\n",
       " 'Watching': 4450,\n",
       " 'telugu': 10551,\n",
       " 'moviewat': 8467,\n",
       " 'abt': 4666,\n",
       " 'When': 4483,\n",
       " 'loads': 8042,\n",
       " 'loans': 8044,\n",
       " 'Hi': 2293,\n",
       " 'Wk': 4515,\n",
       " 'hols': 7349,\n",
       " 'run': 9684,\n",
       " 'Forgot': 1986,\n",
       " 'hairdressers': 7195,\n",
       " 'appointment': 4927,\n",
       " 'four': 6877,\n",
       " 'shower': 9938,\n",
       " 'beforehand': 5177,\n",
       " 'cause': 5571,\n",
       " 'prob': 9254,\n",
       " 'cup': 6000,\n",
       " 'coffee': 5767,\n",
       " 'animation': 4865,\n",
       " 'nothing': 8672,\n",
       " 'else': 6474,\n",
       " 'Okay': 3178,\n",
       " 'price': 9230,\n",
       " 'long': 8068,\n",
       " 'legal': 7943,\n",
       " 'Wen': 4469,\n",
       " 'Y': 4566,\n",
       " 'ave': 5053,\n",
       " 'ams': 4849,\n",
       " 'xx': 11462,\n",
       " 'And': 1085,\n",
       " 'gone': 7080,\n",
       " '4the': 675,\n",
       " 'driving': 6363,\n",
       " 'test': 10566,\n",
       " 'yet': 11492,\n",
       " 'wow': 11376,\n",
       " 'Youre': 4633,\n",
       " 'mean': 8271,\n",
       " 'guess': 7165,\n",
       " 'gave': 6991,\n",
       " 'boston': 5318,\n",
       " 'men': 8307,\n",
       " 'changed': 5605,\n",
       " 'search': 9788,\n",
       " 'location': 8047,\n",
       " 'nyc': 8711,\n",
       " 'Cuz': 1598,\n",
       " 'signin': 9966,\n",
       " 'page': 8888,\n",
       " 'says': 9751,\n",
       " 'Umma': 4264,\n",
       " 'life': 7978,\n",
       " 'vava': 11028,\n",
       " 'umma': 10903,\n",
       " 'lot': 8089,\n",
       " 'dear': 6094,\n",
       " 'wishes': 11296,\n",
       " 'birthday': 5243,\n",
       " 'making': 8196,\n",
       " 'truly': 10843,\n",
       " 'memorable': 8304,\n",
       " 'Aight': 1046,\n",
       " 'hit': 7327,\n",
       " 'would': 11372,\n",
       " 'ip': 7610,\n",
       " 'address': 4716,\n",
       " 'considering': 5870,\n",
       " 'computer': 5834,\n",
       " 'isnt': 7632,\n",
       " 'minecraft': 8362,\n",
       " 'server': 9852,\n",
       " 'Grumpy': 2145,\n",
       " 'old': 8772,\n",
       " 'people': 8986,\n",
       " 'My': 2995,\n",
       " 'mom': 8424,\n",
       " 'better': 5212,\n",
       " 'lying': 8152,\n",
       " 'jokes': 7723,\n",
       " 'worry': 11363,\n",
       " 'busy': 5435,\n",
       " 'plural': 9097,\n",
       " 'noun': 8679,\n",
       " 'research': 9555,\n",
       " 'Going': 2119,\n",
       " 'dinnermsg': 6238,\n",
       " 'cos': 5919,\n",
       " 'things': 10624,\n",
       " 'scared': 9757,\n",
       " 'mah': 8182,\n",
       " 'Cos': 1561,\n",
       " 'loud': 8100,\n",
       " 'GENT': 2032,\n",
       " 'contact': 5875,\n",
       " 'Last': 2692,\n",
       " 'weekends': 11201,\n",
       " 'draw': 6342,\n",
       " 'shows': 9943,\n",
       " 'GUARANTEED': 2075,\n",
       " '09064012160': 238,\n",
       " 'Code': 1532,\n",
       " 'K52': 2554,\n",
       " '12hrs': 338,\n",
       " '150ppm': 370,\n",
       " 'Wa': 4424,\n",
       " 'openin': 8795,\n",
       " 'sentence': 9842,\n",
       " 'formal': 6861,\n",
       " 'Anyway': 1092,\n",
       " 'fine': 6757,\n",
       " 'juz': 7752,\n",
       " 'tt': 10853,\n",
       " 'eatin': 6428,\n",
       " 'puttin': 9335,\n",
       " 'weightHaha': 11208,\n",
       " 'anythin': 4898,\n",
       " 'happened': 7219,\n",
       " 'entered': 6513,\n",
       " 'cabin': 5455,\n",
       " 'PA': 3225,\n",
       " 'Happy': 2248,\n",
       " 'Bday': 1260,\n",
       " 'Boss': 1323,\n",
       " 'felt': 6718,\n",
       " 'She': 3780,\n",
       " 'askd': 4992,\n",
       " 'After': 1033,\n",
       " 'invited': 7603,\n",
       " 'apartment': 4907,\n",
       " 'went': 11222,\n",
       " 'winner': 11286,\n",
       " 'specially': 10169,\n",
       " 'holiday': 7345,\n",
       " 'flights': 6801,\n",
       " 'inc': 7523,\n",
       " 'operator': 8799,\n",
       " '0871277810910pmin': 123,\n",
       " '18': 387,\n",
       " 'Goodo': 2128,\n",
       " 'must': 8516,\n",
       " 'friday': 6904,\n",
       " 'eggpotato': 6453,\n",
       " 'ratio': 9395,\n",
       " 'tortilla': 10775,\n",
       " 'needed': 8580,\n",
       " 'Hmmmy': 2316,\n",
       " 'uncle': 10908,\n",
       " 'informed': 7550,\n",
       " 'paying': 8965,\n",
       " 'school': 9763,\n",
       " 'directly': 6242,\n",
       " 'pls': 9093,\n",
       " 'food': 6837,\n",
       " 'PRIVATE': 3287,\n",
       " '2004': 429,\n",
       " 'Account': 1017,\n",
       " 'Statement': 3908,\n",
       " '07742676969': 31,\n",
       " '786': 788,\n",
       " 'unredeemed': 10946,\n",
       " 'Points': 3372,\n",
       " '08719180248': 171,\n",
       " 'Identifier': 2426,\n",
       " '45239': 639,\n",
       " 'Expires': 1874,\n",
       " '£2000': 11576,\n",
       " 'Caller': 1457,\n",
       " '5903': 702,\n",
       " 'Landline': 2687,\n",
       " '09064019788': 244,\n",
       " 'BOX42WR29C': 1211,\n",
       " '150PPM': 355,\n",
       " 'applespairsall': 4921,\n",
       " 'malarky': 8198,\n",
       " 'Todays': 4164,\n",
       " 'Voda': 4338,\n",
       " 'numbers': 8702,\n",
       " 'ending': 6492,\n",
       " '7548': 783,\n",
       " '350': 566,\n",
       " 'award': 5064,\n",
       " 'match': 8238,\n",
       " 'please': 9086,\n",
       " '08712300220': 105,\n",
       " 'quoting': 9362,\n",
       " '4041': 610,\n",
       " 'standard': 10236,\n",
       " 'rates': 9393,\n",
       " 'app': 4915,\n",
       " 'sao': 9723,\n",
       " 'mu': 8490,\n",
       " 'Will': 4502,\n",
       " 'Ü': 11607,\n",
       " 'predict': 9197,\n",
       " 'üll': 11611,\n",
       " 'buying': 5443,\n",
       " 'Good': 2123,\n",
       " 'knowyetunde': 7838,\n",
       " 'hasnt': 7234,\n",
       " 'sent': 9841,\n",
       " 'bother': 5320,\n",
       " 'sending': 9834,\n",
       " 'involve': 7607,\n",
       " 'shouldnt': 9930,\n",
       " 'imposed': 7513,\n",
       " 'apologise': 4912,\n",
       " 'HEY': 2189,\n",
       " 'GIRL': 2038,\n",
       " 'HOW': 2216,\n",
       " 'HOPE': 2209,\n",
       " 'WELL': 4368,\n",
       " 'ME': 2793,\n",
       " 'AN': 972,\n",
       " 'DEL': 1619,\n",
       " 'BAK': 1157,\n",
       " 'AGAIN': 951,\n",
       " 'LONG': 2660,\n",
       " 'TIME': 4024,\n",
       " 'GIVE': 2041,\n",
       " 'CALL': 1377,\n",
       " 'SUM': 3691,\n",
       " 'FROM': 1932,\n",
       " 'LUCYxx': 2680,\n",
       " 'Kkhow': 2606,\n",
       " 'cost': 5921,\n",
       " 'Dear': 1677,\n",
       " 'Tmorrowpls': 4156,\n",
       " 'accomodate': 4683,\n",
       " 'answer': 4881,\n",
       " 'question': 9348,\n",
       " 'Sunshine': 3950,\n",
       " 'Quiz': 3439,\n",
       " 'Wkly': 4516,\n",
       " 'Q': 3425,\n",
       " 'Win': 4503,\n",
       " 'top': 10766,\n",
       " 'Sony': 3864,\n",
       " 'DVD': 1657,\n",
       " 'player': 9078,\n",
       " 'country': 5936,\n",
       " 'Algarve': 1062,\n",
       " 'ansr': 4880,\n",
       " '82277': 827,\n",
       " 'SPTyrone': 3666,\n",
       " 'Want': 4439,\n",
       " 'laid': 7873,\n",
       " 'Dogging': 1734,\n",
       " 'locations': 8048,\n",
       " 'direct': 6241,\n",
       " 'mob': 8407,\n",
       " 'Join': 2531,\n",
       " 'UKs': 4230,\n",
       " 'largest': 7895,\n",
       " 'Network': 3062,\n",
       " 'bt': 5399,\n",
       " 'Txting': 4218,\n",
       " 'GRAVEL': 2071,\n",
       " ...}"
      ]
     },
     "execution_count": 78,
     "metadata": {},
     "output_type": "execute_result"
    }
   ],
   "source": [
    "bag_of_words.vocabulary_"
   ]
  },
  {
   "cell_type": "code",
   "execution_count": 22,
   "metadata": {},
   "outputs": [],
   "source": [
    "#store bag of words for messages using transform method\n",
    "bagofwords_message=bag_of_words.transform(df_Spam['message'])"
   ]
  },
  {
   "cell_type": "code",
   "execution_count": 23,
   "metadata": {},
   "outputs": [
    {
     "name": "stdout",
     "output_type": "stream",
     "text": [
      "  (0, 1133)\t1\n",
      "  (0, 1521)\t1\n",
      "  (0, 2113)\t1\n",
      "  (0, 4845)\t1\n",
      "  (0, 5409)\t1\n",
      "  (0, 5410)\t1\n",
      "  (0, 5961)\t1\n",
      "  (0, 6409)\t1\n",
      "  (0, 7098)\t1\n",
      "  (0, 7129)\t1\n",
      "  (0, 7747)\t1\n",
      "  (0, 7860)\t1\n",
      "  (0, 8528)\t1\n",
      "  (0, 9109)\t1\n",
      "  (0, 11157)\t1\n",
      "  (0, 11355)\t1\n",
      "  (1, 2535)\t1\n",
      "  (1, 3177)\t1\n",
      "  (1, 7893)\t1\n",
      "  (1, 8782)\t1\n",
      "  (1, 10890)\t1\n",
      "  (1, 11264)\t1\n",
      "  (2, 73)\t1\n",
      "  (2, 423)\t1\n",
      "  (2, 430)\t1\n",
      "  :\t:\n",
      "  (5568, 11610)\t1\n",
      "  (5569, 3349)\t1\n",
      "  (5569, 3852)\t1\n",
      "  (5569, 8444)\t1\n",
      "  (5569, 10391)\t1\n",
      "  (5570, 2362)\t1\n",
      "  (5570, 4109)\t1\n",
      "  (5570, 4700)\t1\n",
      "  (5570, 5247)\t1\n",
      "  (5570, 5443)\t1\n",
      "  (5570, 6474)\t1\n",
      "  (5570, 6891)\t1\n",
      "  (5570, 6991)\t1\n",
      "  (5570, 7176)\t1\n",
      "  (5570, 7479)\t1\n",
      "  (5570, 7586)\t1\n",
      "  (5570, 7992)\t1\n",
      "  (5570, 8612)\t1\n",
      "  (5570, 10107)\t1\n",
      "  (5570, 10979)\t1\n",
      "  (5570, 11198)\t1\n",
      "  (5571, 2472)\t1\n",
      "  (5571, 3553)\t1\n",
      "  (5571, 8540)\t1\n",
      "  (5571, 10840)\t1\n",
      "[1 1 1 ... 1 1 1]\n"
     ]
    }
   ],
   "source": [
    "print(bagofwords_message)\n",
    "print(bagofwords_message.data)"
   ]
  },
  {
   "cell_type": "code",
   "execution_count": 74,
   "metadata": {},
   "outputs": [
    {
     "data": {
      "text/plain": [
       "56024"
      ]
     },
     "execution_count": 74,
     "metadata": {},
     "output_type": "execute_result"
    }
   ],
   "source": [
    "# non zero elements\n",
    "non_zero=bagofwords_message.nnz\n",
    "non_zero"
   ]
  },
  {
   "cell_type": "code",
   "execution_count": 76,
   "metadata": {},
   "outputs": [],
   "source": [
    "total=56024*11617"
   ]
  },
  {
   "cell_type": "code",
   "execution_count": 77,
   "metadata": {},
   "outputs": [
    {
     "data": {
      "text/plain": [
       "8.608074373762589e-05"
      ]
     },
     "execution_count": 77,
     "metadata": {},
     "output_type": "execute_result"
    }
   ],
   "source": [
    "# sparsity of the matrix\n",
    "non_zero/total\n"
   ]
  },
  {
   "cell_type": "code",
   "execution_count": 24,
   "metadata": {},
   "outputs": [],
   "source": [
    "#apply tfidf transformer and fit the bag of words into it (transformed version)\n",
    "from sklearn.feature_extraction.text import TfidfTransformer\n",
    "tfidf=TfidfTransformer().fit(bagofwords_message)"
   ]
  },
  {
   "cell_type": "code",
   "execution_count": 25,
   "metadata": {},
   "outputs": [
    {
     "data": {
      "text/plain": [
       "(5572, 11617)"
      ]
     },
     "execution_count": 25,
     "metadata": {},
     "output_type": "execute_result"
    }
   ],
   "source": [
    "#print shape of the tfidf \n",
    "tfidf_message=tfidf.transform(bagofwords_message)\n",
    "tfidf_message.shape"
   ]
  },
  {
   "cell_type": "code",
   "execution_count": 26,
   "metadata": {},
   "outputs": [],
   "source": [
    "#choose naive Bayes model to detect the spam and fit the tfidf data into it\n",
    "from sklearn.naive_bayes import MultinomialNB\n",
    "spam_detect_model=MultinomialNB().fit(tfidf_message,df_Spam['response'])"
   ]
  },
  {
   "cell_type": "code",
   "execution_count": 27,
   "metadata": {},
   "outputs": [
    {
     "name": "stdout",
     "output_type": "stream",
     "text": [
      "predicted spam\n",
      "expected spam\n"
     ]
    }
   ],
   "source": [
    "#check model for the predicted and expected value say for message#2 and message#5\n",
    "message2 = df_Spam['message'][2]\n",
    "#transform message to bag of words\n",
    "message2_bagofwords=bag_of_words.transform([message2])\n",
    "#transform message to tfidf\n",
    "message2_tfidf=tfidf.transform(message2_bagofwords)\n",
    "\n",
    "print('predicted',spam_detect_model.predict(message2_tfidf)[0])\n",
    "print('expected', df_Spam.response[2])\n"
   ]
  },
  {
   "cell_type": "code",
   "execution_count": 30,
   "metadata": {},
   "outputs": [
    {
     "data": {
      "text/plain": [
       "array(['ham', 'ham', 'spam', ..., 'ham', 'ham', 'ham'], dtype='<U4')"
      ]
     },
     "execution_count": 30,
     "metadata": {},
     "output_type": "execute_result"
    }
   ],
   "source": [
    "# after training the model , we will predict\n",
    "\n",
    "preds=spam_detect_model.predict(tfidf_message)\n",
    "preds"
   ]
  },
  {
   "cell_type": "code",
   "execution_count": 33,
   "metadata": {},
   "outputs": [
    {
     "name": "stdout",
     "output_type": "stream",
     "text": [
      "              precision    recall  f1-score   support\n",
      "\n",
      "         ham       0.98      1.00      0.99      4825\n",
      "        spam       1.00      0.84      0.92       747\n",
      "\n",
      "    accuracy                           0.98      5572\n",
      "   macro avg       0.99      0.92      0.95      5572\n",
      "weighted avg       0.98      0.98      0.98      5572\n",
      "\n"
     ]
    }
   ],
   "source": [
    "from sklearn.metrics import classification_report\n",
    "# classification_report(actual,predicted)\n",
    "\n",
    "print(classification_report(df_Spam['response'],preds))"
   ]
  },
  {
   "cell_type": "code",
   "execution_count": 34,
   "metadata": {},
   "outputs": [
    {
     "data": {
      "text/plain": [
       "array([[0.98831018, 0.01168982],\n",
       "       [0.992755  , 0.007245  ],\n",
       "       [0.03017092, 0.96982908],\n",
       "       ...,\n",
       "       [0.88134454, 0.11865546],\n",
       "       [0.99598452, 0.00401548],\n",
       "       [0.97099967, 0.02900033]])"
      ]
     },
     "execution_count": 34,
     "metadata": {},
     "output_type": "execute_result"
    }
   ],
   "source": [
    "spam_detect_model.predict_proba(tfidf_message)"
   ]
  },
  {
   "cell_type": "code",
   "execution_count": 35,
   "metadata": {},
   "outputs": [],
   "source": [
    "#data can be divided nto train and test\n",
    "from sklearn.model_selection import train_test_split"
   ]
  },
  {
   "cell_type": "code",
   "execution_count": 37,
   "metadata": {},
   "outputs": [],
   "source": [
    "X_train,X_test,y_train,y_test=train_test_split(df_Spam['message'],df_Spam['response'],test_size=0.25)"
   ]
  },
  {
   "cell_type": "code",
   "execution_count": 38,
   "metadata": {},
   "outputs": [
    {
     "data": {
      "text/plain": [
       "(4179,)"
      ]
     },
     "execution_count": 38,
     "metadata": {},
     "output_type": "execute_result"
    }
   ],
   "source": [
    "X_train.shape"
   ]
  },
  {
   "cell_type": "code",
   "execution_count": 39,
   "metadata": {},
   "outputs": [
    {
     "data": {
      "text/plain": [
       "(1393,)"
      ]
     },
     "execution_count": 39,
     "metadata": {},
     "output_type": "execute_result"
    }
   ],
   "source": [
    "X_test.shape"
   ]
  },
  {
   "cell_type": "code",
   "execution_count": 40,
   "metadata": {},
   "outputs": [
    {
     "data": {
      "text/plain": [
       "4937                             K..k.:)congratulation ..\n",
       "5029    Go chase after her and run her over while she'...\n",
       "1366    HOT LIVE FANTASIES call now 08707509020 Just 2...\n",
       "3938    Yeah, in fact he just asked if we needed anyth...\n",
       "17      Eh u remember how 2 spell his name... Yes i di...\n",
       "Name: message, dtype: object"
      ]
     },
     "execution_count": 40,
     "metadata": {},
     "output_type": "execute_result"
    }
   ],
   "source": [
    "X_train[:5]"
   ]
  },
  {
   "cell_type": "code",
   "execution_count": 41,
   "metadata": {},
   "outputs": [],
   "source": [
    "# instead of re -running the entire thing, we will create a workflow pipeline\n",
    "from sklearn.pipeline import Pipeline"
   ]
  },
  {
   "cell_type": "code",
   "execution_count": 46,
   "metadata": {},
   "outputs": [],
   "source": [
    "pipeline=Pipeline([('bag_of_words',CountVectorizer(analyzer=clean)),\n",
    "                   ('tfidf',TfidfTransformer()),\n",
    "                   ('classification',MultinomialNB())])"
   ]
  },
  {
   "cell_type": "code",
   "execution_count": 44,
   "metadata": {},
   "outputs": [
    {
     "data": {
      "text/plain": [
       "Pipeline(memory=None,\n",
       "         steps=[('bag_of_words',\n",
       "                 CountVectorizer(analyzer=None, binary=False,\n",
       "                                 decode_error='strict',\n",
       "                                 dtype=<class 'numpy.int64'>, encoding='utf-8',\n",
       "                                 input='content', lowercase=True, max_df=1.0,\n",
       "                                 max_features=None, min_df=1,\n",
       "                                 ngram_range=(1, 1), preprocessor=None,\n",
       "                                 stop_words=None, strip_accents=None,\n",
       "                                 token_pattern='(?u)\\\\b\\\\w\\\\w+\\\\b',\n",
       "                                 tokenizer=None, vocabulary=None)),\n",
       "                ('tfidf',\n",
       "                 TfidfTransformer(norm='l2', smooth_idf=True,\n",
       "                                  sublinear_tf=False, use_idf=True)),\n",
       "                ('classification',\n",
       "                 MultinomialNB(alpha=1.0, class_prior=None, fit_prior=True))],\n",
       "         verbose=False)"
      ]
     },
     "execution_count": 44,
     "metadata": {},
     "output_type": "execute_result"
    }
   ],
   "source": [
    "pipeline"
   ]
  },
  {
   "cell_type": "code",
   "execution_count": 47,
   "metadata": {},
   "outputs": [
    {
     "data": {
      "text/plain": [
       "Pipeline(memory=None,\n",
       "         steps=[('bag_of_words',\n",
       "                 CountVectorizer(analyzer=<function clean at 0x7fe802b72200>,\n",
       "                                 binary=False, decode_error='strict',\n",
       "                                 dtype=<class 'numpy.int64'>, encoding='utf-8',\n",
       "                                 input='content', lowercase=True, max_df=1.0,\n",
       "                                 max_features=None, min_df=1,\n",
       "                                 ngram_range=(1, 1), preprocessor=None,\n",
       "                                 stop_words=None, strip_accents=None,\n",
       "                                 token_pattern='(?u)\\\\b\\\\w\\\\w+\\\\b',\n",
       "                                 tokenizer=None, vocabulary=None)),\n",
       "                ('tfidf',\n",
       "                 TfidfTransformer(norm='l2', smooth_idf=True,\n",
       "                                  sublinear_tf=False, use_idf=True)),\n",
       "                ('classification',\n",
       "                 MultinomialNB(alpha=1.0, class_prior=None, fit_prior=True))],\n",
       "         verbose=False)"
      ]
     },
     "execution_count": 47,
     "metadata": {},
     "output_type": "execute_result"
    }
   ],
   "source": [
    "pipeline.fit(X_train,y_train)"
   ]
  },
  {
   "cell_type": "code",
   "execution_count": 48,
   "metadata": {},
   "outputs": [],
   "source": [
    "# predict on test data\n",
    "\n",
    "preds=pipeline.predict(X_test)"
   ]
  },
  {
   "cell_type": "code",
   "execution_count": 49,
   "metadata": {},
   "outputs": [
    {
     "data": {
      "text/plain": [
       "array(['ham', 'ham', 'spam', ..., 'ham', 'spam', 'ham'], dtype='<U4')"
      ]
     },
     "execution_count": 49,
     "metadata": {},
     "output_type": "execute_result"
    }
   ],
   "source": [
    "preds"
   ]
  },
  {
   "cell_type": "code",
   "execution_count": 50,
   "metadata": {},
   "outputs": [
    {
     "name": "stdout",
     "output_type": "stream",
     "text": [
      "              precision    recall  f1-score   support\n",
      "\n",
      "         ham       0.96      1.00      0.98      1219\n",
      "        spam       1.00      0.73      0.84       174\n",
      "\n",
      "    accuracy                           0.97      1393\n",
      "   macro avg       0.98      0.86      0.91      1393\n",
      "weighted avg       0.97      0.97      0.96      1393\n",
      "\n"
     ]
    }
   ],
   "source": [
    "# accuracy of the naive bayes model on the test data\n",
    "print(classification_report(y_test,preds))"
   ]
  },
  {
   "cell_type": "code",
   "execution_count": 51,
   "metadata": {},
   "outputs": [],
   "source": [
    "# random forest classification on the dataset. Decision tree can also be used\n",
    "\n",
    "from sklearn.ensemble import RandomForestClassifier"
   ]
  },
  {
   "cell_type": "code",
   "execution_count": 52,
   "metadata": {},
   "outputs": [],
   "source": [
    "ipeline=Pipeline([('bag_of_words',CountVectorizer(analyzer=clean)),\n",
    "                   ('tfidf',TfidfTransformer()),\n",
    "                   ('classification',RandomForestClassifier())])"
   ]
  },
  {
   "cell_type": "code",
   "execution_count": 53,
   "metadata": {},
   "outputs": [
    {
     "data": {
      "text/plain": [
       "Pipeline(memory=None,\n",
       "         steps=[('bag_of_words',\n",
       "                 CountVectorizer(analyzer=<function clean at 0x7fe802b72200>,\n",
       "                                 binary=False, decode_error='strict',\n",
       "                                 dtype=<class 'numpy.int64'>, encoding='utf-8',\n",
       "                                 input='content', lowercase=True, max_df=1.0,\n",
       "                                 max_features=None, min_df=1,\n",
       "                                 ngram_range=(1, 1), preprocessor=None,\n",
       "                                 stop_words=None, strip_accents=None,\n",
       "                                 token_pattern='(?u)\\\\b\\\\w\\\\w+\\\\b',\n",
       "                                 tokenizer=None, vocabulary=None)),\n",
       "                ('tfidf',\n",
       "                 TfidfTransformer(norm='l2', smooth_idf=True,\n",
       "                                  sublinear_tf=False, use_idf=True)),\n",
       "                ('classification',\n",
       "                 MultinomialNB(alpha=1.0, class_prior=None, fit_prior=True))],\n",
       "         verbose=False)"
      ]
     },
     "execution_count": 53,
     "metadata": {},
     "output_type": "execute_result"
    }
   ],
   "source": [
    "pipeline.fit(X_train,y_train)"
   ]
  },
  {
   "cell_type": "code",
   "execution_count": 54,
   "metadata": {},
   "outputs": [],
   "source": [
    "# predict on test data\n",
    "\n",
    "preds=pipeline.predict(X_test)"
   ]
  },
  {
   "cell_type": "code",
   "execution_count": 55,
   "metadata": {},
   "outputs": [
    {
     "data": {
      "text/plain": [
       "array(['ham', 'ham', 'spam', ..., 'ham', 'spam', 'ham'], dtype='<U4')"
      ]
     },
     "execution_count": 55,
     "metadata": {},
     "output_type": "execute_result"
    }
   ],
   "source": [
    "preds"
   ]
  },
  {
   "cell_type": "code",
   "execution_count": 56,
   "metadata": {},
   "outputs": [
    {
     "name": "stdout",
     "output_type": "stream",
     "text": [
      "              precision    recall  f1-score   support\n",
      "\n",
      "         ham       0.96      1.00      0.98      1219\n",
      "        spam       1.00      0.73      0.84       174\n",
      "\n",
      "    accuracy                           0.97      1393\n",
      "   macro avg       0.98      0.86      0.91      1393\n",
      "weighted avg       0.97      0.97      0.96      1393\n",
      "\n"
     ]
    }
   ],
   "source": [
    "# accuracy of the random forest on the test data\n",
    "print(classification_report(y_test,preds))"
   ]
  },
  {
   "cell_type": "code",
   "execution_count": 57,
   "metadata": {},
   "outputs": [],
   "source": [
    "# stemming - strip the suffixes from the sentence\n",
    "\n",
    "# lemmatization - finding root word"
   ]
  },
  {
   "cell_type": "code",
   "execution_count": 58,
   "metadata": {},
   "outputs": [],
   "source": [
    "from nltk.stem.porter import PorterStemmer"
   ]
  },
  {
   "cell_type": "code",
   "execution_count": 59,
   "metadata": {},
   "outputs": [],
   "source": [
    "stem=PorterStemmer()"
   ]
  },
  {
   "cell_type": "code",
   "execution_count": 61,
   "metadata": {},
   "outputs": [
    {
     "data": {
      "text/plain": [
       "'multipli'"
      ]
     },
     "execution_count": 61,
     "metadata": {},
     "output_type": "execute_result"
    }
   ],
   "source": [
    "word='multiplying'\n",
    "stem.stem(word)"
   ]
  },
  {
   "cell_type": "code",
   "execution_count": 62,
   "metadata": {},
   "outputs": [
    {
     "data": {
      "text/plain": [
       "'drive'"
      ]
     },
     "execution_count": 62,
     "metadata": {},
     "output_type": "execute_result"
    }
   ],
   "source": [
    "stem.stem('driving')"
   ]
  },
  {
   "cell_type": "code",
   "execution_count": 63,
   "metadata": {},
   "outputs": [],
   "source": [
    "# lemmatization - obtain the root form of the word.\n",
    "# getting to the root is not just removing the suffix\n",
    "\n",
    "\n",
    "from nltk.stem import WordNetLemmatizer"
   ]
  },
  {
   "cell_type": "code",
   "execution_count": 64,
   "metadata": {
    "collapsed": true
   },
   "outputs": [
    {
     "ename": "LookupError",
     "evalue": "\n**********************************************************************\n  Resource \u001b[93mwordnet\u001b[0m not found.\n  Please use the NLTK Downloader to obtain the resource:\n\n  \u001b[31m>>> import nltk\n  >>> nltk.download('wordnet')\n  \u001b[0m\n  For more information see: https://www.nltk.org/data.html\n\n  Attempted to load \u001b[93mcorpora/wordnet\u001b[0m\n\n  Searched in:\n    - '/home/martha/nltk_data'\n    - '/home/martha/anaconda3/nltk_data'\n    - '/home/martha/anaconda3/share/nltk_data'\n    - '/home/martha/anaconda3/lib/nltk_data'\n    - '/usr/share/nltk_data'\n    - '/usr/local/share/nltk_data'\n    - '/usr/lib/nltk_data'\n    - '/usr/local/lib/nltk_data'\n**********************************************************************\n",
     "output_type": "error",
     "traceback": [
      "\u001b[0;31m---------------------------------------------------------------------------\u001b[0m",
      "\u001b[0;31mLookupError\u001b[0m                               Traceback (most recent call last)",
      "\u001b[0;32m~/anaconda3/lib/python3.7/site-packages/nltk/corpus/util.py\u001b[0m in \u001b[0;36m__load\u001b[0;34m(self)\u001b[0m\n\u001b[1;32m     85\u001b[0m                 \u001b[0;32mtry\u001b[0m\u001b[0;34m:\u001b[0m\u001b[0;34m\u001b[0m\u001b[0;34m\u001b[0m\u001b[0m\n\u001b[0;32m---> 86\u001b[0;31m                     \u001b[0mroot\u001b[0m \u001b[0;34m=\u001b[0m \u001b[0mnltk\u001b[0m\u001b[0;34m.\u001b[0m\u001b[0mdata\u001b[0m\u001b[0;34m.\u001b[0m\u001b[0mfind\u001b[0m\u001b[0;34m(\u001b[0m\u001b[0;34m'{}/{}'\u001b[0m\u001b[0;34m.\u001b[0m\u001b[0mformat\u001b[0m\u001b[0;34m(\u001b[0m\u001b[0mself\u001b[0m\u001b[0;34m.\u001b[0m\u001b[0msubdir\u001b[0m\u001b[0;34m,\u001b[0m \u001b[0mzip_name\u001b[0m\u001b[0;34m)\u001b[0m\u001b[0;34m)\u001b[0m\u001b[0;34m\u001b[0m\u001b[0;34m\u001b[0m\u001b[0m\n\u001b[0m\u001b[1;32m     87\u001b[0m                 \u001b[0;32mexcept\u001b[0m \u001b[0mLookupError\u001b[0m\u001b[0;34m:\u001b[0m\u001b[0;34m\u001b[0m\u001b[0;34m\u001b[0m\u001b[0m\n",
      "\u001b[0;32m~/anaconda3/lib/python3.7/site-packages/nltk/data.py\u001b[0m in \u001b[0;36mfind\u001b[0;34m(resource_name, paths)\u001b[0m\n\u001b[1;32m    700\u001b[0m     \u001b[0mresource_not_found\u001b[0m \u001b[0;34m=\u001b[0m \u001b[0;34m'\\n%s\\n%s\\n%s\\n'\u001b[0m \u001b[0;34m%\u001b[0m \u001b[0;34m(\u001b[0m\u001b[0msep\u001b[0m\u001b[0;34m,\u001b[0m \u001b[0mmsg\u001b[0m\u001b[0;34m,\u001b[0m \u001b[0msep\u001b[0m\u001b[0;34m)\u001b[0m\u001b[0;34m\u001b[0m\u001b[0;34m\u001b[0m\u001b[0m\n\u001b[0;32m--> 701\u001b[0;31m     \u001b[0;32mraise\u001b[0m \u001b[0mLookupError\u001b[0m\u001b[0;34m(\u001b[0m\u001b[0mresource_not_found\u001b[0m\u001b[0;34m)\u001b[0m\u001b[0;34m\u001b[0m\u001b[0;34m\u001b[0m\u001b[0m\n\u001b[0m\u001b[1;32m    702\u001b[0m \u001b[0;34m\u001b[0m\u001b[0m\n",
      "\u001b[0;31mLookupError\u001b[0m: \n**********************************************************************\n  Resource \u001b[93mwordnet\u001b[0m not found.\n  Please use the NLTK Downloader to obtain the resource:\n\n  \u001b[31m>>> import nltk\n  >>> nltk.download('wordnet')\n  \u001b[0m\n  For more information see: https://www.nltk.org/data.html\n\n  Attempted to load \u001b[93mcorpora/wordnet.zip/wordnet/\u001b[0m\n\n  Searched in:\n    - '/home/martha/nltk_data'\n    - '/home/martha/anaconda3/nltk_data'\n    - '/home/martha/anaconda3/share/nltk_data'\n    - '/home/martha/anaconda3/lib/nltk_data'\n    - '/usr/share/nltk_data'\n    - '/usr/local/share/nltk_data'\n    - '/usr/lib/nltk_data'\n    - '/usr/local/lib/nltk_data'\n**********************************************************************\n",
      "\nDuring handling of the above exception, another exception occurred:\n",
      "\u001b[0;31mLookupError\u001b[0m                               Traceback (most recent call last)",
      "\u001b[0;32m<ipython-input-64-52b3a198ac5d>\u001b[0m in \u001b[0;36m<module>\u001b[0;34m\u001b[0m\n\u001b[1;32m      1\u001b[0m \u001b[0mlemmatizer\u001b[0m\u001b[0;34m=\u001b[0m\u001b[0mWordNetLemmatizer\u001b[0m\u001b[0;34m(\u001b[0m\u001b[0;34m)\u001b[0m\u001b[0;34m\u001b[0m\u001b[0;34m\u001b[0m\u001b[0m\n\u001b[1;32m      2\u001b[0m \u001b[0;31m# the part of speech\u001b[0m\u001b[0;34m\u001b[0m\u001b[0;34m\u001b[0m\u001b[0;34m\u001b[0m\u001b[0m\n\u001b[0;32m----> 3\u001b[0;31m \u001b[0mlemmatizer\u001b[0m\u001b[0;34m.\u001b[0m\u001b[0mlemmatize\u001b[0m\u001b[0;34m(\u001b[0m\u001b[0;34m'better'\u001b[0m\u001b[0;34m,\u001b[0m\u001b[0mpos\u001b[0m\u001b[0;34m=\u001b[0m\u001b[0;34m'a'\u001b[0m\u001b[0;34m)\u001b[0m\u001b[0;34m\u001b[0m\u001b[0;34m\u001b[0m\u001b[0m\n\u001b[0m",
      "\u001b[0;32m~/anaconda3/lib/python3.7/site-packages/nltk/stem/wordnet.py\u001b[0m in \u001b[0;36mlemmatize\u001b[0;34m(self, word, pos)\u001b[0m\n\u001b[1;32m     39\u001b[0m \u001b[0;34m\u001b[0m\u001b[0m\n\u001b[1;32m     40\u001b[0m     \u001b[0;32mdef\u001b[0m \u001b[0mlemmatize\u001b[0m\u001b[0;34m(\u001b[0m\u001b[0mself\u001b[0m\u001b[0;34m,\u001b[0m \u001b[0mword\u001b[0m\u001b[0;34m,\u001b[0m \u001b[0mpos\u001b[0m\u001b[0;34m=\u001b[0m\u001b[0mNOUN\u001b[0m\u001b[0;34m)\u001b[0m\u001b[0;34m:\u001b[0m\u001b[0;34m\u001b[0m\u001b[0;34m\u001b[0m\u001b[0m\n\u001b[0;32m---> 41\u001b[0;31m         \u001b[0mlemmas\u001b[0m \u001b[0;34m=\u001b[0m \u001b[0mwordnet\u001b[0m\u001b[0;34m.\u001b[0m\u001b[0m_morphy\u001b[0m\u001b[0;34m(\u001b[0m\u001b[0mword\u001b[0m\u001b[0;34m,\u001b[0m \u001b[0mpos\u001b[0m\u001b[0;34m)\u001b[0m\u001b[0;34m\u001b[0m\u001b[0;34m\u001b[0m\u001b[0m\n\u001b[0m\u001b[1;32m     42\u001b[0m         \u001b[0;32mreturn\u001b[0m \u001b[0mmin\u001b[0m\u001b[0;34m(\u001b[0m\u001b[0mlemmas\u001b[0m\u001b[0;34m,\u001b[0m \u001b[0mkey\u001b[0m\u001b[0;34m=\u001b[0m\u001b[0mlen\u001b[0m\u001b[0;34m)\u001b[0m \u001b[0;32mif\u001b[0m \u001b[0mlemmas\u001b[0m \u001b[0;32melse\u001b[0m \u001b[0mword\u001b[0m\u001b[0;34m\u001b[0m\u001b[0;34m\u001b[0m\u001b[0m\n\u001b[1;32m     43\u001b[0m \u001b[0;34m\u001b[0m\u001b[0m\n",
      "\u001b[0;32m~/anaconda3/lib/python3.7/site-packages/nltk/corpus/util.py\u001b[0m in \u001b[0;36m__getattr__\u001b[0;34m(self, attr)\u001b[0m\n\u001b[1;32m    121\u001b[0m             \u001b[0;32mraise\u001b[0m \u001b[0mAttributeError\u001b[0m\u001b[0;34m(\u001b[0m\u001b[0;34m\"LazyCorpusLoader object has no attribute '__bases__'\"\u001b[0m\u001b[0;34m)\u001b[0m\u001b[0;34m\u001b[0m\u001b[0;34m\u001b[0m\u001b[0m\n\u001b[1;32m    122\u001b[0m \u001b[0;34m\u001b[0m\u001b[0m\n\u001b[0;32m--> 123\u001b[0;31m         \u001b[0mself\u001b[0m\u001b[0;34m.\u001b[0m\u001b[0m__load\u001b[0m\u001b[0;34m(\u001b[0m\u001b[0;34m)\u001b[0m\u001b[0;34m\u001b[0m\u001b[0;34m\u001b[0m\u001b[0m\n\u001b[0m\u001b[1;32m    124\u001b[0m         \u001b[0;31m# This looks circular, but its not, since __load() changes our\u001b[0m\u001b[0;34m\u001b[0m\u001b[0;34m\u001b[0m\u001b[0;34m\u001b[0m\u001b[0m\n\u001b[1;32m    125\u001b[0m         \u001b[0;31m# __class__ to something new:\u001b[0m\u001b[0;34m\u001b[0m\u001b[0;34m\u001b[0m\u001b[0;34m\u001b[0m\u001b[0m\n",
      "\u001b[0;32m~/anaconda3/lib/python3.7/site-packages/nltk/corpus/util.py\u001b[0m in \u001b[0;36m__load\u001b[0;34m(self)\u001b[0m\n\u001b[1;32m     86\u001b[0m                     \u001b[0mroot\u001b[0m \u001b[0;34m=\u001b[0m \u001b[0mnltk\u001b[0m\u001b[0;34m.\u001b[0m\u001b[0mdata\u001b[0m\u001b[0;34m.\u001b[0m\u001b[0mfind\u001b[0m\u001b[0;34m(\u001b[0m\u001b[0;34m'{}/{}'\u001b[0m\u001b[0;34m.\u001b[0m\u001b[0mformat\u001b[0m\u001b[0;34m(\u001b[0m\u001b[0mself\u001b[0m\u001b[0;34m.\u001b[0m\u001b[0msubdir\u001b[0m\u001b[0;34m,\u001b[0m \u001b[0mzip_name\u001b[0m\u001b[0;34m)\u001b[0m\u001b[0;34m)\u001b[0m\u001b[0;34m\u001b[0m\u001b[0;34m\u001b[0m\u001b[0m\n\u001b[1;32m     87\u001b[0m                 \u001b[0;32mexcept\u001b[0m \u001b[0mLookupError\u001b[0m\u001b[0;34m:\u001b[0m\u001b[0;34m\u001b[0m\u001b[0;34m\u001b[0m\u001b[0m\n\u001b[0;32m---> 88\u001b[0;31m                     \u001b[0;32mraise\u001b[0m \u001b[0me\u001b[0m\u001b[0;34m\u001b[0m\u001b[0;34m\u001b[0m\u001b[0m\n\u001b[0m\u001b[1;32m     89\u001b[0m \u001b[0;34m\u001b[0m\u001b[0m\n\u001b[1;32m     90\u001b[0m         \u001b[0;31m# Load the corpus.\u001b[0m\u001b[0;34m\u001b[0m\u001b[0;34m\u001b[0m\u001b[0;34m\u001b[0m\u001b[0m\n",
      "\u001b[0;32m~/anaconda3/lib/python3.7/site-packages/nltk/corpus/util.py\u001b[0m in \u001b[0;36m__load\u001b[0;34m(self)\u001b[0m\n\u001b[1;32m     81\u001b[0m         \u001b[0;32melse\u001b[0m\u001b[0;34m:\u001b[0m\u001b[0;34m\u001b[0m\u001b[0;34m\u001b[0m\u001b[0m\n\u001b[1;32m     82\u001b[0m             \u001b[0;32mtry\u001b[0m\u001b[0;34m:\u001b[0m\u001b[0;34m\u001b[0m\u001b[0;34m\u001b[0m\u001b[0m\n\u001b[0;32m---> 83\u001b[0;31m                 \u001b[0mroot\u001b[0m \u001b[0;34m=\u001b[0m \u001b[0mnltk\u001b[0m\u001b[0;34m.\u001b[0m\u001b[0mdata\u001b[0m\u001b[0;34m.\u001b[0m\u001b[0mfind\u001b[0m\u001b[0;34m(\u001b[0m\u001b[0;34m'{}/{}'\u001b[0m\u001b[0;34m.\u001b[0m\u001b[0mformat\u001b[0m\u001b[0;34m(\u001b[0m\u001b[0mself\u001b[0m\u001b[0;34m.\u001b[0m\u001b[0msubdir\u001b[0m\u001b[0;34m,\u001b[0m \u001b[0mself\u001b[0m\u001b[0;34m.\u001b[0m\u001b[0m__name\u001b[0m\u001b[0;34m)\u001b[0m\u001b[0;34m)\u001b[0m\u001b[0;34m\u001b[0m\u001b[0;34m\u001b[0m\u001b[0m\n\u001b[0m\u001b[1;32m     84\u001b[0m             \u001b[0;32mexcept\u001b[0m \u001b[0mLookupError\u001b[0m \u001b[0;32mas\u001b[0m \u001b[0me\u001b[0m\u001b[0;34m:\u001b[0m\u001b[0;34m\u001b[0m\u001b[0;34m\u001b[0m\u001b[0m\n\u001b[1;32m     85\u001b[0m                 \u001b[0;32mtry\u001b[0m\u001b[0;34m:\u001b[0m\u001b[0;34m\u001b[0m\u001b[0;34m\u001b[0m\u001b[0m\n",
      "\u001b[0;32m~/anaconda3/lib/python3.7/site-packages/nltk/data.py\u001b[0m in \u001b[0;36mfind\u001b[0;34m(resource_name, paths)\u001b[0m\n\u001b[1;32m    699\u001b[0m     \u001b[0msep\u001b[0m \u001b[0;34m=\u001b[0m \u001b[0;34m'*'\u001b[0m \u001b[0;34m*\u001b[0m \u001b[0;36m70\u001b[0m\u001b[0;34m\u001b[0m\u001b[0;34m\u001b[0m\u001b[0m\n\u001b[1;32m    700\u001b[0m     \u001b[0mresource_not_found\u001b[0m \u001b[0;34m=\u001b[0m \u001b[0;34m'\\n%s\\n%s\\n%s\\n'\u001b[0m \u001b[0;34m%\u001b[0m \u001b[0;34m(\u001b[0m\u001b[0msep\u001b[0m\u001b[0;34m,\u001b[0m \u001b[0mmsg\u001b[0m\u001b[0;34m,\u001b[0m \u001b[0msep\u001b[0m\u001b[0;34m)\u001b[0m\u001b[0;34m\u001b[0m\u001b[0;34m\u001b[0m\u001b[0m\n\u001b[0;32m--> 701\u001b[0;31m     \u001b[0;32mraise\u001b[0m \u001b[0mLookupError\u001b[0m\u001b[0;34m(\u001b[0m\u001b[0mresource_not_found\u001b[0m\u001b[0;34m)\u001b[0m\u001b[0;34m\u001b[0m\u001b[0;34m\u001b[0m\u001b[0m\n\u001b[0m\u001b[1;32m    702\u001b[0m \u001b[0;34m\u001b[0m\u001b[0m\n\u001b[1;32m    703\u001b[0m \u001b[0;34m\u001b[0m\u001b[0m\n",
      "\u001b[0;31mLookupError\u001b[0m: \n**********************************************************************\n  Resource \u001b[93mwordnet\u001b[0m not found.\n  Please use the NLTK Downloader to obtain the resource:\n\n  \u001b[31m>>> import nltk\n  >>> nltk.download('wordnet')\n  \u001b[0m\n  For more information see: https://www.nltk.org/data.html\n\n  Attempted to load \u001b[93mcorpora/wordnet\u001b[0m\n\n  Searched in:\n    - '/home/martha/nltk_data'\n    - '/home/martha/anaconda3/nltk_data'\n    - '/home/martha/anaconda3/share/nltk_data'\n    - '/home/martha/anaconda3/lib/nltk_data'\n    - '/usr/share/nltk_data'\n    - '/usr/local/share/nltk_data'\n    - '/usr/lib/nltk_data'\n    - '/usr/local/lib/nltk_data'\n**********************************************************************\n"
     ]
    }
   ],
   "source": [
    "lemmatizer=WordNetLemmatizer()\n",
    "# the part of speech \n",
    "lemmatizer.lemmatize('better',pos='a')"
   ]
  },
  {
   "cell_type": "code",
   "execution_count": 65,
   "metadata": {
    "collapsed": true
   },
   "outputs": [
    {
     "ename": "LookupError",
     "evalue": "\n**********************************************************************\n  Resource \u001b[93mwordnet\u001b[0m not found.\n  Please use the NLTK Downloader to obtain the resource:\n\n  \u001b[31m>>> import nltk\n  >>> nltk.download('wordnet')\n  \u001b[0m\n  For more information see: https://www.nltk.org/data.html\n\n  Attempted to load \u001b[93mcorpora/wordnet\u001b[0m\n\n  Searched in:\n    - '/home/martha/nltk_data'\n    - '/home/martha/anaconda3/nltk_data'\n    - '/home/martha/anaconda3/share/nltk_data'\n    - '/home/martha/anaconda3/lib/nltk_data'\n    - '/usr/share/nltk_data'\n    - '/usr/local/share/nltk_data'\n    - '/usr/lib/nltk_data'\n    - '/usr/local/lib/nltk_data'\n**********************************************************************\n",
     "output_type": "error",
     "traceback": [
      "\u001b[0;31m---------------------------------------------------------------------------\u001b[0m",
      "\u001b[0;31mLookupError\u001b[0m                               Traceback (most recent call last)",
      "\u001b[0;32m~/anaconda3/lib/python3.7/site-packages/nltk/corpus/util.py\u001b[0m in \u001b[0;36m__load\u001b[0;34m(self)\u001b[0m\n\u001b[1;32m     85\u001b[0m                 \u001b[0;32mtry\u001b[0m\u001b[0;34m:\u001b[0m\u001b[0;34m\u001b[0m\u001b[0;34m\u001b[0m\u001b[0m\n\u001b[0;32m---> 86\u001b[0;31m                     \u001b[0mroot\u001b[0m \u001b[0;34m=\u001b[0m \u001b[0mnltk\u001b[0m\u001b[0;34m.\u001b[0m\u001b[0mdata\u001b[0m\u001b[0;34m.\u001b[0m\u001b[0mfind\u001b[0m\u001b[0;34m(\u001b[0m\u001b[0;34m'{}/{}'\u001b[0m\u001b[0;34m.\u001b[0m\u001b[0mformat\u001b[0m\u001b[0;34m(\u001b[0m\u001b[0mself\u001b[0m\u001b[0;34m.\u001b[0m\u001b[0msubdir\u001b[0m\u001b[0;34m,\u001b[0m \u001b[0mzip_name\u001b[0m\u001b[0;34m)\u001b[0m\u001b[0;34m)\u001b[0m\u001b[0;34m\u001b[0m\u001b[0;34m\u001b[0m\u001b[0m\n\u001b[0m\u001b[1;32m     87\u001b[0m                 \u001b[0;32mexcept\u001b[0m \u001b[0mLookupError\u001b[0m\u001b[0;34m:\u001b[0m\u001b[0;34m\u001b[0m\u001b[0;34m\u001b[0m\u001b[0m\n",
      "\u001b[0;32m~/anaconda3/lib/python3.7/site-packages/nltk/data.py\u001b[0m in \u001b[0;36mfind\u001b[0;34m(resource_name, paths)\u001b[0m\n\u001b[1;32m    700\u001b[0m     \u001b[0mresource_not_found\u001b[0m \u001b[0;34m=\u001b[0m \u001b[0;34m'\\n%s\\n%s\\n%s\\n'\u001b[0m \u001b[0;34m%\u001b[0m \u001b[0;34m(\u001b[0m\u001b[0msep\u001b[0m\u001b[0;34m,\u001b[0m \u001b[0mmsg\u001b[0m\u001b[0;34m,\u001b[0m \u001b[0msep\u001b[0m\u001b[0;34m)\u001b[0m\u001b[0;34m\u001b[0m\u001b[0;34m\u001b[0m\u001b[0m\n\u001b[0;32m--> 701\u001b[0;31m     \u001b[0;32mraise\u001b[0m \u001b[0mLookupError\u001b[0m\u001b[0;34m(\u001b[0m\u001b[0mresource_not_found\u001b[0m\u001b[0;34m)\u001b[0m\u001b[0;34m\u001b[0m\u001b[0;34m\u001b[0m\u001b[0m\n\u001b[0m\u001b[1;32m    702\u001b[0m \u001b[0;34m\u001b[0m\u001b[0m\n",
      "\u001b[0;31mLookupError\u001b[0m: \n**********************************************************************\n  Resource \u001b[93mwordnet\u001b[0m not found.\n  Please use the NLTK Downloader to obtain the resource:\n\n  \u001b[31m>>> import nltk\n  >>> nltk.download('wordnet')\n  \u001b[0m\n  For more information see: https://www.nltk.org/data.html\n\n  Attempted to load \u001b[93mcorpora/wordnet.zip/wordnet/\u001b[0m\n\n  Searched in:\n    - '/home/martha/nltk_data'\n    - '/home/martha/anaconda3/nltk_data'\n    - '/home/martha/anaconda3/share/nltk_data'\n    - '/home/martha/anaconda3/lib/nltk_data'\n    - '/usr/share/nltk_data'\n    - '/usr/local/share/nltk_data'\n    - '/usr/lib/nltk_data'\n    - '/usr/local/lib/nltk_data'\n**********************************************************************\n",
      "\nDuring handling of the above exception, another exception occurred:\n",
      "\u001b[0;31mLookupError\u001b[0m                               Traceback (most recent call last)",
      "\u001b[0;32m<ipython-input-65-625b1685ebbf>\u001b[0m in \u001b[0;36m<module>\u001b[0;34m\u001b[0m\n\u001b[0;32m----> 1\u001b[0;31m \u001b[0mlemmatizer\u001b[0m\u001b[0;34m.\u001b[0m\u001b[0mlemmatize\u001b[0m\u001b[0;34m(\u001b[0m\u001b[0;34m'multiplying'\u001b[0m\u001b[0;34m,\u001b[0m\u001b[0mpos\u001b[0m\u001b[0;34m=\u001b[0m\u001b[0;34m'v'\u001b[0m\u001b[0;34m)\u001b[0m\u001b[0;34m\u001b[0m\u001b[0;34m\u001b[0m\u001b[0m\n\u001b[0m",
      "\u001b[0;32m~/anaconda3/lib/python3.7/site-packages/nltk/stem/wordnet.py\u001b[0m in \u001b[0;36mlemmatize\u001b[0;34m(self, word, pos)\u001b[0m\n\u001b[1;32m     39\u001b[0m \u001b[0;34m\u001b[0m\u001b[0m\n\u001b[1;32m     40\u001b[0m     \u001b[0;32mdef\u001b[0m \u001b[0mlemmatize\u001b[0m\u001b[0;34m(\u001b[0m\u001b[0mself\u001b[0m\u001b[0;34m,\u001b[0m \u001b[0mword\u001b[0m\u001b[0;34m,\u001b[0m \u001b[0mpos\u001b[0m\u001b[0;34m=\u001b[0m\u001b[0mNOUN\u001b[0m\u001b[0;34m)\u001b[0m\u001b[0;34m:\u001b[0m\u001b[0;34m\u001b[0m\u001b[0;34m\u001b[0m\u001b[0m\n\u001b[0;32m---> 41\u001b[0;31m         \u001b[0mlemmas\u001b[0m \u001b[0;34m=\u001b[0m \u001b[0mwordnet\u001b[0m\u001b[0;34m.\u001b[0m\u001b[0m_morphy\u001b[0m\u001b[0;34m(\u001b[0m\u001b[0mword\u001b[0m\u001b[0;34m,\u001b[0m \u001b[0mpos\u001b[0m\u001b[0;34m)\u001b[0m\u001b[0;34m\u001b[0m\u001b[0;34m\u001b[0m\u001b[0m\n\u001b[0m\u001b[1;32m     42\u001b[0m         \u001b[0;32mreturn\u001b[0m \u001b[0mmin\u001b[0m\u001b[0;34m(\u001b[0m\u001b[0mlemmas\u001b[0m\u001b[0;34m,\u001b[0m \u001b[0mkey\u001b[0m\u001b[0;34m=\u001b[0m\u001b[0mlen\u001b[0m\u001b[0;34m)\u001b[0m \u001b[0;32mif\u001b[0m \u001b[0mlemmas\u001b[0m \u001b[0;32melse\u001b[0m \u001b[0mword\u001b[0m\u001b[0;34m\u001b[0m\u001b[0;34m\u001b[0m\u001b[0m\n\u001b[1;32m     43\u001b[0m \u001b[0;34m\u001b[0m\u001b[0m\n",
      "\u001b[0;32m~/anaconda3/lib/python3.7/site-packages/nltk/corpus/util.py\u001b[0m in \u001b[0;36m__getattr__\u001b[0;34m(self, attr)\u001b[0m\n\u001b[1;32m    121\u001b[0m             \u001b[0;32mraise\u001b[0m \u001b[0mAttributeError\u001b[0m\u001b[0;34m(\u001b[0m\u001b[0;34m\"LazyCorpusLoader object has no attribute '__bases__'\"\u001b[0m\u001b[0;34m)\u001b[0m\u001b[0;34m\u001b[0m\u001b[0;34m\u001b[0m\u001b[0m\n\u001b[1;32m    122\u001b[0m \u001b[0;34m\u001b[0m\u001b[0m\n\u001b[0;32m--> 123\u001b[0;31m         \u001b[0mself\u001b[0m\u001b[0;34m.\u001b[0m\u001b[0m__load\u001b[0m\u001b[0;34m(\u001b[0m\u001b[0;34m)\u001b[0m\u001b[0;34m\u001b[0m\u001b[0;34m\u001b[0m\u001b[0m\n\u001b[0m\u001b[1;32m    124\u001b[0m         \u001b[0;31m# This looks circular, but its not, since __load() changes our\u001b[0m\u001b[0;34m\u001b[0m\u001b[0;34m\u001b[0m\u001b[0;34m\u001b[0m\u001b[0m\n\u001b[1;32m    125\u001b[0m         \u001b[0;31m# __class__ to something new:\u001b[0m\u001b[0;34m\u001b[0m\u001b[0;34m\u001b[0m\u001b[0;34m\u001b[0m\u001b[0m\n",
      "\u001b[0;32m~/anaconda3/lib/python3.7/site-packages/nltk/corpus/util.py\u001b[0m in \u001b[0;36m__load\u001b[0;34m(self)\u001b[0m\n\u001b[1;32m     86\u001b[0m                     \u001b[0mroot\u001b[0m \u001b[0;34m=\u001b[0m \u001b[0mnltk\u001b[0m\u001b[0;34m.\u001b[0m\u001b[0mdata\u001b[0m\u001b[0;34m.\u001b[0m\u001b[0mfind\u001b[0m\u001b[0;34m(\u001b[0m\u001b[0;34m'{}/{}'\u001b[0m\u001b[0;34m.\u001b[0m\u001b[0mformat\u001b[0m\u001b[0;34m(\u001b[0m\u001b[0mself\u001b[0m\u001b[0;34m.\u001b[0m\u001b[0msubdir\u001b[0m\u001b[0;34m,\u001b[0m \u001b[0mzip_name\u001b[0m\u001b[0;34m)\u001b[0m\u001b[0;34m)\u001b[0m\u001b[0;34m\u001b[0m\u001b[0;34m\u001b[0m\u001b[0m\n\u001b[1;32m     87\u001b[0m                 \u001b[0;32mexcept\u001b[0m \u001b[0mLookupError\u001b[0m\u001b[0;34m:\u001b[0m\u001b[0;34m\u001b[0m\u001b[0;34m\u001b[0m\u001b[0m\n\u001b[0;32m---> 88\u001b[0;31m                     \u001b[0;32mraise\u001b[0m \u001b[0me\u001b[0m\u001b[0;34m\u001b[0m\u001b[0;34m\u001b[0m\u001b[0m\n\u001b[0m\u001b[1;32m     89\u001b[0m \u001b[0;34m\u001b[0m\u001b[0m\n\u001b[1;32m     90\u001b[0m         \u001b[0;31m# Load the corpus.\u001b[0m\u001b[0;34m\u001b[0m\u001b[0;34m\u001b[0m\u001b[0;34m\u001b[0m\u001b[0m\n",
      "\u001b[0;32m~/anaconda3/lib/python3.7/site-packages/nltk/corpus/util.py\u001b[0m in \u001b[0;36m__load\u001b[0;34m(self)\u001b[0m\n\u001b[1;32m     81\u001b[0m         \u001b[0;32melse\u001b[0m\u001b[0;34m:\u001b[0m\u001b[0;34m\u001b[0m\u001b[0;34m\u001b[0m\u001b[0m\n\u001b[1;32m     82\u001b[0m             \u001b[0;32mtry\u001b[0m\u001b[0;34m:\u001b[0m\u001b[0;34m\u001b[0m\u001b[0;34m\u001b[0m\u001b[0m\n\u001b[0;32m---> 83\u001b[0;31m                 \u001b[0mroot\u001b[0m \u001b[0;34m=\u001b[0m \u001b[0mnltk\u001b[0m\u001b[0;34m.\u001b[0m\u001b[0mdata\u001b[0m\u001b[0;34m.\u001b[0m\u001b[0mfind\u001b[0m\u001b[0;34m(\u001b[0m\u001b[0;34m'{}/{}'\u001b[0m\u001b[0;34m.\u001b[0m\u001b[0mformat\u001b[0m\u001b[0;34m(\u001b[0m\u001b[0mself\u001b[0m\u001b[0;34m.\u001b[0m\u001b[0msubdir\u001b[0m\u001b[0;34m,\u001b[0m \u001b[0mself\u001b[0m\u001b[0;34m.\u001b[0m\u001b[0m__name\u001b[0m\u001b[0;34m)\u001b[0m\u001b[0;34m)\u001b[0m\u001b[0;34m\u001b[0m\u001b[0;34m\u001b[0m\u001b[0m\n\u001b[0m\u001b[1;32m     84\u001b[0m             \u001b[0;32mexcept\u001b[0m \u001b[0mLookupError\u001b[0m \u001b[0;32mas\u001b[0m \u001b[0me\u001b[0m\u001b[0;34m:\u001b[0m\u001b[0;34m\u001b[0m\u001b[0;34m\u001b[0m\u001b[0m\n\u001b[1;32m     85\u001b[0m                 \u001b[0;32mtry\u001b[0m\u001b[0;34m:\u001b[0m\u001b[0;34m\u001b[0m\u001b[0;34m\u001b[0m\u001b[0m\n",
      "\u001b[0;32m~/anaconda3/lib/python3.7/site-packages/nltk/data.py\u001b[0m in \u001b[0;36mfind\u001b[0;34m(resource_name, paths)\u001b[0m\n\u001b[1;32m    699\u001b[0m     \u001b[0msep\u001b[0m \u001b[0;34m=\u001b[0m \u001b[0;34m'*'\u001b[0m \u001b[0;34m*\u001b[0m \u001b[0;36m70\u001b[0m\u001b[0;34m\u001b[0m\u001b[0;34m\u001b[0m\u001b[0m\n\u001b[1;32m    700\u001b[0m     \u001b[0mresource_not_found\u001b[0m \u001b[0;34m=\u001b[0m \u001b[0;34m'\\n%s\\n%s\\n%s\\n'\u001b[0m \u001b[0;34m%\u001b[0m \u001b[0;34m(\u001b[0m\u001b[0msep\u001b[0m\u001b[0;34m,\u001b[0m \u001b[0mmsg\u001b[0m\u001b[0;34m,\u001b[0m \u001b[0msep\u001b[0m\u001b[0;34m)\u001b[0m\u001b[0;34m\u001b[0m\u001b[0;34m\u001b[0m\u001b[0m\n\u001b[0;32m--> 701\u001b[0;31m     \u001b[0;32mraise\u001b[0m \u001b[0mLookupError\u001b[0m\u001b[0;34m(\u001b[0m\u001b[0mresource_not_found\u001b[0m\u001b[0;34m)\u001b[0m\u001b[0;34m\u001b[0m\u001b[0;34m\u001b[0m\u001b[0m\n\u001b[0m\u001b[1;32m    702\u001b[0m \u001b[0;34m\u001b[0m\u001b[0m\n\u001b[1;32m    703\u001b[0m \u001b[0;34m\u001b[0m\u001b[0m\n",
      "\u001b[0;31mLookupError\u001b[0m: \n**********************************************************************\n  Resource \u001b[93mwordnet\u001b[0m not found.\n  Please use the NLTK Downloader to obtain the resource:\n\n  \u001b[31m>>> import nltk\n  >>> nltk.download('wordnet')\n  \u001b[0m\n  For more information see: https://www.nltk.org/data.html\n\n  Attempted to load \u001b[93mcorpora/wordnet\u001b[0m\n\n  Searched in:\n    - '/home/martha/nltk_data'\n    - '/home/martha/anaconda3/nltk_data'\n    - '/home/martha/anaconda3/share/nltk_data'\n    - '/home/martha/anaconda3/lib/nltk_data'\n    - '/usr/share/nltk_data'\n    - '/usr/local/share/nltk_data'\n    - '/usr/lib/nltk_data'\n    - '/usr/local/lib/nltk_data'\n**********************************************************************\n"
     ]
    }
   ],
   "source": [
    "lemmatizer.lemmatize('multiplying',pos='v')"
   ]
  },
  {
   "cell_type": "code",
   "execution_count": 67,
   "metadata": {},
   "outputs": [
    {
     "data": {
      "text/plain": [
       "[' this is the data science with SL class',\n",
       " 'AI class is the next class',\n",
       " 'and this is the third class ML',\n",
       " 'and this is the first SL class']"
      ]
     },
     "execution_count": 67,
     "metadata": {},
     "output_type": "execute_result"
    }
   ],
   "source": [
    "corpus=[' this is the data science with SL class',\n",
    "       'AI class is the next class',\n",
    "       'and this is the third class ML',\n",
    "       'and this is the first SL class']\n",
    "corpus"
   ]
  },
  {
   "cell_type": "code",
   "execution_count": 68,
   "metadata": {},
   "outputs": [],
   "source": [
    "# ngram_range =1,1 - 1 word each from the documnet\n",
    "vectorizer=CountVectorizer(ngram_range=(1,1))\n",
    "X=vectorizer.fit_transform(corpus)"
   ]
  },
  {
   "cell_type": "code",
   "execution_count": 69,
   "metadata": {},
   "outputs": [
    {
     "name": "stdout",
     "output_type": "stream",
     "text": [
      "['ai', 'and', 'class', 'data', 'first', 'is', 'ml', 'next', 'science', 'sl', 'the', 'third', 'this', 'with']\n"
     ]
    }
   ],
   "source": [
    "print(vectorizer.get_feature_names())"
   ]
  },
  {
   "cell_type": "code",
   "execution_count": 70,
   "metadata": {},
   "outputs": [
    {
     "data": {
      "text/plain": [
       "<4x14 sparse matrix of type '<class 'numpy.int64'>'\n",
       "\twith 27 stored elements in Compressed Sparse Row format>"
      ]
     },
     "execution_count": 70,
     "metadata": {},
     "output_type": "execute_result"
    }
   ],
   "source": [
    "X"
   ]
  },
  {
   "cell_type": "code",
   "execution_count": 71,
   "metadata": {},
   "outputs": [
    {
     "data": {
      "text/plain": [
       "array([[0, 0, 1, 1, 0, 1, 0, 0, 1, 1, 1, 0, 1, 1],\n",
       "       [1, 0, 2, 0, 0, 1, 0, 1, 0, 0, 1, 0, 0, 0],\n",
       "       [0, 1, 1, 0, 0, 1, 1, 0, 0, 0, 1, 1, 1, 0],\n",
       "       [0, 1, 1, 0, 1, 1, 0, 0, 0, 1, 1, 0, 1, 0]])"
      ]
     },
     "execution_count": 71,
     "metadata": {},
     "output_type": "execute_result"
    }
   ],
   "source": [
    "# array having 14 difffernt words and 4 rows\n",
    "# the freq for each word in the countverctorizer output\n",
    "X.toarray()"
   ]
  },
  {
   "cell_type": "code",
   "execution_count": null,
   "metadata": {},
   "outputs": [],
   "source": []
  }
 ],
 "metadata": {
  "kernelspec": {
   "display_name": "Python 3",
   "language": "python",
   "name": "python3"
  },
  "language_info": {
   "codemirror_mode": {
    "name": "ipython",
    "version": 3
   },
   "file_extension": ".py",
   "mimetype": "text/x-python",
   "name": "python",
   "nbconvert_exporter": "python",
   "pygments_lexer": "ipython3",
   "version": "3.7.6"
  }
 },
 "nbformat": 4,
 "nbformat_minor": 4
}
