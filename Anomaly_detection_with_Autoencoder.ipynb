{
  "nbformat": 4,
  "nbformat_minor": 0,
  "metadata": {
    "kernelspec": {
      "display_name": "Python 3",
      "language": "python",
      "name": "python3"
    },
    "language_info": {
      "codemirror_mode": {
        "name": "ipython",
        "version": 3
      },
      "file_extension": ".py",
      "mimetype": "text/x-python",
      "name": "python",
      "nbconvert_exporter": "python",
      "pygments_lexer": "ipython3",
      "version": "3.8.3"
    },
    "toc": {
      "base_numbering": 1,
      "nav_menu": {},
      "number_sections": true,
      "sideBar": true,
      "skip_h1_title": false,
      "title_cell": "Table of Contents",
      "title_sidebar": "Contents",
      "toc_cell": false,
      "toc_position": {},
      "toc_section_display": true,
      "toc_window_display": false
    },
    "colab": {
      "name": "Anomaly detection with Autoencoder.ipynb",
      "provenance": [],
      "collapsed_sections": []
    }
  },
  "cells": [
    {
      "cell_type": "code",
      "metadata": {
        "id": "9U3V7pIJJ8Mn"
      },
      "source": [
        "import tensorflow as tf\n",
        "import pandas as pd\n"
      ],
      "execution_count": null,
      "outputs": []
    },
    {
      "cell_type": "code",
      "metadata": {
        "id": "4TQN5RAOJ8Mw",
        "outputId": "abe45a3b-bc2e-4d99-ad3c-a1543c4e7613"
      },
      "source": [
        "data = pd.read_csv(\"ecg.csv\", header=None)\n",
        "data.head()"
      ],
      "execution_count": null,
      "outputs": [
        {
          "data": {
            "text/html": [
              "<div>\n",
              "<style scoped>\n",
              "    .dataframe tbody tr th:only-of-type {\n",
              "        vertical-align: middle;\n",
              "    }\n",
              "\n",
              "    .dataframe tbody tr th {\n",
              "        vertical-align: top;\n",
              "    }\n",
              "\n",
              "    .dataframe thead th {\n",
              "        text-align: right;\n",
              "    }\n",
              "</style>\n",
              "<table border=\"1\" class=\"dataframe\">\n",
              "  <thead>\n",
              "    <tr style=\"text-align: right;\">\n",
              "      <th></th>\n",
              "      <th>0</th>\n",
              "      <th>1</th>\n",
              "      <th>2</th>\n",
              "      <th>3</th>\n",
              "      <th>4</th>\n",
              "      <th>5</th>\n",
              "      <th>6</th>\n",
              "      <th>7</th>\n",
              "      <th>8</th>\n",
              "      <th>9</th>\n",
              "      <th>...</th>\n",
              "      <th>131</th>\n",
              "      <th>132</th>\n",
              "      <th>133</th>\n",
              "      <th>134</th>\n",
              "      <th>135</th>\n",
              "      <th>136</th>\n",
              "      <th>137</th>\n",
              "      <th>138</th>\n",
              "      <th>139</th>\n",
              "      <th>140</th>\n",
              "    </tr>\n",
              "  </thead>\n",
              "  <tbody>\n",
              "    <tr>\n",
              "      <th>0</th>\n",
              "      <td>-0.112522</td>\n",
              "      <td>-2.827204</td>\n",
              "      <td>-3.773897</td>\n",
              "      <td>-4.349751</td>\n",
              "      <td>-4.376041</td>\n",
              "      <td>-3.474986</td>\n",
              "      <td>-2.181408</td>\n",
              "      <td>-1.818287</td>\n",
              "      <td>-1.250522</td>\n",
              "      <td>-0.477492</td>\n",
              "      <td>...</td>\n",
              "      <td>0.792168</td>\n",
              "      <td>0.933541</td>\n",
              "      <td>0.796958</td>\n",
              "      <td>0.578621</td>\n",
              "      <td>0.257740</td>\n",
              "      <td>0.228077</td>\n",
              "      <td>0.123431</td>\n",
              "      <td>0.925286</td>\n",
              "      <td>0.193137</td>\n",
              "      <td>1.0</td>\n",
              "    </tr>\n",
              "    <tr>\n",
              "      <th>1</th>\n",
              "      <td>-1.100878</td>\n",
              "      <td>-3.996840</td>\n",
              "      <td>-4.285843</td>\n",
              "      <td>-4.506579</td>\n",
              "      <td>-4.022377</td>\n",
              "      <td>-3.234368</td>\n",
              "      <td>-1.566126</td>\n",
              "      <td>-0.992258</td>\n",
              "      <td>-0.754680</td>\n",
              "      <td>0.042321</td>\n",
              "      <td>...</td>\n",
              "      <td>0.538356</td>\n",
              "      <td>0.656881</td>\n",
              "      <td>0.787490</td>\n",
              "      <td>0.724046</td>\n",
              "      <td>0.555784</td>\n",
              "      <td>0.476333</td>\n",
              "      <td>0.773820</td>\n",
              "      <td>1.119621</td>\n",
              "      <td>-1.436250</td>\n",
              "      <td>1.0</td>\n",
              "    </tr>\n",
              "    <tr>\n",
              "      <th>2</th>\n",
              "      <td>-0.567088</td>\n",
              "      <td>-2.593450</td>\n",
              "      <td>-3.874230</td>\n",
              "      <td>-4.584095</td>\n",
              "      <td>-4.187449</td>\n",
              "      <td>-3.151462</td>\n",
              "      <td>-1.742940</td>\n",
              "      <td>-1.490658</td>\n",
              "      <td>-1.183580</td>\n",
              "      <td>-0.394229</td>\n",
              "      <td>...</td>\n",
              "      <td>0.886073</td>\n",
              "      <td>0.531452</td>\n",
              "      <td>0.311377</td>\n",
              "      <td>-0.021919</td>\n",
              "      <td>-0.713683</td>\n",
              "      <td>-0.532197</td>\n",
              "      <td>0.321097</td>\n",
              "      <td>0.904227</td>\n",
              "      <td>-0.421797</td>\n",
              "      <td>1.0</td>\n",
              "    </tr>\n",
              "    <tr>\n",
              "      <th>3</th>\n",
              "      <td>0.490473</td>\n",
              "      <td>-1.914407</td>\n",
              "      <td>-3.616364</td>\n",
              "      <td>-4.318823</td>\n",
              "      <td>-4.268016</td>\n",
              "      <td>-3.881110</td>\n",
              "      <td>-2.993280</td>\n",
              "      <td>-1.671131</td>\n",
              "      <td>-1.333884</td>\n",
              "      <td>-0.965629</td>\n",
              "      <td>...</td>\n",
              "      <td>0.350816</td>\n",
              "      <td>0.499111</td>\n",
              "      <td>0.600345</td>\n",
              "      <td>0.842069</td>\n",
              "      <td>0.952074</td>\n",
              "      <td>0.990133</td>\n",
              "      <td>1.086798</td>\n",
              "      <td>1.403011</td>\n",
              "      <td>-0.383564</td>\n",
              "      <td>1.0</td>\n",
              "    </tr>\n",
              "    <tr>\n",
              "      <th>4</th>\n",
              "      <td>0.800232</td>\n",
              "      <td>-0.874252</td>\n",
              "      <td>-2.384761</td>\n",
              "      <td>-3.973292</td>\n",
              "      <td>-4.338224</td>\n",
              "      <td>-3.802422</td>\n",
              "      <td>-2.534510</td>\n",
              "      <td>-1.783423</td>\n",
              "      <td>-1.594450</td>\n",
              "      <td>-0.753199</td>\n",
              "      <td>...</td>\n",
              "      <td>1.148884</td>\n",
              "      <td>0.958434</td>\n",
              "      <td>1.059025</td>\n",
              "      <td>1.371682</td>\n",
              "      <td>1.277392</td>\n",
              "      <td>0.960304</td>\n",
              "      <td>0.971020</td>\n",
              "      <td>1.614392</td>\n",
              "      <td>1.421456</td>\n",
              "      <td>1.0</td>\n",
              "    </tr>\n",
              "  </tbody>\n",
              "</table>\n",
              "<p>5 rows × 141 columns</p>\n",
              "</div>"
            ],
            "text/plain": [
              "        0         1         2         3         4         5         6    \\\n",
              "0 -0.112522 -2.827204 -3.773897 -4.349751 -4.376041 -3.474986 -2.181408   \n",
              "1 -1.100878 -3.996840 -4.285843 -4.506579 -4.022377 -3.234368 -1.566126   \n",
              "2 -0.567088 -2.593450 -3.874230 -4.584095 -4.187449 -3.151462 -1.742940   \n",
              "3  0.490473 -1.914407 -3.616364 -4.318823 -4.268016 -3.881110 -2.993280   \n",
              "4  0.800232 -0.874252 -2.384761 -3.973292 -4.338224 -3.802422 -2.534510   \n",
              "\n",
              "        7         8         9    ...       131       132       133       134  \\\n",
              "0 -1.818287 -1.250522 -0.477492  ...  0.792168  0.933541  0.796958  0.578621   \n",
              "1 -0.992258 -0.754680  0.042321  ...  0.538356  0.656881  0.787490  0.724046   \n",
              "2 -1.490658 -1.183580 -0.394229  ...  0.886073  0.531452  0.311377 -0.021919   \n",
              "3 -1.671131 -1.333884 -0.965629  ...  0.350816  0.499111  0.600345  0.842069   \n",
              "4 -1.783423 -1.594450 -0.753199  ...  1.148884  0.958434  1.059025  1.371682   \n",
              "\n",
              "        135       136       137       138       139  140  \n",
              "0  0.257740  0.228077  0.123431  0.925286  0.193137  1.0  \n",
              "1  0.555784  0.476333  0.773820  1.119621 -1.436250  1.0  \n",
              "2 -0.713683 -0.532197  0.321097  0.904227 -0.421797  1.0  \n",
              "3  0.952074  0.990133  1.086798  1.403011 -0.383564  1.0  \n",
              "4  1.277392  0.960304  0.971020  1.614392  1.421456  1.0  \n",
              "\n",
              "[5 rows x 141 columns]"
            ]
          },
          "execution_count": 3,
          "metadata": {},
          "output_type": "execute_result"
        }
      ]
    },
    {
      "cell_type": "code",
      "metadata": {
        "id": "Nv_4CVB9J8Mz",
        "outputId": "9ce7d5ac-ff8a-4b7c-c6d1-b6e6bd4106d9"
      },
      "source": [
        "data.shape"
      ],
      "execution_count": null,
      "outputs": [
        {
          "data": {
            "text/plain": [
              "(4998, 141)"
            ]
          },
          "execution_count": 4,
          "metadata": {},
          "output_type": "execute_result"
        }
      ]
    },
    {
      "cell_type": "code",
      "metadata": {
        "id": "BspRIPtyJ8M0",
        "outputId": "0d008d0d-5c6b-4c6c-e087-133beb938ad7"
      },
      "source": [
        "data.iloc[:, 140].nunique()"
      ],
      "execution_count": null,
      "outputs": [
        {
          "data": {
            "text/plain": [
              "2"
            ]
          },
          "execution_count": 12,
          "metadata": {},
          "output_type": "execute_result"
        }
      ]
    },
    {
      "cell_type": "code",
      "metadata": {
        "id": "cNNbd_twJ8M1",
        "outputId": "967d766f-9970-4d58-b6c3-80e486e987a0"
      },
      "source": [
        "data.iloc[:, 140].value_counts() #here anomaly is 0.0"
      ],
      "execution_count": null,
      "outputs": [
        {
          "data": {
            "text/plain": [
              "1.0    2919\n",
              "0.0    2079\n",
              "Name: 140, dtype: int64"
            ]
          },
          "execution_count": 10,
          "metadata": {},
          "output_type": "execute_result"
        }
      ]
    },
    {
      "cell_type": "code",
      "metadata": {
        "id": "jzUN03IIJ8M2"
      },
      "source": [
        "# 1 = normal, 0= anomaly\n",
        "\n",
        "# Autoncoder(normal, normal)\n",
        "# test = normal, abnormal\n",
        "\n",
        "# if abnormal or anormaly, the error will be %more than threshold\n",
        "\n",
        "\n",
        "\n",
        "output = 140\n",
        "\n",
        "features = data.drop(output, axis=1)\n",
        "target = data[output]\n",
        "\n",
        "from sklearn.model_selection import train_test_split\n",
        "\n",
        "xtrain, xtest, ytrain, ytest = train_test_split(features, target, test_size=0.2, random_state=12)\n"
      ],
      "execution_count": null,
      "outputs": []
    },
    {
      "cell_type": "code",
      "metadata": {
        "id": "r_iRWtL9J8M4"
      },
      "source": [
        "index1 = ytrain[ytrain==1].index\n",
        "train_data = xtrain.loc[index1]"
      ],
      "execution_count": null,
      "outputs": []
    },
    {
      "cell_type": "code",
      "metadata": {
        "id": "x2IRuI6TJ8M6",
        "outputId": "cd6a2484-ff1a-4088-c527-eb1e26129636"
      },
      "source": [
        "train_data.describe()"
      ],
      "execution_count": null,
      "outputs": [
        {
          "data": {
            "text/html": [
              "<div>\n",
              "<style scoped>\n",
              "    .dataframe tbody tr th:only-of-type {\n",
              "        vertical-align: middle;\n",
              "    }\n",
              "\n",
              "    .dataframe tbody tr th {\n",
              "        vertical-align: top;\n",
              "    }\n",
              "\n",
              "    .dataframe thead th {\n",
              "        text-align: right;\n",
              "    }\n",
              "</style>\n",
              "<table border=\"1\" class=\"dataframe\">\n",
              "  <thead>\n",
              "    <tr style=\"text-align: right;\">\n",
              "      <th></th>\n",
              "      <th>0</th>\n",
              "      <th>1</th>\n",
              "      <th>2</th>\n",
              "      <th>3</th>\n",
              "      <th>4</th>\n",
              "      <th>5</th>\n",
              "      <th>6</th>\n",
              "      <th>7</th>\n",
              "      <th>8</th>\n",
              "      <th>9</th>\n",
              "      <th>...</th>\n",
              "      <th>130</th>\n",
              "      <th>131</th>\n",
              "      <th>132</th>\n",
              "      <th>133</th>\n",
              "      <th>134</th>\n",
              "      <th>135</th>\n",
              "      <th>136</th>\n",
              "      <th>137</th>\n",
              "      <th>138</th>\n",
              "      <th>139</th>\n",
              "    </tr>\n",
              "  </thead>\n",
              "  <tbody>\n",
              "    <tr>\n",
              "      <th>count</th>\n",
              "      <td>2341.000000</td>\n",
              "      <td>2341.000000</td>\n",
              "      <td>2341.000000</td>\n",
              "      <td>2341.000000</td>\n",
              "      <td>2341.000000</td>\n",
              "      <td>2341.000000</td>\n",
              "      <td>2341.000000</td>\n",
              "      <td>2341.000000</td>\n",
              "      <td>2341.000000</td>\n",
              "      <td>2341.000000</td>\n",
              "      <td>...</td>\n",
              "      <td>2341.000000</td>\n",
              "      <td>2341.000000</td>\n",
              "      <td>2341.000000</td>\n",
              "      <td>2341.000000</td>\n",
              "      <td>2341.000000</td>\n",
              "      <td>2341.000000</td>\n",
              "      <td>2341.000000</td>\n",
              "      <td>2341.000000</td>\n",
              "      <td>2341.000000</td>\n",
              "      <td>2341.000000</td>\n",
              "    </tr>\n",
              "    <tr>\n",
              "      <th>mean</th>\n",
              "      <td>-0.363114</td>\n",
              "      <td>-2.188318</td>\n",
              "      <td>-3.285956</td>\n",
              "      <td>-3.956670</td>\n",
              "      <td>-3.862388</td>\n",
              "      <td>-3.252929</td>\n",
              "      <td>-2.284570</td>\n",
              "      <td>-1.625319</td>\n",
              "      <td>-1.188511</td>\n",
              "      <td>-0.640521</td>\n",
              "      <td>...</td>\n",
              "      <td>0.786358</td>\n",
              "      <td>0.954087</td>\n",
              "      <td>1.040210</td>\n",
              "      <td>1.009256</td>\n",
              "      <td>0.885146</td>\n",
              "      <td>0.619349</td>\n",
              "      <td>0.501843</td>\n",
              "      <td>0.478040</td>\n",
              "      <td>0.556952</td>\n",
              "      <td>-0.530895</td>\n",
              "    </tr>\n",
              "    <tr>\n",
              "      <th>std</th>\n",
              "      <td>1.265193</td>\n",
              "      <td>1.425413</td>\n",
              "      <td>1.007282</td>\n",
              "      <td>0.717215</td>\n",
              "      <td>0.567791</td>\n",
              "      <td>0.722397</td>\n",
              "      <td>0.693480</td>\n",
              "      <td>0.466291</td>\n",
              "      <td>0.494758</td>\n",
              "      <td>0.507413</td>\n",
              "      <td>...</td>\n",
              "      <td>0.617147</td>\n",
              "      <td>0.579412</td>\n",
              "      <td>0.564822</td>\n",
              "      <td>0.707281</td>\n",
              "      <td>0.880111</td>\n",
              "      <td>0.992202</td>\n",
              "      <td>1.014683</td>\n",
              "      <td>1.028462</td>\n",
              "      <td>1.033286</td>\n",
              "      <td>1.259144</td>\n",
              "    </tr>\n",
              "    <tr>\n",
              "      <th>min</th>\n",
              "      <td>-6.729499</td>\n",
              "      <td>-7.090374</td>\n",
              "      <td>-5.110389</td>\n",
              "      <td>-5.363241</td>\n",
              "      <td>-5.375715</td>\n",
              "      <td>-5.330194</td>\n",
              "      <td>-4.782240</td>\n",
              "      <td>-3.940538</td>\n",
              "      <td>-3.163394</td>\n",
              "      <td>-2.197911</td>\n",
              "      <td>...</td>\n",
              "      <td>-1.927187</td>\n",
              "      <td>-1.897036</td>\n",
              "      <td>-1.858455</td>\n",
              "      <td>-2.312900</td>\n",
              "      <td>-2.595044</td>\n",
              "      <td>-3.122098</td>\n",
              "      <td>-3.736786</td>\n",
              "      <td>-4.644772</td>\n",
              "      <td>-4.252266</td>\n",
              "      <td>-5.094438</td>\n",
              "    </tr>\n",
              "    <tr>\n",
              "      <th>25%</th>\n",
              "      <td>-1.230640</td>\n",
              "      <td>-3.196051</td>\n",
              "      <td>-4.027654</td>\n",
              "      <td>-4.415411</td>\n",
              "      <td>-4.194735</td>\n",
              "      <td>-3.745008</td>\n",
              "      <td>-2.774874</td>\n",
              "      <td>-1.834483</td>\n",
              "      <td>-1.530351</td>\n",
              "      <td>-0.990263</td>\n",
              "      <td>...</td>\n",
              "      <td>0.474887</td>\n",
              "      <td>0.727503</td>\n",
              "      <td>0.797492</td>\n",
              "      <td>0.747136</td>\n",
              "      <td>0.524796</td>\n",
              "      <td>0.180468</td>\n",
              "      <td>0.024440</td>\n",
              "      <td>-0.100192</td>\n",
              "      <td>-0.142556</td>\n",
              "      <td>-1.391791</td>\n",
              "    </tr>\n",
              "    <tr>\n",
              "      <th>50%</th>\n",
              "      <td>-0.495060</td>\n",
              "      <td>-2.428306</td>\n",
              "      <td>-3.484443</td>\n",
              "      <td>-4.151610</td>\n",
              "      <td>-3.934232</td>\n",
              "      <td>-3.334455</td>\n",
              "      <td>-2.200637</td>\n",
              "      <td>-1.628054</td>\n",
              "      <td>-1.284621</td>\n",
              "      <td>-0.625056</td>\n",
              "      <td>...</td>\n",
              "      <td>0.914641</td>\n",
              "      <td>1.047064</td>\n",
              "      <td>1.112452</td>\n",
              "      <td>1.132088</td>\n",
              "      <td>1.057633</td>\n",
              "      <td>0.824350</td>\n",
              "      <td>0.736966</td>\n",
              "      <td>0.706741</td>\n",
              "      <td>0.740470</td>\n",
              "      <td>-0.471432</td>\n",
              "    </tr>\n",
              "    <tr>\n",
              "      <th>75%</th>\n",
              "      <td>0.466564</td>\n",
              "      <td>-1.378322</td>\n",
              "      <td>-2.787035</td>\n",
              "      <td>-3.682342</td>\n",
              "      <td>-3.640484</td>\n",
              "      <td>-2.813190</td>\n",
              "      <td>-1.807586</td>\n",
              "      <td>-1.438637</td>\n",
              "      <td>-0.938966</td>\n",
              "      <td>-0.334908</td>\n",
              "      <td>...</td>\n",
              "      <td>1.196058</td>\n",
              "      <td>1.309012</td>\n",
              "      <td>1.373264</td>\n",
              "      <td>1.437701</td>\n",
              "      <td>1.458331</td>\n",
              "      <td>1.297573</td>\n",
              "      <td>1.191907</td>\n",
              "      <td>1.215522</td>\n",
              "      <td>1.303870</td>\n",
              "      <td>0.384981</td>\n",
              "    </tr>\n",
              "    <tr>\n",
              "      <th>max</th>\n",
              "      <td>4.966414</td>\n",
              "      <td>3.351136</td>\n",
              "      <td>1.628389</td>\n",
              "      <td>0.321795</td>\n",
              "      <td>0.566366</td>\n",
              "      <td>0.959135</td>\n",
              "      <td>1.435708</td>\n",
              "      <td>1.471382</td>\n",
              "      <td>1.683730</td>\n",
              "      <td>1.898627</td>\n",
              "      <td>...</td>\n",
              "      <td>2.550441</td>\n",
              "      <td>3.007606</td>\n",
              "      <td>2.797992</td>\n",
              "      <td>2.816664</td>\n",
              "      <td>2.824053</td>\n",
              "      <td>3.071365</td>\n",
              "      <td>3.206815</td>\n",
              "      <td>3.185404</td>\n",
              "      <td>2.900218</td>\n",
              "      <td>3.025085</td>\n",
              "    </tr>\n",
              "  </tbody>\n",
              "</table>\n",
              "<p>8 rows × 140 columns</p>\n",
              "</div>"
            ],
            "text/plain": [
              "               0            1            2            3            4    \\\n",
              "count  2341.000000  2341.000000  2341.000000  2341.000000  2341.000000   \n",
              "mean     -0.363114    -2.188318    -3.285956    -3.956670    -3.862388   \n",
              "std       1.265193     1.425413     1.007282     0.717215     0.567791   \n",
              "min      -6.729499    -7.090374    -5.110389    -5.363241    -5.375715   \n",
              "25%      -1.230640    -3.196051    -4.027654    -4.415411    -4.194735   \n",
              "50%      -0.495060    -2.428306    -3.484443    -4.151610    -3.934232   \n",
              "75%       0.466564    -1.378322    -2.787035    -3.682342    -3.640484   \n",
              "max       4.966414     3.351136     1.628389     0.321795     0.566366   \n",
              "\n",
              "               5            6            7            8            9    ...  \\\n",
              "count  2341.000000  2341.000000  2341.000000  2341.000000  2341.000000  ...   \n",
              "mean     -3.252929    -2.284570    -1.625319    -1.188511    -0.640521  ...   \n",
              "std       0.722397     0.693480     0.466291     0.494758     0.507413  ...   \n",
              "min      -5.330194    -4.782240    -3.940538    -3.163394    -2.197911  ...   \n",
              "25%      -3.745008    -2.774874    -1.834483    -1.530351    -0.990263  ...   \n",
              "50%      -3.334455    -2.200637    -1.628054    -1.284621    -0.625056  ...   \n",
              "75%      -2.813190    -1.807586    -1.438637    -0.938966    -0.334908  ...   \n",
              "max       0.959135     1.435708     1.471382     1.683730     1.898627  ...   \n",
              "\n",
              "               130          131          132          133          134  \\\n",
              "count  2341.000000  2341.000000  2341.000000  2341.000000  2341.000000   \n",
              "mean      0.786358     0.954087     1.040210     1.009256     0.885146   \n",
              "std       0.617147     0.579412     0.564822     0.707281     0.880111   \n",
              "min      -1.927187    -1.897036    -1.858455    -2.312900    -2.595044   \n",
              "25%       0.474887     0.727503     0.797492     0.747136     0.524796   \n",
              "50%       0.914641     1.047064     1.112452     1.132088     1.057633   \n",
              "75%       1.196058     1.309012     1.373264     1.437701     1.458331   \n",
              "max       2.550441     3.007606     2.797992     2.816664     2.824053   \n",
              "\n",
              "               135          136          137          138          139  \n",
              "count  2341.000000  2341.000000  2341.000000  2341.000000  2341.000000  \n",
              "mean      0.619349     0.501843     0.478040     0.556952    -0.530895  \n",
              "std       0.992202     1.014683     1.028462     1.033286     1.259144  \n",
              "min      -3.122098    -3.736786    -4.644772    -4.252266    -5.094438  \n",
              "25%       0.180468     0.024440    -0.100192    -0.142556    -1.391791  \n",
              "50%       0.824350     0.736966     0.706741     0.740470    -0.471432  \n",
              "75%       1.297573     1.191907     1.215522     1.303870     0.384981  \n",
              "max       3.071365     3.206815     3.185404     2.900218     3.025085  \n",
              "\n",
              "[8 rows x 140 columns]"
            ]
          },
          "execution_count": 20,
          "metadata": {},
          "output_type": "execute_result"
        }
      ]
    },
    {
      "cell_type": "code",
      "metadata": {
        "id": "D_FU3iN2J8M8"
      },
      "source": [
        "from sklearn.preprocessing import MinMaxScaler  #because it preserves range\n",
        "\n",
        "mm = MinMaxScaler(feature_range=(0,1))\n",
        "train_scaled = mm.fit_transform(train_data)\n",
        "test_scaled = mm.transform(xtest)\n",
        "\n",
        "\n",
        "#fit = learn\n",
        "#transform = apply"
      ],
      "execution_count": null,
      "outputs": []
    },
    {
      "cell_type": "code",
      "metadata": {
        "id": "XQYdvs1-J8M9"
      },
      "source": [
        "from tensorflow.keras.models import Model, Sequential\n",
        "from tensorflow.keras.layers import Dense, Dropout\n",
        "\n",
        "\n",
        "class Autoencoder(Model):\n",
        "    def __init__(self, decode_units, encode_units):\n",
        "        super().__init__()\n",
        "        self.encoder = Sequential([\n",
        "            Dense(64, activation='relu'),\n",
        "            Dense(32, activation='relu'),\n",
        "            Dense(16, activation='relu'),\n",
        "            Dense(encode_units, activation='relu'),\n",
        "\n",
        "        ])\n",
        "        \n",
        "        self.decoder = Sequential([\n",
        "            Dense(16, activation='relu'),\n",
        "            Dense(32, activation='relu'),\n",
        "            Dense(64, activation='relu'),\n",
        "            Dense(decode_units, activation='sigmoid'),\n",
        "\n",
        "        ])\n",
        "    \n",
        "    \n",
        "    def call(self, inputs):\n",
        "        encoder_output = self.encoder(inputs)\n",
        "        decoder_output = self.decoder(encoder_output)\n",
        "        return decoder_output\n",
        "        \n",
        "        \n"
      ],
      "execution_count": null,
      "outputs": []
    },
    {
      "cell_type": "code",
      "metadata": {
        "id": "2aHnGfwyJ8M_"
      },
      "source": [
        "model = Autoencoder(decode_units= train_scaled.shape[1], encode_units=8)"
      ],
      "execution_count": null,
      "outputs": []
    },
    {
      "cell_type": "code",
      "metadata": {
        "id": "QVg3oqb4J8M_"
      },
      "source": [
        "model.compile(loss= 'msle', metrics=['mse'], optimizer='adam')"
      ],
      "execution_count": null,
      "outputs": []
    },
    {
      "cell_type": "code",
      "metadata": {
        "id": "TgabbTyOJ8NA",
        "outputId": "032e7e3e-2e1b-43c9-90a1-8c2cda3ea42c"
      },
      "source": [
        "history = model.fit(train_scaled, train_scaled,\n",
        "         epochs=50,\n",
        "         batch_size=512,\n",
        "         validation_data=(test_scaled, test_scaled))"
      ],
      "execution_count": null,
      "outputs": [
        {
          "name": "stdout",
          "output_type": "stream",
          "text": [
            "Epoch 1/50\n",
            "5/5 [==============================] - 0s 24ms/step - loss: 0.0020 - mse: 0.0046 - val_loss: 0.0075 - val_mse: 0.0175\n",
            "Epoch 2/50\n",
            "5/5 [==============================] - 0s 12ms/step - loss: 0.0020 - mse: 0.0045 - val_loss: 0.0075 - val_mse: 0.0174\n",
            "Epoch 3/50\n",
            "5/5 [==============================] - 0s 11ms/step - loss: 0.0019 - mse: 0.0043 - val_loss: 0.0074 - val_mse: 0.0171\n",
            "Epoch 4/50\n",
            "5/5 [==============================] - 0s 13ms/step - loss: 0.0019 - mse: 0.0042 - val_loss: 0.0074 - val_mse: 0.0173\n",
            "Epoch 5/50\n",
            "5/5 [==============================] - 0s 12ms/step - loss: 0.0018 - mse: 0.0041 - val_loss: 0.0073 - val_mse: 0.0169\n",
            "Epoch 6/50\n",
            "5/5 [==============================] - 0s 11ms/step - loss: 0.0018 - mse: 0.0040 - val_loss: 0.0071 - val_mse: 0.0166\n",
            "Epoch 7/50\n",
            "5/5 [==============================] - 0s 11ms/step - loss: 0.0018 - mse: 0.0039 - val_loss: 0.0069 - val_mse: 0.0162\n",
            "Epoch 8/50\n",
            "5/5 [==============================] - 0s 12ms/step - loss: 0.0017 - mse: 0.0038 - val_loss: 0.0068 - val_mse: 0.0160\n",
            "Epoch 9/50\n",
            "5/5 [==============================] - 0s 11ms/step - loss: 0.0017 - mse: 0.0038 - val_loss: 0.0067 - val_mse: 0.0156\n",
            "Epoch 10/50\n",
            "5/5 [==============================] - 0s 12ms/step - loss: 0.0017 - mse: 0.0037 - val_loss: 0.0066 - val_mse: 0.0155\n",
            "Epoch 11/50\n",
            "5/5 [==============================] - 0s 13ms/step - loss: 0.0016 - mse: 0.0036 - val_loss: 0.0066 - val_mse: 0.0154\n",
            "Epoch 12/50\n",
            "5/5 [==============================] - 0s 12ms/step - loss: 0.0016 - mse: 0.0036 - val_loss: 0.0064 - val_mse: 0.0150\n",
            "Epoch 13/50\n",
            "5/5 [==============================] - 0s 12ms/step - loss: 0.0016 - mse: 0.0035 - val_loss: 0.0064 - val_mse: 0.0149\n",
            "Epoch 14/50\n",
            "5/5 [==============================] - 0s 13ms/step - loss: 0.0016 - mse: 0.0035 - val_loss: 0.0063 - val_mse: 0.0148\n",
            "Epoch 15/50\n",
            "5/5 [==============================] - 0s 11ms/step - loss: 0.0015 - mse: 0.0035 - val_loss: 0.0062 - val_mse: 0.0146\n",
            "Epoch 16/50\n",
            "5/5 [==============================] - 0s 13ms/step - loss: 0.0015 - mse: 0.0034 - val_loss: 0.0061 - val_mse: 0.0144\n",
            "Epoch 17/50\n",
            "5/5 [==============================] - 0s 12ms/step - loss: 0.0015 - mse: 0.0034 - val_loss: 0.0061 - val_mse: 0.0143\n",
            "Epoch 18/50\n",
            "5/5 [==============================] - 0s 13ms/step - loss: 0.0015 - mse: 0.0033 - val_loss: 0.0060 - val_mse: 0.0142\n",
            "Epoch 19/50\n",
            "5/5 [==============================] - 0s 12ms/step - loss: 0.0015 - mse: 0.0033 - val_loss: 0.0060 - val_mse: 0.0141\n",
            "Epoch 20/50\n",
            "5/5 [==============================] - 0s 12ms/step - loss: 0.0015 - mse: 0.0033 - val_loss: 0.0059 - val_mse: 0.0140\n",
            "Epoch 21/50\n",
            "5/5 [==============================] - 0s 12ms/step - loss: 0.0014 - mse: 0.0032 - val_loss: 0.0059 - val_mse: 0.0138\n",
            "Epoch 22/50\n",
            "5/5 [==============================] - 0s 13ms/step - loss: 0.0014 - mse: 0.0032 - val_loss: 0.0058 - val_mse: 0.0137\n",
            "Epoch 23/50\n",
            "5/5 [==============================] - 0s 12ms/step - loss: 0.0014 - mse: 0.0032 - val_loss: 0.0058 - val_mse: 0.0137\n",
            "Epoch 24/50\n",
            "5/5 [==============================] - 0s 12ms/step - loss: 0.0014 - mse: 0.0032 - val_loss: 0.0058 - val_mse: 0.0136\n",
            "Epoch 25/50\n",
            "5/5 [==============================] - 0s 12ms/step - loss: 0.0014 - mse: 0.0032 - val_loss: 0.0057 - val_mse: 0.0134\n",
            "Epoch 26/50\n",
            "5/5 [==============================] - 0s 12ms/step - loss: 0.0014 - mse: 0.0031 - val_loss: 0.0057 - val_mse: 0.0133\n",
            "Epoch 27/50\n",
            "5/5 [==============================] - 0s 12ms/step - loss: 0.0014 - mse: 0.0031 - val_loss: 0.0057 - val_mse: 0.0134\n",
            "Epoch 28/50\n",
            "5/5 [==============================] - 0s 12ms/step - loss: 0.0014 - mse: 0.0031 - val_loss: 0.0056 - val_mse: 0.0132\n",
            "Epoch 29/50\n",
            "5/5 [==============================] - 0s 11ms/step - loss: 0.0014 - mse: 0.0031 - val_loss: 0.0056 - val_mse: 0.0131\n",
            "Epoch 30/50\n",
            "5/5 [==============================] - 0s 12ms/step - loss: 0.0014 - mse: 0.0030 - val_loss: 0.0055 - val_mse: 0.0130\n",
            "Epoch 31/50\n",
            "5/5 [==============================] - 0s 12ms/step - loss: 0.0013 - mse: 0.0030 - val_loss: 0.0055 - val_mse: 0.0129\n",
            "Epoch 32/50\n",
            "5/5 [==============================] - 0s 12ms/step - loss: 0.0013 - mse: 0.0030 - val_loss: 0.0054 - val_mse: 0.0129\n",
            "Epoch 33/50\n",
            "5/5 [==============================] - 0s 12ms/step - loss: 0.0013 - mse: 0.0030 - val_loss: 0.0054 - val_mse: 0.0128\n",
            "Epoch 34/50\n",
            "5/5 [==============================] - 0s 11ms/step - loss: 0.0013 - mse: 0.0030 - val_loss: 0.0054 - val_mse: 0.0127\n",
            "Epoch 35/50\n",
            "5/5 [==============================] - 0s 12ms/step - loss: 0.0013 - mse: 0.0030 - val_loss: 0.0054 - val_mse: 0.0127\n",
            "Epoch 36/50\n",
            "5/5 [==============================] - 0s 12ms/step - loss: 0.0013 - mse: 0.0029 - val_loss: 0.0054 - val_mse: 0.0127\n",
            "Epoch 37/50\n",
            "5/5 [==============================] - 0s 11ms/step - loss: 0.0013 - mse: 0.0029 - val_loss: 0.0053 - val_mse: 0.0126\n",
            "Epoch 38/50\n",
            "5/5 [==============================] - 0s 12ms/step - loss: 0.0013 - mse: 0.0029 - val_loss: 0.0053 - val_mse: 0.0126\n",
            "Epoch 39/50\n",
            "5/5 [==============================] - 0s 11ms/step - loss: 0.0013 - mse: 0.0029 - val_loss: 0.0053 - val_mse: 0.0125\n",
            "Epoch 40/50\n",
            "5/5 [==============================] - 0s 13ms/step - loss: 0.0013 - mse: 0.0029 - val_loss: 0.0053 - val_mse: 0.0125\n",
            "Epoch 41/50\n",
            "5/5 [==============================] - 0s 13ms/step - loss: 0.0013 - mse: 0.0029 - val_loss: 0.0052 - val_mse: 0.0124\n",
            "Epoch 42/50\n",
            "5/5 [==============================] - 0s 15ms/step - loss: 0.0013 - mse: 0.0028 - val_loss: 0.0052 - val_mse: 0.0124\n",
            "Epoch 43/50\n",
            "5/5 [==============================] - 0s 14ms/step - loss: 0.0013 - mse: 0.0028 - val_loss: 0.0052 - val_mse: 0.0123\n",
            "Epoch 44/50\n",
            "5/5 [==============================] - 0s 13ms/step - loss: 0.0012 - mse: 0.0028 - val_loss: 0.0052 - val_mse: 0.0122\n",
            "Epoch 45/50\n",
            "5/5 [==============================] - 0s 12ms/step - loss: 0.0012 - mse: 0.0028 - val_loss: 0.0052 - val_mse: 0.0122\n",
            "Epoch 46/50\n",
            "5/5 [==============================] - 0s 12ms/step - loss: 0.0012 - mse: 0.0028 - val_loss: 0.0052 - val_mse: 0.0122\n",
            "Epoch 47/50\n",
            "5/5 [==============================] - 0s 11ms/step - loss: 0.0012 - mse: 0.0028 - val_loss: 0.0051 - val_mse: 0.0121\n",
            "Epoch 48/50\n",
            "5/5 [==============================] - 0s 12ms/step - loss: 0.0012 - mse: 0.0028 - val_loss: 0.0051 - val_mse: 0.0121\n",
            "Epoch 49/50\n",
            "5/5 [==============================] - 0s 11ms/step - loss: 0.0012 - mse: 0.0027 - val_loss: 0.0051 - val_mse: 0.0121\n",
            "Epoch 50/50\n",
            "5/5 [==============================] - 0s 12ms/step - loss: 0.0012 - mse: 0.0027 - val_loss: 0.0051 - val_mse: 0.0121\n"
          ]
        }
      ]
    },
    {
      "cell_type": "code",
      "metadata": {
        "id": "Ti2p25BIJ8NB",
        "outputId": "d29e9281-5db4-40b6-f4cb-4614df674e8b"
      },
      "source": [
        "import matplotlib.pyplot as plt\n",
        "plt.plot(history.history['loss'])\n",
        "plt.plot(history.history['val_loss'])"
      ],
      "execution_count": null,
      "outputs": [
        {
          "data": {
            "text/plain": [
              "[<matplotlib.lines.Line2D at 0x2262f10cc10>]"
            ]
          },
          "execution_count": 29,
          "metadata": {},
          "output_type": "execute_result"
        },
        {
          "data": {
            "image/png": "[encoded data removed]",
            "text/plain": [
              "<Figure size 432x288 with 1 Axes>"
            ]
          },
          "metadata": {
            "needs_background": "light"
          },
          "output_type": "display_data"
        }
      ]
    },
    {
      "cell_type": "code",
      "metadata": {
        "id": "cl4oDALoJ8NC"
      },
      "source": [
        "import numpy as np\n",
        "def threshold(model, train_scaled):\n",
        "    pred_train = model.predict(train_scaled)\n",
        "    error = tf.keras.losses.msle(pred_train,train_scaled )\n",
        "    \n",
        "    threshold1 = np.mean(error.numpy())+ np.std(error.numpy())\n",
        "    return threshold1 "
      ],
      "execution_count": null,
      "outputs": []
    },
    {
      "cell_type": "code",
      "metadata": {
        "id": "q4yIkjOcJ8NC"
      },
      "source": [
        "def prediction_test(model, test_scaled, threshold1):\n",
        "    pred_test = model.predict(test_scaled)\n",
        "    error_test = tf.keras.losses.msle(pred_test,test_scaled )\n",
        "    \n",
        "    anamolies = pd.Series(error_test)> threshold1\n",
        "    prediction= anamolies.map(lambda x: 0.0 if x==True else 1.0)\n",
        "    return prediction"
      ],
      "execution_count": null,
      "outputs": []
    },
    {
      "cell_type": "code",
      "metadata": {
        "id": "5H1ioRqXJ8NE"
      },
      "source": [
        "th = threshold(model, train_scaled)"
      ],
      "execution_count": null,
      "outputs": []
    },
    {
      "cell_type": "code",
      "metadata": {
        "id": "rVJirK2yJ8NE"
      },
      "source": [
        "pred = prediction_test(model, test_scaled, th)"
      ],
      "execution_count": null,
      "outputs": []
    },
    {
      "cell_type": "code",
      "metadata": {
        "id": "QfSILnTVJ8NF"
      },
      "source": [
        "from sklearn.metrics import accuracy_score\n",
        "accuracy_score(ytest, pred)"
      ],
      "execution_count": null,
      "outputs": []
    },
    {
      "cell_type": "code",
      "metadata": {
        "id": "dfIzvNXAN2vU"
      },
      "source": [
        "pred"
      ],
      "execution_count": null,
      "outputs": []
    }
  ]
}